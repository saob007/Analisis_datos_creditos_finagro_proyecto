{
 "cells": [
  {
   "cell_type": "markdown",
   "id": "2d8dad03-c1c9-44f5-8132-58fd0e0d3b31",
   "metadata": {},
   "source": [
    "# Análisis de dataset: Colocaciones de Crédito Sector Agropecuario (2021- 2024)\n",
    "### Suministrado por Fondo para el Financiamiento del Sector Agropecuario (FINAGRO)\n",
    "### Ministerio relacionado: Hacienda y Crédito Público\n",
    "#### API: https://www.datos.gov.co/resource/w3uf-w9ey.csv , última actualización: 29 de octubre de 2024\n",
    "##### Dataset tomado el 24 de noviembre de 2024\n",
    "##### Análisis realizado por Said Ali Oviedo Beltrán"
   ]
  },
  {
   "cell_type": "markdown",
   "id": "9f953594-5652-4083-a3b1-c87071f891c5",
   "metadata": {},
   "source": [
    "**___________________________________________________________________________________________________________________________________________________________________________________________**"
   ]
  },
  {
   "cell_type": "markdown",
   "id": "203d650e-e685-4756-be77-f93d3fcf5ab8",
   "metadata": {},
   "source": [
    "## Interés del negocio y Objetivos:\n",
    "\n",
    "**Interés del negocio**: Realizar ajustes en los fondos de créditos nacionales para el financiamiento de proyectos agropecuarios catagorizados como Microempresas, según la distribución de las necesidades financieras del sector en el pais.\n",
    "\n",
    "**Objetivos:**\n",
    "- Realizar la limpieza y validación adecuada del conjunto de datos.\n",
    "- Analizar e interpretar los datos, generar información de valor, y ayudar a los directivos de la institución a generar informes pertinentes.\n",
    "- Permitir a la directiva de la institución, tomar decisiones basadas en los descubrimientos claves de patrones y tendencias de los datos.\n",
    "- Proactivamente, identificar factores que puedan conducir a algún tipo de riesgo de crédito.\n",
    "\n",
    "**Reglas o hechos del negocio a tener en cuenta:**\n",
    "- El dataset comprende el registro de todas las operaciones realizadas entre el 01 de enero del 2021 y el 29 de octubre de 2024, sin omisión de ningún tipo.\n",
    "- La información recogida en el dataset es de dominio público a partir de su emisión oficial por parte de FINAGRO, y por tanto, su uso para proyectos investigativos es avalado por las leyes colombianas dispuestas para información abierta de orígen público.\n",
    "- FINAGRO busca promover el desarrollo rural y el sector de la agricultura mediante un fondo nacional de financiamiento abierto a cualquier persona que gestione proyectos sostenibles en este sector.\n",
    "- El dataset se compone de 1,814.266 registros y 26 campos.\n",
    "\n",
    "**Resúmen:**\n",
    "- Por hacer\n",
    "- Algunas preguntas que pueden conducir el EDA:\n",
    ">- ***QUIÉN*** es el sujeto que adquiere el crédito?\n",
    ">- ***POR QUÉ*** adquiere el crédito? \n",
    ">- ***CUANDO*** realizó la adquisión legál del crédito?\n",
    ">- ***CÓMO*** se distribuyen los fondos en la población sujeta de crédito?"
   ]
  },
  {
   "cell_type": "markdown",
   "id": "c574ee01-2c3b-4602-ac26-0404d9d28b58",
   "metadata": {},
   "source": [
    "**___________________________________________________________________________________________________________________________________________________________________________________________**"
   ]
  },
  {
   "cell_type": "markdown",
   "id": "5d6adbe1-7e6f-4c5b-ae98-f8675312ed2f",
   "metadata": {},
   "source": [
    "## Diccionario de los datos\n",
    "\n",
    "Nombre de la columna|Tipo de dato |Descripción\n",
    "-----|-----|-----|\n",
    "Corte Mes|obj|Corresponde al periodo (Año y Mes) en el que se generó la operación. Todos las operaciones de un mes se llevan al día 30 del mismo mes para efectos prácticos de recolección de datos\n",
    "fuente Colocacion|obj|Fuente de Fondeo de las operaciones de credito (Redescuento, Agropecuaria, Sustituta)\n",
    "Id Tipo Prod|int|Codigo correpondiente a la clasificación de productores de FINAGRO\n",
    "Tipo Productor|obj|Nombre correspondiente a la clasificación de productores de FINAGRO\n",
    "Valor Inversion|float|Valor total del proyecto a cargo del productor\n",
    "Colocacion|int|Valor del desembolso de la operación. (Valor del crédito)\n",
    "ID Depto|int|Codigo del Departamento de Colombia segun DANE, en donde se ejecutó el proyecto\n",
    "Departamento Inversion|int|Nombre del Departamento de Colombia según DANE, donde se ejecutó el proyecto.\n",
    "Id Munic|float|Codigo del Municipio de Colombia segun DANE, en donde se ejecutó el proyecto\n",
    "Municipio Inversion|float|Nombre del Municipio de Colombia según DANE, donde se ejecutó el proyecto\n",
    "Municipio de PostConflico?|int|Hace referencia, si el Municipio de Inversión donde se ejecutó el proyecto pertenece al Conjunto de Municipios afectados por la violencia Clasificados como municipios Postcoinflicto\n",
    "DEPCOL|int|Codigo del Departamento de Colombia segun DANE, en donde se otorgó el credito destinado al proyecto\n",
    "Departamento de Colocacion de Credito|obj|Nombre del Departamento de Colombia según DANE, en donde se otorgó el credito destinado al proyecto\n",
    "MUNCOL|int|Codigo del Municipio de Colombia segun DANE, en donde se otorgó el credito destinado al proyecto\n",
    "Municipio Colocacion de Credito|obj|Nombre del Municipio de Colombia según DANE, en donde se otorgó el credito destinado al proyecto\n",
    "Plazo|int|Número de meses para el pago de la operación\n",
    "Linea de Credito|obj|Clasificación de las actividades financiables (Capital de Trabajo, Inversión, Normalización de Cartera)\n",
    "Linea de Produccion|obj|Clasificación de las actividades financiables para cada Linea de Credito\n",
    "ID Rubro|int|Corresponde al codigo del destino asignado para la actividad financiada y registrada en FINAGRO\n",
    "Destino de Credito|obj|Corresponde al nombre del destino asignado para la actividad financiada y registrada en FINAGRO\n",
    "Genero|obj|\tSigla del género de la persona, \"S= Persona Juridica\", \"H=Hombre\", \"M=Mujer\"\n",
    "% FAG|float|Porcentaje de la Garantía FAG que respalda la operación desembolsada, No todas las operaciones tienen garantía\n",
    "Vlr Inic Garantia|int|Valor inicialmente garantízado por el FAG (Valor de laColocación por el % de Garantía FAG)\n",
    "LATITUD|float|Coordenadas de georeferciación del centro del Municipio de Inversión\n",
    "LONGITUD|float|Coordenadas de georeferciación del centro del Municipio de Inversión\n",
    "CANTIDAD|int|Valor de control"
   ]
  },
  {
   "cell_type": "markdown",
   "id": "9c43d627-2a09-42d8-81fe-da5f510146bd",
   "metadata": {},
   "source": [
    "**___________________________________________________________________________________________________________________________________________________________________________________________**"
   ]
  },
  {
   "cell_type": "markdown",
   "id": "b7124574-23d5-4dcf-9bb5-f7933b86c254",
   "metadata": {},
   "source": [
    "# <b><div style='padding:13px;background-color:#592321;color:white;border-radius:3px;font-size:110%;text-align: left'>1. Entendiendo el Dataset</div></b>"
   ]
  },
  {
   "cell_type": "markdown",
   "id": "bea136c7-b6a4-4a2a-bea6-337e47394e25",
   "metadata": {},
   "source": [
    "## Objetivo: Importar el conjunto de datos\n",
    "\n",
    "## Actividades:\n",
    "- Importar los paquetes y librerías a utilizar para el análisis exploratorio de datos\n",
    "- Crear un dataframe para almaenar el conjunto de datos en la memoria\n",
    "- Inspeccionar los datos"
   ]
  },
  {
   "cell_type": "markdown",
   "id": "9de49349-6d5c-4e64-8fb0-2f83ba8e4300",
   "metadata": {},
   "source": [
    "## Importar los paquetes y librerias"
   ]
  },
  {
   "cell_type": "code",
   "execution_count": 10,
   "id": "f11c1d12-2a8c-4662-88e4-6e7c2a4cd472",
   "metadata": {},
   "outputs": [],
   "source": [
    "import pandas as pd\n",
    "import numpy as np\n",
    "import matplotlib.pyplot as plt\n",
    "import seaborn as sns\n",
    "import datetime as dt"
   ]
  },
  {
   "cell_type": "markdown",
   "id": "cbd4044f-ac21-46f7-91db-5551f2247378",
   "metadata": {},
   "source": [
    "## Creación de un dataframe para conjunto de datos"
   ]
  },
  {
   "cell_type": "code",
   "execution_count": 12,
   "id": "cea1f4e2-2333-4cb1-b5bd-9a33f6484375",
   "metadata": {},
   "outputs": [],
   "source": [
    "data_path = 'M-dataset_agrocreditos_2021-2024.csv' # El dataset se encuentra en la misma raíz del localhost para este notebook"
   ]
  },
  {
   "cell_type": "code",
   "execution_count": 13,
   "id": "c2806719-8af6-487b-ad4d-e98613677166",
   "metadata": {},
   "outputs": [],
   "source": [
    "df = pd.read_csv(data_path) # Se crea el dataframe para la manipulación del dataset\n",
    "pd.set_option('display.max_columns', None) # Se configura para que se muestren siempre todas las columnas del dataframe"
   ]
  },
  {
   "cell_type": "markdown",
   "id": "626f73c9-d2bc-4f7d-9482-0cfdb8bb7d40",
   "metadata": {},
   "source": [
    "## Inspección de los datos"
   ]
  },
  {
   "cell_type": "code",
   "execution_count": 15,
   "id": "0efa93ee-d288-4aae-be20-6c3c796a2e9f",
   "metadata": {},
   "outputs": [
    {
     "data": {
      "text/plain": [
       "(1814266, 26)"
      ]
     },
     "execution_count": 15,
     "metadata": {},
     "output_type": "execute_result"
    }
   ],
   "source": [
    "df.shape # Se verificó que la estructura de la tabla coincida con la indicada en los metadatos de la fuente"
   ]
  },
  {
   "cell_type": "code",
   "execution_count": 16,
   "id": "3e8db8df-d868-4d0d-a246-4dd5bdccf9d4",
   "metadata": {},
   "outputs": [
    {
     "data": {
      "text/html": [
       "<div>\n",
       "<style scoped>\n",
       "    .dataframe tbody tr th:only-of-type {\n",
       "        vertical-align: middle;\n",
       "    }\n",
       "\n",
       "    .dataframe tbody tr th {\n",
       "        vertical-align: top;\n",
       "    }\n",
       "\n",
       "    .dataframe thead th {\n",
       "        text-align: right;\n",
       "    }\n",
       "</style>\n",
       "<table border=\"1\" class=\"dataframe\">\n",
       "  <thead>\n",
       "    <tr style=\"text-align: right;\">\n",
       "      <th></th>\n",
       "      <th>Corte Mes</th>\n",
       "      <th>fuente Colocacion</th>\n",
       "      <th>Id Tipo Prod</th>\n",
       "      <th>Tipo Productor</th>\n",
       "      <th>Valor Inversion</th>\n",
       "      <th>Colocacion</th>\n",
       "      <th>ID Depto</th>\n",
       "      <th>Departamento Inversion</th>\n",
       "      <th>Id Munic</th>\n",
       "      <th>Municipio Inversion</th>\n",
       "      <th>Municipio de PostConflico?</th>\n",
       "      <th>DEPCOL</th>\n",
       "      <th>Departamento de Colocacion de Credito</th>\n",
       "      <th>MUNCOL</th>\n",
       "      <th>Municipio Colocacion de Credito</th>\n",
       "      <th>Plazo</th>\n",
       "      <th>Linea de Credito</th>\n",
       "      <th>Linea de Produccion</th>\n",
       "      <th>ID Rubro</th>\n",
       "      <th>Destino de Credito</th>\n",
       "      <th>Genero</th>\n",
       "      <th>% FAG</th>\n",
       "      <th>Vlr Inic Garantia</th>\n",
       "      <th>LATITUD</th>\n",
       "      <th>LONGITUD</th>\n",
       "      <th>CANTIDAD</th>\n",
       "    </tr>\n",
       "  </thead>\n",
       "  <tbody>\n",
       "    <tr>\n",
       "      <th>0</th>\n",
       "      <td>2021-04-30</td>\n",
       "      <td>REDESCUENTO</td>\n",
       "      <td>1</td>\n",
       "      <td>MEDIANO</td>\n",
       "      <td>24,000,000</td>\n",
       "      <td>23,655,000</td>\n",
       "      <td>5</td>\n",
       "      <td>ANTIOQUIA</td>\n",
       "      <td>5,237</td>\n",
       "      <td>DONMATÍAS</td>\n",
       "      <td>S</td>\n",
       "      <td>5</td>\n",
       "      <td>ANTIOQUIA</td>\n",
       "      <td>5,237</td>\n",
       "      <td>DONMATÍAS</td>\n",
       "      <td>60</td>\n",
       "      <td>Inversión</td>\n",
       "      <td>COMPRA DE ANIMALES (I)</td>\n",
       "      <td>253,061</td>\n",
       "      <td>253061 Retención de vientres ganado bovino</td>\n",
       "      <td>H</td>\n",
       "      <td>NaN</td>\n",
       "      <td>NaN</td>\n",
       "      <td>6.500000</td>\n",
       "      <td>-75.333333</td>\n",
       "      <td>1</td>\n",
       "    </tr>\n",
       "    <tr>\n",
       "      <th>1</th>\n",
       "      <td>2021-04-30</td>\n",
       "      <td>REDESCUENTO</td>\n",
       "      <td>0</td>\n",
       "      <td>PEQUEÑO</td>\n",
       "      <td>6,000,000</td>\n",
       "      <td>5,000,000</td>\n",
       "      <td>68</td>\n",
       "      <td>SANTANDER</td>\n",
       "      <td>68,169</td>\n",
       "      <td>CHARTA</td>\n",
       "      <td>N</td>\n",
       "      <td>68</td>\n",
       "      <td>SANTANDER</td>\n",
       "      <td>68,001</td>\n",
       "      <td>BUCARAMANGA</td>\n",
       "      <td>36</td>\n",
       "      <td>Inversión</td>\n",
       "      <td>SIEMBRAS (I)</td>\n",
       "      <td>151,310</td>\n",
       "      <td>151310 Aguacate</td>\n",
       "      <td>H</td>\n",
       "      <td>80.0</td>\n",
       "      <td>4,000,000</td>\n",
       "      <td>7.300000</td>\n",
       "      <td>-72.966667</td>\n",
       "      <td>1</td>\n",
       "    </tr>\n",
       "    <tr>\n",
       "      <th>2</th>\n",
       "      <td>2021-04-30</td>\n",
       "      <td>REDESCUENTO</td>\n",
       "      <td>0</td>\n",
       "      <td>PEQUEÑO</td>\n",
       "      <td>8,200,000</td>\n",
       "      <td>8,200,000</td>\n",
       "      <td>41</td>\n",
       "      <td>HUILA</td>\n",
       "      <td>41,807</td>\n",
       "      <td>TIMANÁ</td>\n",
       "      <td>N</td>\n",
       "      <td>41</td>\n",
       "      <td>HUILA</td>\n",
       "      <td>41,807</td>\n",
       "      <td>TIMANÁ</td>\n",
       "      <td>62</td>\n",
       "      <td>Inversión</td>\n",
       "      <td>INFRAEST Y ADECU DE TIERRAS (I)</td>\n",
       "      <td>347,050</td>\n",
       "      <td>347050 Construcción beneficiaderos de café</td>\n",
       "      <td>H</td>\n",
       "      <td>80.0</td>\n",
       "      <td>6,560,000</td>\n",
       "      <td>2.000000</td>\n",
       "      <td>-75.916667</td>\n",
       "      <td>1</td>\n",
       "    </tr>\n",
       "    <tr>\n",
       "      <th>3</th>\n",
       "      <td>2021-04-30</td>\n",
       "      <td>REDESCUENTO</td>\n",
       "      <td>0</td>\n",
       "      <td>PEQUEÑO</td>\n",
       "      <td>15,000,000</td>\n",
       "      <td>15,000,000</td>\n",
       "      <td>85</td>\n",
       "      <td>CASANARE</td>\n",
       "      <td>85,139</td>\n",
       "      <td>MANÍ</td>\n",
       "      <td>S</td>\n",
       "      <td>85</td>\n",
       "      <td>CASANARE</td>\n",
       "      <td>85,139</td>\n",
       "      <td>MANÍ</td>\n",
       "      <td>144</td>\n",
       "      <td>Inversión</td>\n",
       "      <td>SIEMBRAS (I)</td>\n",
       "      <td>151,050</td>\n",
       "      <td>151050 Cacao</td>\n",
       "      <td>H</td>\n",
       "      <td>80.0</td>\n",
       "      <td>12,000,000</td>\n",
       "      <td>4.833333</td>\n",
       "      <td>-72.333333</td>\n",
       "      <td>1</td>\n",
       "    </tr>\n",
       "    <tr>\n",
       "      <th>4</th>\n",
       "      <td>2021-04-30</td>\n",
       "      <td>REDESCUENTO</td>\n",
       "      <td>0</td>\n",
       "      <td>PEQUEÑO</td>\n",
       "      <td>10,000,000</td>\n",
       "      <td>10,000,000</td>\n",
       "      <td>85</td>\n",
       "      <td>CASANARE</td>\n",
       "      <td>85,300</td>\n",
       "      <td>SABANALARGA</td>\n",
       "      <td>N</td>\n",
       "      <td>15</td>\n",
       "      <td>BOYACÁ</td>\n",
       "      <td>15,425</td>\n",
       "      <td>MACANAL</td>\n",
       "      <td>72</td>\n",
       "      <td>Inversión</td>\n",
       "      <td>SIEMBRAS (I)</td>\n",
       "      <td>141,060</td>\n",
       "      <td>141060 Caña panelera</td>\n",
       "      <td>M</td>\n",
       "      <td>80.0</td>\n",
       "      <td>8,000,000</td>\n",
       "      <td>4.853611</td>\n",
       "      <td>-73.043056</td>\n",
       "      <td>1</td>\n",
       "    </tr>\n",
       "  </tbody>\n",
       "</table>\n",
       "</div>"
      ],
      "text/plain": [
       "    Corte Mes fuente Colocacion  Id Tipo Prod Tipo Productor Valor Inversion  \\\n",
       "0  2021-04-30       REDESCUENTO             1        MEDIANO      24,000,000   \n",
       "1  2021-04-30       REDESCUENTO             0        PEQUEÑO       6,000,000   \n",
       "2  2021-04-30       REDESCUENTO             0        PEQUEÑO       8,200,000   \n",
       "3  2021-04-30       REDESCUENTO             0        PEQUEÑO      15,000,000   \n",
       "4  2021-04-30       REDESCUENTO             0        PEQUEÑO      10,000,000   \n",
       "\n",
       "   Colocacion  ID Depto Departamento Inversion Id Munic Municipio Inversion  \\\n",
       "0  23,655,000         5              ANTIOQUIA    5,237           DONMATÍAS   \n",
       "1   5,000,000        68              SANTANDER   68,169              CHARTA   \n",
       "2   8,200,000        41                  HUILA   41,807              TIMANÁ   \n",
       "3  15,000,000        85               CASANARE   85,139                MANÍ   \n",
       "4  10,000,000        85               CASANARE   85,300         SABANALARGA   \n",
       "\n",
       "  Municipio de PostConflico?  DEPCOL Departamento de Colocacion de Credito  \\\n",
       "0                          S       5                             ANTIOQUIA   \n",
       "1                          N      68                             SANTANDER   \n",
       "2                          N      41                                 HUILA   \n",
       "3                          S      85                              CASANARE   \n",
       "4                          N      15                                BOYACÁ   \n",
       "\n",
       "   MUNCOL Municipio Colocacion de Credito  Plazo Linea de Credito  \\\n",
       "0   5,237                       DONMATÍAS     60        Inversión   \n",
       "1  68,001                     BUCARAMANGA     36        Inversión   \n",
       "2  41,807                          TIMANÁ     62        Inversión   \n",
       "3  85,139                            MANÍ    144        Inversión   \n",
       "4  15,425                         MACANAL     72        Inversión   \n",
       "\n",
       "               Linea de Produccion ID Rubro  \\\n",
       "0           COMPRA DE ANIMALES (I)  253,061   \n",
       "1                     SIEMBRAS (I)  151,310   \n",
       "2  INFRAEST Y ADECU DE TIERRAS (I)  347,050   \n",
       "3                     SIEMBRAS (I)  151,050   \n",
       "4                     SIEMBRAS (I)  141,060   \n",
       "\n",
       "                           Destino de Credito Genero  % FAG Vlr Inic Garantia  \\\n",
       "0  253061 Retención de vientres ganado bovino      H    NaN               NaN   \n",
       "1                             151310 Aguacate      H   80.0         4,000,000   \n",
       "2  347050 Construcción beneficiaderos de café      H   80.0         6,560,000   \n",
       "3                                151050 Cacao      H   80.0        12,000,000   \n",
       "4                        141060 Caña panelera      M   80.0         8,000,000   \n",
       "\n",
       "    LATITUD   LONGITUD  CANTIDAD  \n",
       "0  6.500000 -75.333333         1  \n",
       "1  7.300000 -72.966667         1  \n",
       "2  2.000000 -75.916667         1  \n",
       "3  4.833333 -72.333333         1  \n",
       "4  4.853611 -73.043056         1  "
      ]
     },
     "execution_count": 16,
     "metadata": {},
     "output_type": "execute_result"
    }
   ],
   "source": [
    "df.head() # Se inspeccionan los 5 primeros registros del dataframe para tener un primer acercamiento a la disposición de datos"
   ]
  },
  {
   "cell_type": "markdown",
   "id": "26936eeb-9175-41b4-bfe4-cdeb0fba1f09",
   "metadata": {},
   "source": [
    "**Observaciones claves:**\n",
    "- No hay campos (columnas) duplicados.\n",
    "- El nombre de los campos no estan estandarizados bajo una convencion de nomenclatura, única.\n",
    "- Es necesario realizar una normalización de datos y limpieza de campos innecesarios para el EDA."
   ]
  },
  {
   "cell_type": "code",
   "execution_count": 18,
   "id": "41d39449-459f-4d5e-9d83-026f029ea0de",
   "metadata": {},
   "outputs": [
    {
     "name": "stdout",
     "output_type": "stream",
     "text": [
      "<class 'pandas.core.frame.DataFrame'>\n",
      "RangeIndex: 1814266 entries, 0 to 1814265\n",
      "Data columns (total 26 columns):\n",
      " #   Column                                 Dtype  \n",
      "---  ------                                 -----  \n",
      " 0   Corte Mes                              object \n",
      " 1   fuente Colocacion                      object \n",
      " 2   Id Tipo Prod                           int64  \n",
      " 3   Tipo Productor                         object \n",
      " 4   Valor Inversion                        object \n",
      " 5   Colocacion                             object \n",
      " 6   ID Depto                               int64  \n",
      " 7   Departamento Inversion                 object \n",
      " 8   Id Munic                               object \n",
      " 9   Municipio Inversion                    object \n",
      " 10  Municipio de PostConflico?             object \n",
      " 11  DEPCOL                                 int64  \n",
      " 12  Departamento de Colocacion de Credito  object \n",
      " 13  MUNCOL                                 object \n",
      " 14  Municipio Colocacion de Credito        object \n",
      " 15  Plazo                                  int64  \n",
      " 16  Linea de Credito                       object \n",
      " 17  Linea de Produccion                    object \n",
      " 18  ID Rubro                               object \n",
      " 19  Destino de Credito                     object \n",
      " 20  Genero                                 object \n",
      " 21  % FAG                                  float64\n",
      " 22  Vlr Inic Garantia                      object \n",
      " 23  LATITUD                                float64\n",
      " 24  LONGITUD                               float64\n",
      " 25  CANTIDAD                               int64  \n",
      "dtypes: float64(3), int64(5), object(18)\n",
      "memory usage: 359.9+ MB\n"
     ]
    }
   ],
   "source": [
    "df.info()"
   ]
  },
  {
   "cell_type": "code",
   "execution_count": 19,
   "id": "3a58cbde-519f-48e3-b5c5-852100e49d39",
   "metadata": {},
   "outputs": [
    {
     "data": {
      "text/plain": [
       "Corte Mes                                 object\n",
       "Departamento de Colocacion de Credito     object\n",
       "Vlr Inic Garantia                         object\n",
       "Genero                                    object\n",
       "Destino de Credito                        object\n",
       "ID Rubro                                  object\n",
       "Linea de Produccion                       object\n",
       "Linea de Credito                          object\n",
       "Municipio Colocacion de Credito           object\n",
       "fuente Colocacion                         object\n",
       "MUNCOL                                    object\n",
       "Municipio de PostConflico?                object\n",
       "Municipio Inversion                       object\n",
       "Id Munic                                  object\n",
       "Departamento Inversion                    object\n",
       "Colocacion                                object\n",
       "Valor Inversion                           object\n",
       "Tipo Productor                            object\n",
       "% FAG                                    float64\n",
       "LATITUD                                  float64\n",
       "LONGITUD                                 float64\n",
       "DEPCOL                                     int64\n",
       "Plazo                                      int64\n",
       "ID Depto                                   int64\n",
       "Id Tipo Prod                               int64\n",
       "CANTIDAD                                   int64\n",
       "dtype: object"
      ]
     },
     "execution_count": 19,
     "metadata": {},
     "output_type": "execute_result"
    }
   ],
   "source": [
    "df.dtypes.sort_values(ascending=False)"
   ]
  },
  {
   "cell_type": "markdown",
   "id": "d8bba52f-202e-401b-be40-5eb6d9f49982",
   "metadata": {},
   "source": [
    "**Observaciones claves:**\n",
    "- 18 campos son de tipo objet (texto o string)\n",
    "- 05 campos son de tipo float64 (decimales)\n",
    "- 03 campos son de tipo int64 (enteros)\n",
    "- El campo 'Corte Mes'se debe convertir a tipo 'datetime' para analizarse como periodo de tiempo\n",
    "- El campo 'Vlr Inic Garantia','Colocacion' y 'Valor Inversion' hace referencia a una variable discreta así que debe convertirse a entero (int)\n",
    "- Se verificó que dataframe contiene los mismos registros (rows) y campos (columns) del dataset fuente"
   ]
  },
  {
   "cell_type": "markdown",
   "id": "ea3eae9b-db5a-47f5-9e27-ec7c4b96f845",
   "metadata": {},
   "source": [
    "# <b><div style='padding:13px;background-color:#592321;color:white;border-radius:3px;font-size:110%;text-align: left'>2. EDA: Depuración & Preparación de datos para análisis</div></b>"
   ]
  },
  {
   "cell_type": "markdown",
   "id": "03dbeb93-007c-4b3b-be8e-afe340415ba9",
   "metadata": {},
   "source": [
    "## Objetivo: Depurar el dataframe con el objetivo de corregir inconsistencias que conduzcan a un análisis erroneo más profundo  de los datos\n",
    "#### Marco de trabajo utilizado: The 6 Practices of EDA by Google (Discovering, Structuring, Cleaning, Joining, Validating and Presenting)\n",
    "\n",
    "## Actividades:\n",
    "- Reescribir los nombres de las columnas para facilitar su manipulación más adelante\n",
    "- Utilizar el formato (type) correcto de las variables (campos):\n",
    "    - 'Corte Mes'\n",
    "    - 'Vlr Inic Garantia'\n",
    "    - 'Colocacion'\n",
    "    - 'Valor Inversion'\n",
    "    - 'id_munic'\n",
    "    - 'id_rubro'\n",
    "    - 'muncol'\n",
    "- Reinspección del conjunto de datos\n",
    "- Eliminar campos (columnas) irrelevantes para el análisis posterior de los datos\n",
    "- Identificar y gestionar los posibles registros duplicados (filas o rows)\n",
    "- Identificar y gestionar los valores de campos vacios\n",
    "- Verificar y gestionar la integridad de los campos categóricos que se vayan a utilizar en el EDA\n",
    "    - 'fuente_colocacion'\n",
    "    - 'id_tipo_prod' y 'tipo_productor'\n",
    "    - 'id_depto' y 'departamento_inversion'\n",
    "    - 'depcol' y 'departamento_de_colocacion'\n",
    "    - 'id_munic' y 'municipio_inversion'\n",
    "    - 'id_rubro' y 'destino_de_credito'\n",
    "    - 'muncol' y 'municipio_colocacion'\n",
    "    - 'linea_de_credito'\n",
    "    - 'linea_de_produccion'\n",
    "    - 'genero'\n",
    "    - 'municipio_de_postconflico'\n",
    "- Transformar la morfología del conjunto de datos (campos nuevos)"
   ]
  },
  {
   "cell_type": "markdown",
   "id": "e75051f9-e5c8-43e7-abd3-796d88557ef0",
   "metadata": {},
   "source": [
    "## Actividad #1: Estandarizar los nombres de las columnas"
   ]
  },
  {
   "cell_type": "code",
   "execution_count": 24,
   "id": "327f9f86-0592-4f95-a4ab-08c6dfac683f",
   "metadata": {},
   "outputs": [
    {
     "data": {
      "text/html": [
       "<div>\n",
       "<style scoped>\n",
       "    .dataframe tbody tr th:only-of-type {\n",
       "        vertical-align: middle;\n",
       "    }\n",
       "\n",
       "    .dataframe tbody tr th {\n",
       "        vertical-align: top;\n",
       "    }\n",
       "\n",
       "    .dataframe thead th {\n",
       "        text-align: right;\n",
       "    }\n",
       "</style>\n",
       "<table border=\"1\" class=\"dataframe\">\n",
       "  <thead>\n",
       "    <tr style=\"text-align: right;\">\n",
       "      <th></th>\n",
       "      <th>corte_mes</th>\n",
       "      <th>fuente_colocacion</th>\n",
       "      <th>id_tipo_prod</th>\n",
       "      <th>tipo_productor</th>\n",
       "      <th>valor_inversion</th>\n",
       "      <th>colocacion</th>\n",
       "      <th>id_depto</th>\n",
       "      <th>departamento_inversion</th>\n",
       "      <th>id_munic</th>\n",
       "      <th>municipio_inversion</th>\n",
       "      <th>municipio_de_postconflicto</th>\n",
       "      <th>depcol</th>\n",
       "      <th>departamento_de_colocacion</th>\n",
       "      <th>muncol</th>\n",
       "      <th>municipio_colocacion</th>\n",
       "      <th>plazo</th>\n",
       "      <th>linea_de_credito</th>\n",
       "      <th>linea_de_produccion</th>\n",
       "      <th>id_rubro</th>\n",
       "      <th>destino_de_credito</th>\n",
       "      <th>genero</th>\n",
       "      <th>fag</th>\n",
       "      <th>vlr_inic_garantia</th>\n",
       "      <th>latitud</th>\n",
       "      <th>longitud</th>\n",
       "      <th>cantidad</th>\n",
       "    </tr>\n",
       "  </thead>\n",
       "  <tbody>\n",
       "    <tr>\n",
       "      <th>0</th>\n",
       "      <td>2021-04-30</td>\n",
       "      <td>REDESCUENTO</td>\n",
       "      <td>1</td>\n",
       "      <td>MEDIANO</td>\n",
       "      <td>24,000,000</td>\n",
       "      <td>23,655,000</td>\n",
       "      <td>5</td>\n",
       "      <td>ANTIOQUIA</td>\n",
       "      <td>5,237</td>\n",
       "      <td>DONMATÍAS</td>\n",
       "      <td>S</td>\n",
       "      <td>5</td>\n",
       "      <td>ANTIOQUIA</td>\n",
       "      <td>5,237</td>\n",
       "      <td>DONMATÍAS</td>\n",
       "      <td>60</td>\n",
       "      <td>Inversión</td>\n",
       "      <td>COMPRA DE ANIMALES (I)</td>\n",
       "      <td>253,061</td>\n",
       "      <td>253061 Retención de vientres ganado bovino</td>\n",
       "      <td>H</td>\n",
       "      <td>NaN</td>\n",
       "      <td>NaN</td>\n",
       "      <td>6.5</td>\n",
       "      <td>-75.333333</td>\n",
       "      <td>1</td>\n",
       "    </tr>\n",
       "    <tr>\n",
       "      <th>1</th>\n",
       "      <td>2021-04-30</td>\n",
       "      <td>REDESCUENTO</td>\n",
       "      <td>0</td>\n",
       "      <td>PEQUEÑO</td>\n",
       "      <td>6,000,000</td>\n",
       "      <td>5,000,000</td>\n",
       "      <td>68</td>\n",
       "      <td>SANTANDER</td>\n",
       "      <td>68,169</td>\n",
       "      <td>CHARTA</td>\n",
       "      <td>N</td>\n",
       "      <td>68</td>\n",
       "      <td>SANTANDER</td>\n",
       "      <td>68,001</td>\n",
       "      <td>BUCARAMANGA</td>\n",
       "      <td>36</td>\n",
       "      <td>Inversión</td>\n",
       "      <td>SIEMBRAS (I)</td>\n",
       "      <td>151,310</td>\n",
       "      <td>151310 Aguacate</td>\n",
       "      <td>H</td>\n",
       "      <td>80.0</td>\n",
       "      <td>4,000,000</td>\n",
       "      <td>7.3</td>\n",
       "      <td>-72.966667</td>\n",
       "      <td>1</td>\n",
       "    </tr>\n",
       "  </tbody>\n",
       "</table>\n",
       "</div>"
      ],
      "text/plain": [
       "    corte_mes fuente_colocacion  id_tipo_prod tipo_productor valor_inversion  \\\n",
       "0  2021-04-30       REDESCUENTO             1        MEDIANO      24,000,000   \n",
       "1  2021-04-30       REDESCUENTO             0        PEQUEÑO       6,000,000   \n",
       "\n",
       "   colocacion  id_depto departamento_inversion id_munic municipio_inversion  \\\n",
       "0  23,655,000         5              ANTIOQUIA    5,237           DONMATÍAS   \n",
       "1   5,000,000        68              SANTANDER   68,169              CHARTA   \n",
       "\n",
       "  municipio_de_postconflicto  depcol departamento_de_colocacion  muncol  \\\n",
       "0                          S       5                  ANTIOQUIA   5,237   \n",
       "1                          N      68                  SANTANDER  68,001   \n",
       "\n",
       "  municipio_colocacion  plazo linea_de_credito     linea_de_produccion  \\\n",
       "0            DONMATÍAS     60        Inversión  COMPRA DE ANIMALES (I)   \n",
       "1          BUCARAMANGA     36        Inversión            SIEMBRAS (I)   \n",
       "\n",
       "  id_rubro                          destino_de_credito genero   fag  \\\n",
       "0  253,061  253061 Retención de vientres ganado bovino      H   NaN   \n",
       "1  151,310                             151310 Aguacate      H  80.0   \n",
       "\n",
       "  vlr_inic_garantia  latitud   longitud  cantidad  \n",
       "0               NaN      6.5 -75.333333         1  \n",
       "1         4,000,000      7.3 -72.966667         1  "
      ]
     },
     "execution_count": 24,
     "metadata": {},
     "output_type": "execute_result"
    }
   ],
   "source": [
    "df.columns # Se inspecciona la lista con el nombre actual de los campos\n",
    "new_columns_name = ['corte_mes', 'fuente_colocacion', 'id_tipo_prod', 'tipo_productor',\n",
    "       'valor_inversion', 'colocacion', 'id_depto', 'departamento_inversion',\n",
    "       'id_munic', 'municipio_inversion', 'municipio_de_postconflicto',\n",
    "       'depcol', 'departamento_de_colocacion', 'muncol',\n",
    "       'municipio_colocacion', 'plazo', 'linea_de_credito',\n",
    "       'linea_de_produccion', 'id_rubro', 'destino_de_credito', 'genero',\n",
    "       'fag', 'vlr_inic_garantia', 'latitud', 'longitud', 'cantidad'] # Se crea una nueva lista con los nombres nuevos estandarizados\n",
    "df.columns = new_columns_name # Se asigna el nuevo nombre de cada columna manteniendo el orden de la lista\n",
    "df.head(2) # Se imprimen los 2 primeros registros para verificar el cambio satisfactorios de los nombres de campo"
   ]
  },
  {
   "cell_type": "markdown",
   "id": "91d7cd55-23a3-4a2e-8b57-c45446a844ff",
   "metadata": {},
   "source": [
    "## Actividad #2.1: Utilizar el formato (type) correcto del campo (columna) : 'corte_mes'"
   ]
  },
  {
   "cell_type": "code",
   "execution_count": 26,
   "id": "a10293bf-a3cf-4d72-a615-376387ce8c70",
   "metadata": {},
   "outputs": [
    {
     "data": {
      "text/plain": [
       "corte_mes\n",
       "2021-01-30    30861\n",
       "2021-02-30    39651\n",
       "2021-03-30    41926\n",
       "2021-04-30    38293\n",
       "2021-05-30    31309\n",
       "2021-06-30    40064\n",
       "2021-07-30    43237\n",
       "2021-08-30    49478\n",
       "2021-09-30    41345\n",
       "2021-10-30    43274\n",
       "2021-11-30    41326\n",
       "2021-12-30    39214\n",
       "2022-01-30    36549\n",
       "2022-02-30    39277\n",
       "2022-03-30    40743\n",
       "2022-04-30    42432\n",
       "2022-05-30    42509\n",
       "2022-06-30    41381\n",
       "2022-07-30    39436\n",
       "2022-08-30    46330\n",
       "2022-09-30    41506\n",
       "2022-10-30    44362\n",
       "2022-11-30    40449\n",
       "2022-12-30    44229\n",
       "2023-01-30    48092\n",
       "2023-02-30    36969\n",
       "2023-03-30    49178\n",
       "2023-04-30    37556\n",
       "2023-05-30    42938\n",
       "2023-06-30    47974\n",
       "2023-07-30    44911\n",
       "2023-08-30    46477\n",
       "2023-09-30    48774\n",
       "2023-10-30    45008\n",
       "2023-11-30    43452\n",
       "2023-12-30    42234\n",
       "2024-01-30    38157\n",
       "2024-02-30    36475\n",
       "2024-03-30    29385\n",
       "2024-04-30    33810\n",
       "2024-05-30    35633\n",
       "2024-06-30    29197\n",
       "2024-07-30    35533\n",
       "2024-08-30    32653\n",
       "2024-09-30    30679\n",
       "Name: count, dtype: int64"
      ]
     },
     "execution_count": 26,
     "metadata": {},
     "output_type": "execute_result"
    }
   ],
   "source": [
    "df['corte_mes'].value_counts().sort_index() # Observamos que algunas fechas se encuentran ingresadas incorrectamente, y por tanto, hay irregularidas en\n",
    "# la secuencia de cortes ya que no todos los meses termina el dia 30 como es el caso de Febrero."
   ]
  },
  {
   "cell_type": "code",
   "execution_count": 27,
   "id": "9bc5f67a-6766-44bb-9c7e-8ded2fb18505",
   "metadata": {},
   "outputs": [],
   "source": [
    "df['corte_mes'] = df['corte_mes'].str.replace('-30','') # Eliminamos el dato 'dia' del datetime para volverlos a signar correctamente más adelante"
   ]
  },
  {
   "cell_type": "code",
   "execution_count": 28,
   "id": "744b6e44-86c4-4467-93da-43a66cb45293",
   "metadata": {},
   "outputs": [
    {
     "data": {
      "text/plain": [
       "corte_mes\n",
       "2021-01    30861\n",
       "2021-02    39651\n",
       "2021-03    41926\n",
       "2021-04    38293\n",
       "2021-05    31309\n",
       "2021-06    40064\n",
       "2021-07    43237\n",
       "2021-08    49478\n",
       "2021-09    41345\n",
       "2021-10    43274\n",
       "2021-11    41326\n",
       "2021-12    39214\n",
       "2022-01    36549\n",
       "2022-02    39277\n",
       "2022-03    40743\n",
       "2022-04    42432\n",
       "2022-05    42509\n",
       "2022-06    41381\n",
       "2022-07    39436\n",
       "2022-08    46330\n",
       "2022-09    41506\n",
       "2022-10    44362\n",
       "2022-11    40449\n",
       "2022-12    44229\n",
       "2023-01    48092\n",
       "2023-02    36969\n",
       "2023-03    49178\n",
       "2023-04    37556\n",
       "2023-05    42938\n",
       "2023-06    47974\n",
       "2023-07    44911\n",
       "2023-08    46477\n",
       "2023-09    48774\n",
       "2023-10    45008\n",
       "2023-11    43452\n",
       "2023-12    42234\n",
       "2024-01    38157\n",
       "2024-02    36475\n",
       "2024-03    29385\n",
       "2024-04    33810\n",
       "2024-05    35633\n",
       "2024-06    29197\n",
       "2024-07    35533\n",
       "2024-08    32653\n",
       "2024-09    30679\n",
       "Name: count, dtype: int64"
      ]
     },
     "execution_count": 28,
     "metadata": {},
     "output_type": "execute_result"
    }
   ],
   "source": [
    "df['corte_mes'].value_counts().sort_index() # Validamos que la eliminación del día actual se haya realizado correctamente"
   ]
  },
  {
   "cell_type": "code",
   "execution_count": 29,
   "id": "020d8141-1362-4ad9-9de3-43c1e437bb7f",
   "metadata": {},
   "outputs": [
    {
     "data": {
      "text/plain": [
       "corte_mes\n",
       "2021-01-31    30861\n",
       "2021-02-28    39651\n",
       "2021-03-31    41926\n",
       "2021-04-30    38293\n",
       "2021-05-31    31309\n",
       "2021-06-30    40064\n",
       "2021-07-31    43237\n",
       "2021-08-31    49478\n",
       "2021-09-30    41345\n",
       "2021-10-31    43274\n",
       "2021-11-30    41326\n",
       "2021-12-31    39214\n",
       "2022-01-31    36549\n",
       "2022-02-28    39277\n",
       "2022-03-31    40743\n",
       "2022-04-30    42432\n",
       "2022-05-31    42509\n",
       "2022-06-30    41381\n",
       "2022-07-31    39436\n",
       "2022-08-31    46330\n",
       "2022-09-30    41506\n",
       "2022-10-31    44362\n",
       "2022-11-30    40449\n",
       "2022-12-31    44229\n",
       "2023-01-31    48092\n",
       "2023-02-28    36969\n",
       "2023-03-31    49178\n",
       "2023-04-30    37556\n",
       "2023-05-31    42938\n",
       "2023-06-30    47974\n",
       "2023-07-31    44911\n",
       "2023-08-31    46477\n",
       "2023-09-30    48774\n",
       "2023-10-31    45008\n",
       "2023-11-30    43452\n",
       "2023-12-31    42234\n",
       "2024-01-31    38157\n",
       "2024-02-29    36475\n",
       "2024-03-31    29385\n",
       "2024-04-30    33810\n",
       "2024-05-31    35633\n",
       "2024-06-30    29197\n",
       "2024-07-31    35533\n",
       "2024-08-31    32653\n",
       "2024-09-30    30679\n",
       "Name: count, dtype: int64"
      ]
     },
     "execution_count": 29,
     "metadata": {},
     "output_type": "execute_result"
    }
   ],
   "source": [
    "df['corte_mes'] = pd.to_datetime(df['corte_mes'], format='%Y-%m') # Cambiamos el campo al formato datetime de pandas\n",
    "df['corte_mes'] = df['corte_mes'] + pd.offsets.MonthEnd(0) # Indicamos que se asigne el último dia correcto del mes \n",
    "df['corte_mes'].value_counts().sort_index() # Hacemos la comprobación del cambio"
   ]
  },
  {
   "cell_type": "markdown",
   "id": "30924eba-00db-4d8f-a197-d1c61dd38ad6",
   "metadata": {},
   "source": [
    "## Actividad #2.2: Utilizar el formato (type) correcto del campo (columna) : 'valor_inversion'"
   ]
  },
  {
   "cell_type": "code",
   "execution_count": 31,
   "id": "38b5f7a5-799e-4729-8168-bd7f6c379c47",
   "metadata": {},
   "outputs": [],
   "source": [
    "df['valor_inversion'] = df['valor_inversion'].str.replace(',','') #eliminamos la coma de milésimas del string\n",
    "df['valor_inversion'] = df['valor_inversion'].astype(float) # convertimos los valores a float"
   ]
  },
  {
   "cell_type": "markdown",
   "id": "38c44b48-e8c4-4a57-b5cc-94dfc49ff03c",
   "metadata": {},
   "source": [
    "## Actividad #2.3: Utilizar el formato (type) correcto del campo (columna) : 'colocacion'"
   ]
  },
  {
   "cell_type": "code",
   "execution_count": 33,
   "id": "1a1d814f-398f-40b0-8e56-f871b69be512",
   "metadata": {},
   "outputs": [],
   "source": [
    "df['colocacion'] = df['colocacion'].str.replace(',','') # eliminamos la coma de milésimas del string\n",
    "df['colocacion'] = df['colocacion'].astype(float) # convertimos los valores a float"
   ]
  },
  {
   "cell_type": "markdown",
   "id": "483f531f-21f8-4376-9e14-6b816642a9ae",
   "metadata": {},
   "source": [
    "## Actividad #2.4: Utilizar el formato (type) correcto del campo (columna) : 'vlr_inic_garantia'"
   ]
  },
  {
   "cell_type": "code",
   "execution_count": 35,
   "id": "a7d27c1b-0c8e-4ad5-90bd-66cdf4781a6e",
   "metadata": {},
   "outputs": [],
   "source": [
    "df['vlr_inic_garantia'] = df['vlr_inic_garantia'].str.replace(',','') # eliminamos la coma de milésimas del string\n",
    "df['vlr_inic_garantia'] = df['vlr_inic_garantia'].astype(float) # convertimos los valores a float"
   ]
  },
  {
   "cell_type": "markdown",
   "id": "2abe76d4-66ba-4ac6-be9d-70524edb2917",
   "metadata": {},
   "source": [
    "## Actividad #2.5: Utilizar el formato (type) correcto del campo (columna) : 'id_munic'"
   ]
  },
  {
   "cell_type": "code",
   "execution_count": 37,
   "id": "2694eeda-d597-4be6-8854-4954157fed98",
   "metadata": {},
   "outputs": [],
   "source": [
    "df['id_munic'] = df['id_munic'].str.replace(',','') # eliminamos la coma de milésimas del string\n",
    "df['id_munic'] = df['id_munic'].astype('int64') # convertimos los valores a integer"
   ]
  },
  {
   "cell_type": "markdown",
   "id": "3775bb12-c740-47e3-9edf-da5e1f112a37",
   "metadata": {},
   "source": [
    "## Actividad #2.6: Utilizar el formato (type) correcto del campo (columna) : 'id_rubro'"
   ]
  },
  {
   "cell_type": "code",
   "execution_count": 39,
   "id": "41ddb7c6-b843-44f5-b2a2-3eddb37dd0ff",
   "metadata": {},
   "outputs": [],
   "source": [
    "df['id_rubro'] = df['id_rubro'].str.replace(',','') # eliminamos la coma de milésimas del string\n",
    "df['id_rubro'] = df['id_rubro'].astype('int64') # convertimos los valores a integer"
   ]
  },
  {
   "cell_type": "markdown",
   "id": "22ab0b4d-ab62-4d50-ad4b-cec4bb0f3e1d",
   "metadata": {},
   "source": [
    "## Actividad #2.7: Utilizar el formato (type) correcto del campo (columna) : 'muncol'"
   ]
  },
  {
   "cell_type": "code",
   "execution_count": 41,
   "id": "6c7ed083-edee-41cc-ac62-b688c0606a57",
   "metadata": {},
   "outputs": [],
   "source": [
    "df['muncol'] = df['muncol'].str.replace(',','') # eliminamos la coma de milésimas del string\n",
    "df['muncol'] = df['muncol'].astype('int64') # convertimos los valores a integer"
   ]
  },
  {
   "cell_type": "markdown",
   "id": "0f64a2e3-e5d2-4a09-8133-d61dfd9cb31f",
   "metadata": {},
   "source": [
    "## Actividad #3: Reinspección del conjunto de datos"
   ]
  },
  {
   "cell_type": "markdown",
   "id": "2106c403-4198-4ad3-8e4e-28cc450aefd6",
   "metadata": {},
   "source": [
    "#### Comprobamos que los cambios en el formato de campos se hayan realizado correctamente"
   ]
  },
  {
   "cell_type": "code",
   "execution_count": 44,
   "id": "77753f6d-c67c-4ebc-b1cd-3b831395524e",
   "metadata": {},
   "outputs": [
    {
     "name": "stdout",
     "output_type": "stream",
     "text": [
      "<class 'pandas.core.frame.DataFrame'>\n",
      "RangeIndex: 1814266 entries, 0 to 1814265\n",
      "Data columns (total 26 columns):\n",
      " #   Column                      Dtype         \n",
      "---  ------                      -----         \n",
      " 0   corte_mes                   datetime64[ns]\n",
      " 1   fuente_colocacion           object        \n",
      " 2   id_tipo_prod                int64         \n",
      " 3   tipo_productor              object        \n",
      " 4   valor_inversion             float64       \n",
      " 5   colocacion                  float64       \n",
      " 6   id_depto                    int64         \n",
      " 7   departamento_inversion      object        \n",
      " 8   id_munic                    int64         \n",
      " 9   municipio_inversion         object        \n",
      " 10  municipio_de_postconflicto  object        \n",
      " 11  depcol                      int64         \n",
      " 12  departamento_de_colocacion  object        \n",
      " 13  muncol                      int64         \n",
      " 14  municipio_colocacion        object        \n",
      " 15  plazo                       int64         \n",
      " 16  linea_de_credito            object        \n",
      " 17  linea_de_produccion         object        \n",
      " 18  id_rubro                    int64         \n",
      " 19  destino_de_credito          object        \n",
      " 20  genero                      object        \n",
      " 21  fag                         float64       \n",
      " 22  vlr_inic_garantia           float64       \n",
      " 23  latitud                     float64       \n",
      " 24  longitud                    float64       \n",
      " 25  cantidad                    int64         \n",
      "dtypes: datetime64[ns](1), float64(6), int64(8), object(11)\n",
      "memory usage: 359.9+ MB\n"
     ]
    }
   ],
   "source": [
    "df['corte_mes'].dtype, df['valor_inversion'].dtype, df['colocacion'].dtype, df['vlr_inic_garantia'].dtype\n",
    "# Todos los tipos de datos fueron cambiados correctamente\n",
    "df.info()"
   ]
  },
  {
   "cell_type": "markdown",
   "id": "2a1bae32-bc59-43c7-b854-8afbbedd2cb8",
   "metadata": {},
   "source": [
    "**Observaciones claves:**\n",
    "- Se estandarizó el nombre de los campos utilizando snake case y lower case\n",
    "- El tipo de dato del campo 'corte_mes' se cambió a datetime64 de pandas, y además, se reasignaron correctamente los días últimos de mes\n",
    "- El tipo de dato del campo 'valor_inversion' se cambió a float64\n",
    "- El tipo de dato del campo 'colocacion' se cambió a float64\n",
    "- El tipo de dato del campo 'vlr_inic_garantia' se cambió a float64\n",
    "- Existe un único campo con formato datetime de pandas como debe de ser.\n",
    "- Existen 6 campos con datos de tipo float64 que coinciden con la naturaleza continua de los datos en cada uno.\n",
    "- Existen 5 campos con datos tipo int64 que coinciden con la naturaleza discreta de los dato en cada uno.\n",
    "- Existen 14 campos con datos tipo object que coinciden con la naturaleza alphanumérica de los datos en cada uno."
   ]
  },
  {
   "cell_type": "markdown",
   "id": "299eae5e-3be0-404a-a111-32412aa4fe8c",
   "metadata": {},
   "source": [
    "#### Revisamos las estadísticas descriptivas y características del dataframe "
   ]
  },
  {
   "cell_type": "code",
   "execution_count": 47,
   "id": "e967614d-87ad-46d1-a6a9-db59c816a553",
   "metadata": {},
   "outputs": [
    {
     "data": {
      "text/html": [
       "<div>\n",
       "<style scoped>\n",
       "    .dataframe tbody tr th:only-of-type {\n",
       "        vertical-align: middle;\n",
       "    }\n",
       "\n",
       "    .dataframe tbody tr th {\n",
       "        vertical-align: top;\n",
       "    }\n",
       "\n",
       "    .dataframe thead th {\n",
       "        text-align: right;\n",
       "    }\n",
       "</style>\n",
       "<table border=\"1\" class=\"dataframe\">\n",
       "  <thead>\n",
       "    <tr style=\"text-align: right;\">\n",
       "      <th></th>\n",
       "      <th>corte_mes</th>\n",
       "      <th>fuente_colocacion</th>\n",
       "      <th>id_tipo_prod</th>\n",
       "      <th>tipo_productor</th>\n",
       "      <th>valor_inversion</th>\n",
       "      <th>colocacion</th>\n",
       "      <th>id_depto</th>\n",
       "      <th>departamento_inversion</th>\n",
       "      <th>id_munic</th>\n",
       "      <th>municipio_inversion</th>\n",
       "      <th>municipio_de_postconflicto</th>\n",
       "      <th>depcol</th>\n",
       "      <th>departamento_de_colocacion</th>\n",
       "      <th>muncol</th>\n",
       "      <th>municipio_colocacion</th>\n",
       "      <th>plazo</th>\n",
       "      <th>linea_de_credito</th>\n",
       "      <th>linea_de_produccion</th>\n",
       "      <th>id_rubro</th>\n",
       "      <th>destino_de_credito</th>\n",
       "      <th>genero</th>\n",
       "      <th>fag</th>\n",
       "      <th>vlr_inic_garantia</th>\n",
       "      <th>latitud</th>\n",
       "      <th>longitud</th>\n",
       "      <th>cantidad</th>\n",
       "    </tr>\n",
       "  </thead>\n",
       "  <tbody>\n",
       "    <tr>\n",
       "      <th>count</th>\n",
       "      <td>1814266</td>\n",
       "      <td>1814266</td>\n",
       "      <td>1.814266e+06</td>\n",
       "      <td>1814266</td>\n",
       "      <td>1.814266e+06</td>\n",
       "      <td>1.814266e+06</td>\n",
       "      <td>1.814266e+06</td>\n",
       "      <td>1814266</td>\n",
       "      <td>1.814266e+06</td>\n",
       "      <td>1814266</td>\n",
       "      <td>1814264</td>\n",
       "      <td>1.814266e+06</td>\n",
       "      <td>1814266</td>\n",
       "      <td>1.814266e+06</td>\n",
       "      <td>1814266</td>\n",
       "      <td>1.814266e+06</td>\n",
       "      <td>1814266</td>\n",
       "      <td>1814266</td>\n",
       "      <td>1.814266e+06</td>\n",
       "      <td>1814266</td>\n",
       "      <td>1814266</td>\n",
       "      <td>1.162412e+06</td>\n",
       "      <td>1.162412e+06</td>\n",
       "      <td>1.814264e+06</td>\n",
       "      <td>1.814264e+06</td>\n",
       "      <td>1814266.0</td>\n",
       "    </tr>\n",
       "    <tr>\n",
       "      <th>unique</th>\n",
       "      <td>NaN</td>\n",
       "      <td>3</td>\n",
       "      <td>NaN</td>\n",
       "      <td>4</td>\n",
       "      <td>NaN</td>\n",
       "      <td>NaN</td>\n",
       "      <td>NaN</td>\n",
       "      <td>33</td>\n",
       "      <td>NaN</td>\n",
       "      <td>1032</td>\n",
       "      <td>2</td>\n",
       "      <td>NaN</td>\n",
       "      <td>33</td>\n",
       "      <td>NaN</td>\n",
       "      <td>791</td>\n",
       "      <td>NaN</td>\n",
       "      <td>3</td>\n",
       "      <td>17</td>\n",
       "      <td>NaN</td>\n",
       "      <td>585</td>\n",
       "      <td>3</td>\n",
       "      <td>NaN</td>\n",
       "      <td>NaN</td>\n",
       "      <td>NaN</td>\n",
       "      <td>NaN</td>\n",
       "      <td>NaN</td>\n",
       "    </tr>\n",
       "    <tr>\n",
       "      <th>top</th>\n",
       "      <td>NaN</td>\n",
       "      <td>REDESCUENTO</td>\n",
       "      <td>NaN</td>\n",
       "      <td>PEQUEÑO</td>\n",
       "      <td>NaN</td>\n",
       "      <td>NaN</td>\n",
       "      <td>NaN</td>\n",
       "      <td>BOYACÁ</td>\n",
       "      <td>NaN</td>\n",
       "      <td>BOGOTÁ, D.C.</td>\n",
       "      <td>N</td>\n",
       "      <td>NaN</td>\n",
       "      <td>ANTIOQUIA</td>\n",
       "      <td>NaN</td>\n",
       "      <td>BOGOTÁ, D.C.</td>\n",
       "      <td>NaN</td>\n",
       "      <td>Capital de Trabajo</td>\n",
       "      <td>SOSTENIMIENTO (CT)</td>\n",
       "      <td>NaN</td>\n",
       "      <td>165000 CAPITAL DE TRABAJO - MICROCRÉDITO AGROP...</td>\n",
       "      <td>H</td>\n",
       "      <td>NaN</td>\n",
       "      <td>NaN</td>\n",
       "      <td>NaN</td>\n",
       "      <td>NaN</td>\n",
       "      <td>NaN</td>\n",
       "    </tr>\n",
       "    <tr>\n",
       "      <th>freq</th>\n",
       "      <td>NaN</td>\n",
       "      <td>1282659</td>\n",
       "      <td>NaN</td>\n",
       "      <td>1083436</td>\n",
       "      <td>NaN</td>\n",
       "      <td>NaN</td>\n",
       "      <td>NaN</td>\n",
       "      <td>185580</td>\n",
       "      <td>NaN</td>\n",
       "      <td>19976</td>\n",
       "      <td>1254724</td>\n",
       "      <td>NaN</td>\n",
       "      <td>193653</td>\n",
       "      <td>NaN</td>\n",
       "      <td>75978</td>\n",
       "      <td>NaN</td>\n",
       "      <td>958943</td>\n",
       "      <td>433364</td>\n",
       "      <td>NaN</td>\n",
       "      <td>155175</td>\n",
       "      <td>1069924</td>\n",
       "      <td>NaN</td>\n",
       "      <td>NaN</td>\n",
       "      <td>NaN</td>\n",
       "      <td>NaN</td>\n",
       "      <td>NaN</td>\n",
       "    </tr>\n",
       "    <tr>\n",
       "      <th>mean</th>\n",
       "      <td>2022-11-19 20:55:32.849316608</td>\n",
       "      <td>NaN</td>\n",
       "      <td>9.251334e-01</td>\n",
       "      <td>NaN</td>\n",
       "      <td>8.054797e+07</td>\n",
       "      <td>6.062292e+07</td>\n",
       "      <td>3.881858e+01</td>\n",
       "      <td>NaN</td>\n",
       "      <td>3.922802e+04</td>\n",
       "      <td>NaN</td>\n",
       "      <td>NaN</td>\n",
       "      <td>3.749889e+01</td>\n",
       "      <td>NaN</td>\n",
       "      <td>3.785937e+04</td>\n",
       "      <td>NaN</td>\n",
       "      <td>4.319889e+01</td>\n",
       "      <td>NaN</td>\n",
       "      <td>NaN</td>\n",
       "      <td>2.205485e+05</td>\n",
       "      <td>NaN</td>\n",
       "      <td>NaN</td>\n",
       "      <td>8.007142e+01</td>\n",
       "      <td>1.188626e+07</td>\n",
       "      <td>5.075137e+00</td>\n",
       "      <td>-7.492341e+01</td>\n",
       "      <td>1.0</td>\n",
       "    </tr>\n",
       "    <tr>\n",
       "      <th>min</th>\n",
       "      <td>2021-01-31 00:00:00</td>\n",
       "      <td>NaN</td>\n",
       "      <td>0.000000e+00</td>\n",
       "      <td>NaN</td>\n",
       "      <td>1.000000e+00</td>\n",
       "      <td>1.000000e+00</td>\n",
       "      <td>5.000000e+00</td>\n",
       "      <td>NaN</td>\n",
       "      <td>5.001000e+03</td>\n",
       "      <td>NaN</td>\n",
       "      <td>NaN</td>\n",
       "      <td>5.000000e+00</td>\n",
       "      <td>NaN</td>\n",
       "      <td>5.001000e+03</td>\n",
       "      <td>NaN</td>\n",
       "      <td>1.000000e+00</td>\n",
       "      <td>NaN</td>\n",
       "      <td>NaN</td>\n",
       "      <td>1.010020e+05</td>\n",
       "      <td>NaN</td>\n",
       "      <td>NaN</td>\n",
       "      <td>1.000000e+00</td>\n",
       "      <td>8.320000e+04</td>\n",
       "      <td>-4.215278e+00</td>\n",
       "      <td>-8.175000e+01</td>\n",
       "      <td>1.0</td>\n",
       "    </tr>\n",
       "    <tr>\n",
       "      <th>25%</th>\n",
       "      <td>2021-12-31 00:00:00</td>\n",
       "      <td>NaN</td>\n",
       "      <td>0.000000e+00</td>\n",
       "      <td>NaN</td>\n",
       "      <td>4.000000e+06</td>\n",
       "      <td>3.574970e+06</td>\n",
       "      <td>1.700000e+01</td>\n",
       "      <td>NaN</td>\n",
       "      <td>1.704200e+04</td>\n",
       "      <td>NaN</td>\n",
       "      <td>NaN</td>\n",
       "      <td>1.500000e+01</td>\n",
       "      <td>NaN</td>\n",
       "      <td>1.572000e+04</td>\n",
       "      <td>NaN</td>\n",
       "      <td>1.300000e+01</td>\n",
       "      <td>NaN</td>\n",
       "      <td>NaN</td>\n",
       "      <td>1.411010e+05</td>\n",
       "      <td>NaN</td>\n",
       "      <td>NaN</td>\n",
       "      <td>8.000000e+01</td>\n",
       "      <td>4.000000e+06</td>\n",
       "      <td>3.166667e+00</td>\n",
       "      <td>-7.600000e+01</td>\n",
       "      <td>1.0</td>\n",
       "    </tr>\n",
       "    <tr>\n",
       "      <th>50%</th>\n",
       "      <td>2022-11-30 00:00:00</td>\n",
       "      <td>NaN</td>\n",
       "      <td>0.000000e+00</td>\n",
       "      <td>NaN</td>\n",
       "      <td>1.000000e+07</td>\n",
       "      <td>9.854420e+06</td>\n",
       "      <td>2.700000e+01</td>\n",
       "      <td>NaN</td>\n",
       "      <td>2.724500e+04</td>\n",
       "      <td>NaN</td>\n",
       "      <td>NaN</td>\n",
       "      <td>2.500000e+01</td>\n",
       "      <td>NaN</td>\n",
       "      <td>2.579700e+04</td>\n",
       "      <td>NaN</td>\n",
       "      <td>3.600000e+01</td>\n",
       "      <td>NaN</td>\n",
       "      <td>NaN</td>\n",
       "      <td>1.650000e+05</td>\n",
       "      <td>NaN</td>\n",
       "      <td>NaN</td>\n",
       "      <td>8.000000e+01</td>\n",
       "      <td>8.000000e+06</td>\n",
       "      <td>5.166667e+00</td>\n",
       "      <td>-7.513333e+01</td>\n",
       "      <td>1.0</td>\n",
       "    </tr>\n",
       "    <tr>\n",
       "      <th>75%</th>\n",
       "      <td>2023-09-30 00:00:00</td>\n",
       "      <td>NaN</td>\n",
       "      <td>2.000000e+00</td>\n",
       "      <td>NaN</td>\n",
       "      <td>1.900000e+07</td>\n",
       "      <td>1.800000e+07</td>\n",
       "      <td>6.600000e+01</td>\n",
       "      <td>NaN</td>\n",
       "      <td>6.607500e+04</td>\n",
       "      <td>NaN</td>\n",
       "      <td>NaN</td>\n",
       "      <td>6.300000e+01</td>\n",
       "      <td>NaN</td>\n",
       "      <td>6.300100e+04</td>\n",
       "      <td>NaN</td>\n",
       "      <td>6.800000e+01</td>\n",
       "      <td>NaN</td>\n",
       "      <td>NaN</td>\n",
       "      <td>2.531000e+05</td>\n",
       "      <td>NaN</td>\n",
       "      <td>NaN</td>\n",
       "      <td>8.000000e+01</td>\n",
       "      <td>1.360000e+07</td>\n",
       "      <td>6.450000e+00</td>\n",
       "      <td>-7.363333e+01</td>\n",
       "      <td>1.0</td>\n",
       "    </tr>\n",
       "    <tr>\n",
       "      <th>max</th>\n",
       "      <td>2024-09-30 00:00:00</td>\n",
       "      <td>NaN</td>\n",
       "      <td>3.000000e+00</td>\n",
       "      <td>NaN</td>\n",
       "      <td>1.499500e+12</td>\n",
       "      <td>3.000000e+11</td>\n",
       "      <td>9.900000e+01</td>\n",
       "      <td>NaN</td>\n",
       "      <td>9.977300e+04</td>\n",
       "      <td>NaN</td>\n",
       "      <td>NaN</td>\n",
       "      <td>9.900000e+01</td>\n",
       "      <td>NaN</td>\n",
       "      <td>9.977300e+04</td>\n",
       "      <td>NaN</td>\n",
       "      <td>2.450000e+02</td>\n",
       "      <td>NaN</td>\n",
       "      <td>NaN</td>\n",
       "      <td>9.200090e+05</td>\n",
       "      <td>NaN</td>\n",
       "      <td>NaN</td>\n",
       "      <td>1.000000e+02</td>\n",
       "      <td>3.969476e+09</td>\n",
       "      <td>1.257686e+01</td>\n",
       "      <td>-6.704646e+01</td>\n",
       "      <td>1.0</td>\n",
       "    </tr>\n",
       "    <tr>\n",
       "      <th>std</th>\n",
       "      <td>NaN</td>\n",
       "      <td>NaN</td>\n",
       "      <td>1.264380e+00</td>\n",
       "      <td>NaN</td>\n",
       "      <td>2.477272e+09</td>\n",
       "      <td>1.123156e+09</td>\n",
       "      <td>2.546015e+01</td>\n",
       "      <td>NaN</td>\n",
       "      <td>2.544703e+04</td>\n",
       "      <td>NaN</td>\n",
       "      <td>NaN</td>\n",
       "      <td>2.557295e+01</td>\n",
       "      <td>NaN</td>\n",
       "      <td>2.557731e+04</td>\n",
       "      <td>NaN</td>\n",
       "      <td>3.127575e+01</td>\n",
       "      <td>NaN</td>\n",
       "      <td>NaN</td>\n",
       "      <td>1.468778e+05</td>\n",
       "      <td>NaN</td>\n",
       "      <td>NaN</td>\n",
       "      <td>1.085405e+01</td>\n",
       "      <td>2.307604e+07</td>\n",
       "      <td>2.471393e+00</td>\n",
       "      <td>1.558147e+00</td>\n",
       "      <td>0.0</td>\n",
       "    </tr>\n",
       "  </tbody>\n",
       "</table>\n",
       "</div>"
      ],
      "text/plain": [
       "                            corte_mes fuente_colocacion  id_tipo_prod  \\\n",
       "count                         1814266           1814266  1.814266e+06   \n",
       "unique                            NaN                 3           NaN   \n",
       "top                               NaN       REDESCUENTO           NaN   \n",
       "freq                              NaN           1282659           NaN   \n",
       "mean    2022-11-19 20:55:32.849316608               NaN  9.251334e-01   \n",
       "min               2021-01-31 00:00:00               NaN  0.000000e+00   \n",
       "25%               2021-12-31 00:00:00               NaN  0.000000e+00   \n",
       "50%               2022-11-30 00:00:00               NaN  0.000000e+00   \n",
       "75%               2023-09-30 00:00:00               NaN  2.000000e+00   \n",
       "max               2024-09-30 00:00:00               NaN  3.000000e+00   \n",
       "std                               NaN               NaN  1.264380e+00   \n",
       "\n",
       "       tipo_productor  valor_inversion    colocacion      id_depto  \\\n",
       "count         1814266     1.814266e+06  1.814266e+06  1.814266e+06   \n",
       "unique              4              NaN           NaN           NaN   \n",
       "top           PEQUEÑO              NaN           NaN           NaN   \n",
       "freq          1083436              NaN           NaN           NaN   \n",
       "mean              NaN     8.054797e+07  6.062292e+07  3.881858e+01   \n",
       "min               NaN     1.000000e+00  1.000000e+00  5.000000e+00   \n",
       "25%               NaN     4.000000e+06  3.574970e+06  1.700000e+01   \n",
       "50%               NaN     1.000000e+07  9.854420e+06  2.700000e+01   \n",
       "75%               NaN     1.900000e+07  1.800000e+07  6.600000e+01   \n",
       "max               NaN     1.499500e+12  3.000000e+11  9.900000e+01   \n",
       "std               NaN     2.477272e+09  1.123156e+09  2.546015e+01   \n",
       "\n",
       "       departamento_inversion      id_munic municipio_inversion  \\\n",
       "count                 1814266  1.814266e+06             1814266   \n",
       "unique                     33           NaN                1032   \n",
       "top                    BOYACÁ           NaN        BOGOTÁ, D.C.   \n",
       "freq                   185580           NaN               19976   \n",
       "mean                      NaN  3.922802e+04                 NaN   \n",
       "min                       NaN  5.001000e+03                 NaN   \n",
       "25%                       NaN  1.704200e+04                 NaN   \n",
       "50%                       NaN  2.724500e+04                 NaN   \n",
       "75%                       NaN  6.607500e+04                 NaN   \n",
       "max                       NaN  9.977300e+04                 NaN   \n",
       "std                       NaN  2.544703e+04                 NaN   \n",
       "\n",
       "       municipio_de_postconflicto        depcol departamento_de_colocacion  \\\n",
       "count                     1814264  1.814266e+06                    1814266   \n",
       "unique                          2           NaN                         33   \n",
       "top                             N           NaN                  ANTIOQUIA   \n",
       "freq                      1254724           NaN                     193653   \n",
       "mean                          NaN  3.749889e+01                        NaN   \n",
       "min                           NaN  5.000000e+00                        NaN   \n",
       "25%                           NaN  1.500000e+01                        NaN   \n",
       "50%                           NaN  2.500000e+01                        NaN   \n",
       "75%                           NaN  6.300000e+01                        NaN   \n",
       "max                           NaN  9.900000e+01                        NaN   \n",
       "std                           NaN  2.557295e+01                        NaN   \n",
       "\n",
       "              muncol municipio_colocacion         plazo    linea_de_credito  \\\n",
       "count   1.814266e+06              1814266  1.814266e+06             1814266   \n",
       "unique           NaN                  791           NaN                   3   \n",
       "top              NaN         BOGOTÁ, D.C.           NaN  Capital de Trabajo   \n",
       "freq             NaN                75978           NaN              958943   \n",
       "mean    3.785937e+04                  NaN  4.319889e+01                 NaN   \n",
       "min     5.001000e+03                  NaN  1.000000e+00                 NaN   \n",
       "25%     1.572000e+04                  NaN  1.300000e+01                 NaN   \n",
       "50%     2.579700e+04                  NaN  3.600000e+01                 NaN   \n",
       "75%     6.300100e+04                  NaN  6.800000e+01                 NaN   \n",
       "max     9.977300e+04                  NaN  2.450000e+02                 NaN   \n",
       "std     2.557731e+04                  NaN  3.127575e+01                 NaN   \n",
       "\n",
       "       linea_de_produccion      id_rubro  \\\n",
       "count              1814266  1.814266e+06   \n",
       "unique                  17           NaN   \n",
       "top     SOSTENIMIENTO (CT)           NaN   \n",
       "freq                433364           NaN   \n",
       "mean                   NaN  2.205485e+05   \n",
       "min                    NaN  1.010020e+05   \n",
       "25%                    NaN  1.411010e+05   \n",
       "50%                    NaN  1.650000e+05   \n",
       "75%                    NaN  2.531000e+05   \n",
       "max                    NaN  9.200090e+05   \n",
       "std                    NaN  1.468778e+05   \n",
       "\n",
       "                                       destino_de_credito   genero  \\\n",
       "count                                             1814266  1814266   \n",
       "unique                                                585        3   \n",
       "top     165000 CAPITAL DE TRABAJO - MICROCRÉDITO AGROP...        H   \n",
       "freq                                               155175  1069924   \n",
       "mean                                                  NaN      NaN   \n",
       "min                                                   NaN      NaN   \n",
       "25%                                                   NaN      NaN   \n",
       "50%                                                   NaN      NaN   \n",
       "75%                                                   NaN      NaN   \n",
       "max                                                   NaN      NaN   \n",
       "std                                                   NaN      NaN   \n",
       "\n",
       "                 fag  vlr_inic_garantia       latitud      longitud   cantidad  \n",
       "count   1.162412e+06       1.162412e+06  1.814264e+06  1.814264e+06  1814266.0  \n",
       "unique           NaN                NaN           NaN           NaN        NaN  \n",
       "top              NaN                NaN           NaN           NaN        NaN  \n",
       "freq             NaN                NaN           NaN           NaN        NaN  \n",
       "mean    8.007142e+01       1.188626e+07  5.075137e+00 -7.492341e+01        1.0  \n",
       "min     1.000000e+00       8.320000e+04 -4.215278e+00 -8.175000e+01        1.0  \n",
       "25%     8.000000e+01       4.000000e+06  3.166667e+00 -7.600000e+01        1.0  \n",
       "50%     8.000000e+01       8.000000e+06  5.166667e+00 -7.513333e+01        1.0  \n",
       "75%     8.000000e+01       1.360000e+07  6.450000e+00 -7.363333e+01        1.0  \n",
       "max     1.000000e+02       3.969476e+09  1.257686e+01 -6.704646e+01        1.0  \n",
       "std     1.085405e+01       2.307604e+07  2.471393e+00  1.558147e+00        0.0  "
      ]
     },
     "execution_count": 47,
     "metadata": {},
     "output_type": "execute_result"
    }
   ],
   "source": [
    "df.describe(include='all')"
   ]
  },
  {
   "cell_type": "markdown",
   "id": "2df2c825-a361-4c80-9e0e-f67757e93431",
   "metadata": {},
   "source": [
    "**Observaciones claves:**\n",
    "- Hay 11 campos numéricos de los cuales se seleccionaron 4 para análisis, como se indicó en el apartado: 3. EDA mediante estadística descriptiva - variables numéricas: \n",
    "  - 'Valor Inversion'\n",
    "  - 'Colocacion'\n",
    "  - 'Plazo'\n",
    "  - 'Valor Inicial de la Garantia'\n",
    "- Hay 14 campos dimensionales de los cuales se seleccionaron 7 para análisis, como se indicó en el apartado: 4. EDA mediante estadística descriptiva - variables categóricas:\n",
    "  - 'fuente_colocacion'\n",
    "  - 'tipo_productor'\n",
    "  - 'departamento_inversion'\n",
    "  - 'departamento_de_colocacion'\n",
    "  - 'linea_de_credito'\n",
    "  - 'linea_de_produccion'\n",
    "  - 'genero'\n",
    "- Existe un único campo de dimension de tiempo como se indicó en el análisis de previo con el método `.info()`"
   ]
  },
  {
   "cell_type": "code",
   "execution_count": 49,
   "id": "a02561b3-6283-42e0-8071-ad2b53bb76d9",
   "metadata": {},
   "outputs": [
    {
     "data": {
      "text/plain": [
       "(1814266, 26)"
      ]
     },
     "execution_count": 49,
     "metadata": {},
     "output_type": "execute_result"
    }
   ],
   "source": [
    "df.shape # Se valida una vez más que el dataframe contiene el mismo número de registros y campos que el dataset de origen"
   ]
  },
  {
   "cell_type": "markdown",
   "id": "5cf80c33-8dc1-4039-a9ea-c29d62a4bfc5",
   "metadata": {},
   "source": [
    "**Observaciones claves:**\n",
    "- El dataframe contiene 1,814,266 registros y 26 campos"
   ]
  },
  {
   "cell_type": "markdown",
   "id": "13e70bc6-b8ac-4201-88cd-3b6b2aea6a6d",
   "metadata": {},
   "source": [
    "## Actividad #4. Eliminar campos (columnas) irrelevantes para el análisis y modelado"
   ]
  },
  {
   "cell_type": "markdown",
   "id": "98c20b4e-8567-4eb4-8396-00f77bc93c2f",
   "metadata": {},
   "source": [
    "##### Se procederá a eliminar dos (2) campo: **cantidad** y **fag** por las siguientes razones:\n",
    "- **cantidad:** es una variable de control que solo toma el valor discreto de '1'. Este campo es utilizando solamente para indicar que cada registro hace alusión a una única operación de crédito.\n",
    "- **fag** es una variable que solo puede tomar el valor entero de '80', haciendo alusión al número porcentual de la Garantía FAG (Fondo Agroprecuario de Garantías) que respalda la operación desembolsada. Aunque NO todas las operaciones tienen garantía por lo que existen campos vacios para algunos registros. Es necesario resaltar que este campo esta relacionado con el de ***vlr_inic_garantia*** que también puede tener campos vacios."
   ]
  },
  {
   "cell_type": "code",
   "execution_count": 53,
   "id": "1aea2ad4-e488-4398-9f1b-401c8d70b401",
   "metadata": {},
   "outputs": [],
   "source": [
    "df = df.drop(columns=['fag','cantidad']) # Se eliminan las columnas indicadas"
   ]
  },
  {
   "cell_type": "code",
   "execution_count": 54,
   "id": "59f886c6-74cf-4d8a-af4b-da0273ea7eea",
   "metadata": {},
   "outputs": [
    {
     "data": {
      "text/plain": [
       "Index(['corte_mes', 'fuente_colocacion', 'id_tipo_prod', 'tipo_productor',\n",
       "       'valor_inversion', 'colocacion', 'id_depto', 'departamento_inversion',\n",
       "       'id_munic', 'municipio_inversion', 'municipio_de_postconflicto',\n",
       "       'depcol', 'departamento_de_colocacion', 'muncol',\n",
       "       'municipio_colocacion', 'plazo', 'linea_de_credito',\n",
       "       'linea_de_produccion', 'id_rubro', 'destino_de_credito', 'genero',\n",
       "       'vlr_inic_garantia', 'latitud', 'longitud'],\n",
       "      dtype='object')"
      ]
     },
     "execution_count": 54,
     "metadata": {},
     "output_type": "execute_result"
    }
   ],
   "source": [
    "df.columns # Se imprime la lista de los nombres de las columnas para comprobar que se realizó correctamente la modificación"
   ]
  },
  {
   "cell_type": "markdown",
   "id": "5708ff2f-0cac-489b-b7b1-057157641c95",
   "metadata": {},
   "source": [
    "## Actividad #5. Identificar y gestionar los posibles datos duplicados"
   ]
  },
  {
   "cell_type": "code",
   "execution_count": 58,
   "id": "6c9edb54-f85f-43e5-82ea-833597cedd62",
   "metadata": {},
   "outputs": [
    {
     "data": {
      "text/html": [
       "<div>\n",
       "<style scoped>\n",
       "    .dataframe tbody tr th:only-of-type {\n",
       "        vertical-align: middle;\n",
       "    }\n",
       "\n",
       "    .dataframe tbody tr th {\n",
       "        vertical-align: top;\n",
       "    }\n",
       "\n",
       "    .dataframe thead th {\n",
       "        text-align: right;\n",
       "    }\n",
       "</style>\n",
       "<table border=\"1\" class=\"dataframe\">\n",
       "  <thead>\n",
       "    <tr style=\"text-align: right;\">\n",
       "      <th></th>\n",
       "      <th>corte_mes</th>\n",
       "      <th>fuente_colocacion</th>\n",
       "      <th>id_tipo_prod</th>\n",
       "      <th>tipo_productor</th>\n",
       "      <th>valor_inversion</th>\n",
       "      <th>colocacion</th>\n",
       "      <th>id_depto</th>\n",
       "      <th>departamento_inversion</th>\n",
       "      <th>id_munic</th>\n",
       "      <th>municipio_inversion</th>\n",
       "      <th>municipio_de_postconflicto</th>\n",
       "      <th>depcol</th>\n",
       "      <th>departamento_de_colocacion</th>\n",
       "      <th>muncol</th>\n",
       "      <th>municipio_colocacion</th>\n",
       "      <th>plazo</th>\n",
       "      <th>linea_de_credito</th>\n",
       "      <th>linea_de_produccion</th>\n",
       "      <th>id_rubro</th>\n",
       "      <th>destino_de_credito</th>\n",
       "      <th>genero</th>\n",
       "      <th>vlr_inic_garantia</th>\n",
       "      <th>latitud</th>\n",
       "      <th>longitud</th>\n",
       "    </tr>\n",
       "  </thead>\n",
       "  <tbody>\n",
       "    <tr>\n",
       "      <th>9555</th>\n",
       "      <td>2021-04-30</td>\n",
       "      <td>SUSTITUTA</td>\n",
       "      <td>0</td>\n",
       "      <td>PEQUEÑO</td>\n",
       "      <td>4000.0</td>\n",
       "      <td>4000.0</td>\n",
       "      <td>50</td>\n",
       "      <td>META</td>\n",
       "      <td>50313</td>\n",
       "      <td>GRANADA</td>\n",
       "      <td>N</td>\n",
       "      <td>50</td>\n",
       "      <td>META</td>\n",
       "      <td>50006</td>\n",
       "      <td>ACACÍAS</td>\n",
       "      <td>12</td>\n",
       "      <td>Capital de Trabajo</td>\n",
       "      <td>SOSTENIMIENTO (CT)</td>\n",
       "      <td>237050</td>\n",
       "      <td>237050 Sostenimiento de bovinos Cría y doble p...</td>\n",
       "      <td>H</td>\n",
       "      <td>NaN</td>\n",
       "      <td>3.538611</td>\n",
       "      <td>-73.700556</td>\n",
       "    </tr>\n",
       "    <tr>\n",
       "      <th>9556</th>\n",
       "      <td>2021-04-30</td>\n",
       "      <td>SUSTITUTA</td>\n",
       "      <td>0</td>\n",
       "      <td>PEQUEÑO</td>\n",
       "      <td>4000.0</td>\n",
       "      <td>4000.0</td>\n",
       "      <td>50</td>\n",
       "      <td>META</td>\n",
       "      <td>50313</td>\n",
       "      <td>GRANADA</td>\n",
       "      <td>N</td>\n",
       "      <td>50</td>\n",
       "      <td>META</td>\n",
       "      <td>50006</td>\n",
       "      <td>ACACÍAS</td>\n",
       "      <td>12</td>\n",
       "      <td>Capital de Trabajo</td>\n",
       "      <td>SOSTENIMIENTO (CT)</td>\n",
       "      <td>237050</td>\n",
       "      <td>237050 Sostenimiento de bovinos Cría y doble p...</td>\n",
       "      <td>H</td>\n",
       "      <td>NaN</td>\n",
       "      <td>3.538611</td>\n",
       "      <td>-73.700556</td>\n",
       "    </tr>\n",
       "    <tr>\n",
       "      <th>43510</th>\n",
       "      <td>2021-06-30</td>\n",
       "      <td>SUSTITUTA</td>\n",
       "      <td>1</td>\n",
       "      <td>MEDIANO</td>\n",
       "      <td>5011.0</td>\n",
       "      <td>5011.0</td>\n",
       "      <td>70</td>\n",
       "      <td>SUCRE</td>\n",
       "      <td>70001</td>\n",
       "      <td>SINCELEJO</td>\n",
       "      <td>N</td>\n",
       "      <td>5</td>\n",
       "      <td>ANTIOQUIA</td>\n",
       "      <td>5631</td>\n",
       "      <td>SABANETA</td>\n",
       "      <td>12</td>\n",
       "      <td>Capital de Trabajo</td>\n",
       "      <td>SOSTENIMIENTO (CT)</td>\n",
       "      <td>237280</td>\n",
       "      <td>237280 Sostenimiento ceba bovina</td>\n",
       "      <td>S</td>\n",
       "      <td>NaN</td>\n",
       "      <td>9.304722</td>\n",
       "      <td>-75.397778</td>\n",
       "    </tr>\n",
       "    <tr>\n",
       "      <th>43543</th>\n",
       "      <td>2021-06-30</td>\n",
       "      <td>SUSTITUTA</td>\n",
       "      <td>1</td>\n",
       "      <td>MEDIANO</td>\n",
       "      <td>5011.0</td>\n",
       "      <td>5011.0</td>\n",
       "      <td>70</td>\n",
       "      <td>SUCRE</td>\n",
       "      <td>70001</td>\n",
       "      <td>SINCELEJO</td>\n",
       "      <td>N</td>\n",
       "      <td>5</td>\n",
       "      <td>ANTIOQUIA</td>\n",
       "      <td>5631</td>\n",
       "      <td>SABANETA</td>\n",
       "      <td>12</td>\n",
       "      <td>Capital de Trabajo</td>\n",
       "      <td>SOSTENIMIENTO (CT)</td>\n",
       "      <td>237280</td>\n",
       "      <td>237280 Sostenimiento ceba bovina</td>\n",
       "      <td>S</td>\n",
       "      <td>NaN</td>\n",
       "      <td>9.304722</td>\n",
       "      <td>-75.397778</td>\n",
       "    </tr>\n",
       "    <tr>\n",
       "      <th>1519080</th>\n",
       "      <td>2024-01-31</td>\n",
       "      <td>SUSTITUTA</td>\n",
       "      <td>1</td>\n",
       "      <td>MEDIANO</td>\n",
       "      <td>9124.0</td>\n",
       "      <td>9124.0</td>\n",
       "      <td>17</td>\n",
       "      <td>CALDAS</td>\n",
       "      <td>17877</td>\n",
       "      <td>VITERBO</td>\n",
       "      <td>N</td>\n",
       "      <td>66</td>\n",
       "      <td>RISARALDA</td>\n",
       "      <td>66001</td>\n",
       "      <td>PEREIRA</td>\n",
       "      <td>12</td>\n",
       "      <td>Capital de Trabajo</td>\n",
       "      <td>SOSTENIMIENTO (CT)</td>\n",
       "      <td>237280</td>\n",
       "      <td>237280 Sostenimiento ceba bovina</td>\n",
       "      <td>H</td>\n",
       "      <td>NaN</td>\n",
       "      <td>5.083333</td>\n",
       "      <td>-75.866667</td>\n",
       "    </tr>\n",
       "    <tr>\n",
       "      <th>1524845</th>\n",
       "      <td>2024-01-31</td>\n",
       "      <td>SUSTITUTA</td>\n",
       "      <td>1</td>\n",
       "      <td>MEDIANO</td>\n",
       "      <td>9124.0</td>\n",
       "      <td>9124.0</td>\n",
       "      <td>17</td>\n",
       "      <td>CALDAS</td>\n",
       "      <td>17877</td>\n",
       "      <td>VITERBO</td>\n",
       "      <td>N</td>\n",
       "      <td>66</td>\n",
       "      <td>RISARALDA</td>\n",
       "      <td>66001</td>\n",
       "      <td>PEREIRA</td>\n",
       "      <td>12</td>\n",
       "      <td>Capital de Trabajo</td>\n",
       "      <td>SOSTENIMIENTO (CT)</td>\n",
       "      <td>237280</td>\n",
       "      <td>237280 Sostenimiento ceba bovina</td>\n",
       "      <td>H</td>\n",
       "      <td>NaN</td>\n",
       "      <td>5.083333</td>\n",
       "      <td>-75.866667</td>\n",
       "    </tr>\n",
       "    <tr>\n",
       "      <th>1526923</th>\n",
       "      <td>2024-01-31</td>\n",
       "      <td>SUSTITUTA</td>\n",
       "      <td>1</td>\n",
       "      <td>MEDIANO</td>\n",
       "      <td>9124.0</td>\n",
       "      <td>9124.0</td>\n",
       "      <td>5</td>\n",
       "      <td>ANTIOQUIA</td>\n",
       "      <td>5001</td>\n",
       "      <td>MEDELLÍN</td>\n",
       "      <td>N</td>\n",
       "      <td>5</td>\n",
       "      <td>ANTIOQUIA</td>\n",
       "      <td>5129</td>\n",
       "      <td>CALDAS</td>\n",
       "      <td>6</td>\n",
       "      <td>Capital de Trabajo</td>\n",
       "      <td>SOSTENIMIENTO (CT)</td>\n",
       "      <td>235050</td>\n",
       "      <td>235050 Porcinos ceba</td>\n",
       "      <td>H</td>\n",
       "      <td>NaN</td>\n",
       "      <td>6.291389</td>\n",
       "      <td>-75.536111</td>\n",
       "    </tr>\n",
       "    <tr>\n",
       "      <th>1528201</th>\n",
       "      <td>2024-01-31</td>\n",
       "      <td>SUSTITUTA</td>\n",
       "      <td>1</td>\n",
       "      <td>MEDIANO</td>\n",
       "      <td>9124.0</td>\n",
       "      <td>9124.0</td>\n",
       "      <td>5</td>\n",
       "      <td>ANTIOQUIA</td>\n",
       "      <td>5001</td>\n",
       "      <td>MEDELLÍN</td>\n",
       "      <td>N</td>\n",
       "      <td>5</td>\n",
       "      <td>ANTIOQUIA</td>\n",
       "      <td>5129</td>\n",
       "      <td>CALDAS</td>\n",
       "      <td>6</td>\n",
       "      <td>Capital de Trabajo</td>\n",
       "      <td>SOSTENIMIENTO (CT)</td>\n",
       "      <td>235050</td>\n",
       "      <td>235050 Porcinos ceba</td>\n",
       "      <td>H</td>\n",
       "      <td>NaN</td>\n",
       "      <td>6.291389</td>\n",
       "      <td>-75.536111</td>\n",
       "    </tr>\n",
       "    <tr>\n",
       "      <th>1246990</th>\n",
       "      <td>2023-08-31</td>\n",
       "      <td>SUSTITUTA</td>\n",
       "      <td>1</td>\n",
       "      <td>MEDIANO</td>\n",
       "      <td>30000.0</td>\n",
       "      <td>30000.0</td>\n",
       "      <td>85</td>\n",
       "      <td>CASANARE</td>\n",
       "      <td>85325</td>\n",
       "      <td>SAN LUIS DE PALENQUE</td>\n",
       "      <td>N</td>\n",
       "      <td>85</td>\n",
       "      <td>CASANARE</td>\n",
       "      <td>85010</td>\n",
       "      <td>AGUAZUL</td>\n",
       "      <td>12</td>\n",
       "      <td>Capital de Trabajo</td>\n",
       "      <td>SOSTENIMIENTO (CT)</td>\n",
       "      <td>237050</td>\n",
       "      <td>237050 Sostenimiento de bovinos Cría y doble p...</td>\n",
       "      <td>H</td>\n",
       "      <td>NaN</td>\n",
       "      <td>5.280556</td>\n",
       "      <td>-71.581944</td>\n",
       "    </tr>\n",
       "    <tr>\n",
       "      <th>1246998</th>\n",
       "      <td>2023-08-31</td>\n",
       "      <td>SUSTITUTA</td>\n",
       "      <td>1</td>\n",
       "      <td>MEDIANO</td>\n",
       "      <td>30000.0</td>\n",
       "      <td>30000.0</td>\n",
       "      <td>85</td>\n",
       "      <td>CASANARE</td>\n",
       "      <td>85325</td>\n",
       "      <td>SAN LUIS DE PALENQUE</td>\n",
       "      <td>N</td>\n",
       "      <td>85</td>\n",
       "      <td>CASANARE</td>\n",
       "      <td>85010</td>\n",
       "      <td>AGUAZUL</td>\n",
       "      <td>12</td>\n",
       "      <td>Capital de Trabajo</td>\n",
       "      <td>SOSTENIMIENTO (CT)</td>\n",
       "      <td>237050</td>\n",
       "      <td>237050 Sostenimiento de bovinos Cría y doble p...</td>\n",
       "      <td>H</td>\n",
       "      <td>NaN</td>\n",
       "      <td>5.280556</td>\n",
       "      <td>-71.581944</td>\n",
       "    </tr>\n",
       "  </tbody>\n",
       "</table>\n",
       "</div>"
      ],
      "text/plain": [
       "         corte_mes fuente_colocacion  id_tipo_prod tipo_productor  \\\n",
       "9555    2021-04-30         SUSTITUTA             0        PEQUEÑO   \n",
       "9556    2021-04-30         SUSTITUTA             0        PEQUEÑO   \n",
       "43510   2021-06-30         SUSTITUTA             1        MEDIANO   \n",
       "43543   2021-06-30         SUSTITUTA             1        MEDIANO   \n",
       "1519080 2024-01-31         SUSTITUTA             1        MEDIANO   \n",
       "1524845 2024-01-31         SUSTITUTA             1        MEDIANO   \n",
       "1526923 2024-01-31         SUSTITUTA             1        MEDIANO   \n",
       "1528201 2024-01-31         SUSTITUTA             1        MEDIANO   \n",
       "1246990 2023-08-31         SUSTITUTA             1        MEDIANO   \n",
       "1246998 2023-08-31         SUSTITUTA             1        MEDIANO   \n",
       "\n",
       "         valor_inversion  colocacion  id_depto departamento_inversion  \\\n",
       "9555              4000.0      4000.0        50                   META   \n",
       "9556              4000.0      4000.0        50                   META   \n",
       "43510             5011.0      5011.0        70                  SUCRE   \n",
       "43543             5011.0      5011.0        70                  SUCRE   \n",
       "1519080           9124.0      9124.0        17                 CALDAS   \n",
       "1524845           9124.0      9124.0        17                 CALDAS   \n",
       "1526923           9124.0      9124.0         5              ANTIOQUIA   \n",
       "1528201           9124.0      9124.0         5              ANTIOQUIA   \n",
       "1246990          30000.0     30000.0        85               CASANARE   \n",
       "1246998          30000.0     30000.0        85               CASANARE   \n",
       "\n",
       "         id_munic   municipio_inversion municipio_de_postconflicto  depcol  \\\n",
       "9555        50313               GRANADA                          N      50   \n",
       "9556        50313               GRANADA                          N      50   \n",
       "43510       70001             SINCELEJO                          N       5   \n",
       "43543       70001             SINCELEJO                          N       5   \n",
       "1519080     17877               VITERBO                          N      66   \n",
       "1524845     17877               VITERBO                          N      66   \n",
       "1526923      5001              MEDELLÍN                          N       5   \n",
       "1528201      5001              MEDELLÍN                          N       5   \n",
       "1246990     85325  SAN LUIS DE PALENQUE                          N      85   \n",
       "1246998     85325  SAN LUIS DE PALENQUE                          N      85   \n",
       "\n",
       "        departamento_de_colocacion  muncol municipio_colocacion  plazo  \\\n",
       "9555                          META   50006              ACACÍAS     12   \n",
       "9556                          META   50006              ACACÍAS     12   \n",
       "43510                    ANTIOQUIA    5631             SABANETA     12   \n",
       "43543                    ANTIOQUIA    5631             SABANETA     12   \n",
       "1519080                  RISARALDA   66001              PEREIRA     12   \n",
       "1524845                  RISARALDA   66001              PEREIRA     12   \n",
       "1526923                  ANTIOQUIA    5129               CALDAS      6   \n",
       "1528201                  ANTIOQUIA    5129               CALDAS      6   \n",
       "1246990                   CASANARE   85010              AGUAZUL     12   \n",
       "1246998                   CASANARE   85010              AGUAZUL     12   \n",
       "\n",
       "           linea_de_credito linea_de_produccion  id_rubro  \\\n",
       "9555     Capital de Trabajo  SOSTENIMIENTO (CT)    237050   \n",
       "9556     Capital de Trabajo  SOSTENIMIENTO (CT)    237050   \n",
       "43510    Capital de Trabajo  SOSTENIMIENTO (CT)    237280   \n",
       "43543    Capital de Trabajo  SOSTENIMIENTO (CT)    237280   \n",
       "1519080  Capital de Trabajo  SOSTENIMIENTO (CT)    237280   \n",
       "1524845  Capital de Trabajo  SOSTENIMIENTO (CT)    237280   \n",
       "1526923  Capital de Trabajo  SOSTENIMIENTO (CT)    235050   \n",
       "1528201  Capital de Trabajo  SOSTENIMIENTO (CT)    235050   \n",
       "1246990  Capital de Trabajo  SOSTENIMIENTO (CT)    237050   \n",
       "1246998  Capital de Trabajo  SOSTENIMIENTO (CT)    237050   \n",
       "\n",
       "                                        destino_de_credito genero  \\\n",
       "9555     237050 Sostenimiento de bovinos Cría y doble p...      H   \n",
       "9556     237050 Sostenimiento de bovinos Cría y doble p...      H   \n",
       "43510                     237280 Sostenimiento ceba bovina      S   \n",
       "43543                     237280 Sostenimiento ceba bovina      S   \n",
       "1519080                   237280 Sostenimiento ceba bovina      H   \n",
       "1524845                   237280 Sostenimiento ceba bovina      H   \n",
       "1526923                               235050 Porcinos ceba      H   \n",
       "1528201                               235050 Porcinos ceba      H   \n",
       "1246990  237050 Sostenimiento de bovinos Cría y doble p...      H   \n",
       "1246998  237050 Sostenimiento de bovinos Cría y doble p...      H   \n",
       "\n",
       "         vlr_inic_garantia   latitud   longitud  \n",
       "9555                   NaN  3.538611 -73.700556  \n",
       "9556                   NaN  3.538611 -73.700556  \n",
       "43510                  NaN  9.304722 -75.397778  \n",
       "43543                  NaN  9.304722 -75.397778  \n",
       "1519080                NaN  5.083333 -75.866667  \n",
       "1524845                NaN  5.083333 -75.866667  \n",
       "1526923                NaN  6.291389 -75.536111  \n",
       "1528201                NaN  6.291389 -75.536111  \n",
       "1246990                NaN  5.280556 -71.581944  \n",
       "1246998                NaN  5.280556 -71.581944  "
      ]
     },
     "execution_count": 58,
     "metadata": {},
     "output_type": "execute_result"
    }
   ],
   "source": [
    "mask = df.duplicated(keep=False) # Creamos la máscara para aplicar el filtro de mostrar solo registros duplicados\n",
    "\n",
    "df[mask].sort_values(by=['valor_inversion','colocacion']).head(10) # Verificamos que los registros identificados realmente sean registros duplicados\n",
    "# tomando una muestra de los primeros 10 registros de la tabla"
   ]
  },
  {
   "cell_type": "code",
   "execution_count": 59,
   "id": "a6886eec-3b93-4b44-a944-81e0f9552aae",
   "metadata": {},
   "outputs": [
    {
     "data": {
      "text/plain": [
       "169686"
      ]
     },
     "execution_count": 59,
     "metadata": {},
     "output_type": "execute_result"
    }
   ],
   "source": [
    "mask.sum() # Contamos en total cuantos registros duplicados son"
   ]
  },
  {
   "cell_type": "markdown",
   "id": "a68f2a8f-1dc5-420e-b143-56c9aa596735",
   "metadata": {},
   "source": [
    "**Observaciones claves:**\n",
    "- Existen 169,686 registros duplicados \n",
    "- Los registros duplicados por lo general se encuentran duplicados solamente 2 veces (su entrada original y su copia)"
   ]
  },
  {
   "cell_type": "code",
   "execution_count": 61,
   "id": "a7c3ecbe-747f-4515-836c-b6db3b946e2b",
   "metadata": {},
   "outputs": [],
   "source": [
    "df = df.drop_duplicates(keep='first') # Eliminamos los registros duplicados y establecemos que se mantengan solo el primer \n",
    "# resultado para cada único duplicado"
   ]
  },
  {
   "cell_type": "code",
   "execution_count": 62,
   "id": "be1dc2b3-e2af-4465-ac85-f834e0042389",
   "metadata": {},
   "outputs": [
    {
     "data": {
      "text/plain": [
       "(1717939, 24)"
      ]
     },
     "execution_count": 62,
     "metadata": {},
     "output_type": "execute_result"
    }
   ],
   "source": [
    "df.shape # Revisamos la nueva forma del dataframe"
   ]
  },
  {
   "cell_type": "markdown",
   "id": "b96434d0-edbf-406e-9265-7e52eaac04cf",
   "metadata": {},
   "source": [
    "**Observaciones claves:**\n",
    "- El dataframe sin duplicados consta de:\n",
    "  - 1,717,939 registros (filas)\n",
    "  - 24 campos (columnas)"
   ]
  },
  {
   "cell_type": "markdown",
   "id": "c15223c8-3304-4125-bbed-a74ae57092d3",
   "metadata": {},
   "source": [
    "## Actividad #6. Identificar y gestionar los valores de campos vacios"
   ]
  },
  {
   "cell_type": "code",
   "execution_count": 65,
   "id": "04d9d234-eb57-45c3-ad3b-2e7fe608136b",
   "metadata": {},
   "outputs": [
    {
     "data": {
      "text/plain": [
       "corte_mes                          0\n",
       "fuente_colocacion                  0\n",
       "id_tipo_prod                       0\n",
       "tipo_productor                     0\n",
       "valor_inversion                    0\n",
       "colocacion                         0\n",
       "id_depto                           0\n",
       "departamento_inversion             0\n",
       "id_munic                           0\n",
       "municipio_inversion                0\n",
       "municipio_de_postconflicto         2\n",
       "depcol                             0\n",
       "departamento_de_colocacion         0\n",
       "muncol                             0\n",
       "municipio_colocacion               0\n",
       "plazo                              0\n",
       "linea_de_credito                   0\n",
       "linea_de_produccion                0\n",
       "id_rubro                           0\n",
       "destino_de_credito                 0\n",
       "genero                             0\n",
       "vlr_inic_garantia             623125\n",
       "latitud                            2\n",
       "longitud                           2\n",
       "dtype: int64"
      ]
     },
     "execution_count": 65,
     "metadata": {},
     "output_type": "execute_result"
    }
   ],
   "source": [
    "df.isna().sum() # Verificamos que campos contienen valores nulos y en qué cantidad"
   ]
  },
  {
   "cell_type": "markdown",
   "id": "9bb58a1a-ef0b-408a-b8f1-f3d1b4e90d2e",
   "metadata": {},
   "source": [
    "**Observaciones claves:**\n",
    "- Los campos con valores nulos son:\n",
    "  - ***municipio_de_postconflicto:*** 2 NaN\n",
    "  - ***vlr_inic_garantia:*** 623,125 NaN\n",
    "  - ***latitud:*** 2 NaN\n",
    "  - ***longitud:*** 2 NaN"
   ]
  },
  {
   "cell_type": "markdown",
   "id": "e1da11c8-009b-470f-8da1-22996649f434",
   "metadata": {},
   "source": [
    "### 6.1 Gestión de valores Nulos para 'municipio_de_postconflicto'"
   ]
  },
  {
   "cell_type": "code",
   "execution_count": 68,
   "id": "477942ea-14ef-4165-822b-40f68ce8a836",
   "metadata": {},
   "outputs": [
    {
     "data": {
      "text/plain": [
       "municipio_de_postconflicto\n",
       "N    1191826\n",
       "S     526111\n",
       "Name: count, dtype: int64"
      ]
     },
     "execution_count": 68,
     "metadata": {},
     "output_type": "execute_result"
    }
   ],
   "source": [
    "mask = df['municipio_de_postconflicto'].isna() # Establecemos la máscara de filtrado de nulos para el campo\n",
    "df['municipio_de_postconflicto'].value_counts() # Revisamos que valores puede tomar este campo en el conjunto de datos"
   ]
  },
  {
   "cell_type": "markdown",
   "id": "59800650-3df5-4adb-8e79-cf60ee50a0c3",
   "metadata": {},
   "source": [
    "**Observaciones claves:**\n",
    "- Se deduce que este campo se comporta como booleano, es decir solo tiene 2 posibles valores:\n",
    "    - 'S' para Si\n",
    "    - 'N' para No"
   ]
  },
  {
   "cell_type": "code",
   "execution_count": 70,
   "id": "866550e8-aa26-474e-b136-25f0c3fa15b4",
   "metadata": {},
   "outputs": [
    {
     "data": {
      "text/html": [
       "<div>\n",
       "<style scoped>\n",
       "    .dataframe tbody tr th:only-of-type {\n",
       "        vertical-align: middle;\n",
       "    }\n",
       "\n",
       "    .dataframe tbody tr th {\n",
       "        vertical-align: top;\n",
       "    }\n",
       "\n",
       "    .dataframe thead th {\n",
       "        text-align: right;\n",
       "    }\n",
       "</style>\n",
       "<table border=\"1\" class=\"dataframe\">\n",
       "  <thead>\n",
       "    <tr style=\"text-align: right;\">\n",
       "      <th></th>\n",
       "      <th>corte_mes</th>\n",
       "      <th>fuente_colocacion</th>\n",
       "      <th>id_tipo_prod</th>\n",
       "      <th>tipo_productor</th>\n",
       "      <th>valor_inversion</th>\n",
       "      <th>colocacion</th>\n",
       "      <th>id_depto</th>\n",
       "      <th>departamento_inversion</th>\n",
       "      <th>id_munic</th>\n",
       "      <th>municipio_inversion</th>\n",
       "      <th>municipio_de_postconflicto</th>\n",
       "      <th>depcol</th>\n",
       "      <th>departamento_de_colocacion</th>\n",
       "      <th>muncol</th>\n",
       "      <th>municipio_colocacion</th>\n",
       "      <th>plazo</th>\n",
       "      <th>linea_de_credito</th>\n",
       "      <th>linea_de_produccion</th>\n",
       "      <th>id_rubro</th>\n",
       "      <th>destino_de_credito</th>\n",
       "      <th>genero</th>\n",
       "      <th>vlr_inic_garantia</th>\n",
       "      <th>latitud</th>\n",
       "      <th>longitud</th>\n",
       "    </tr>\n",
       "  </thead>\n",
       "  <tbody>\n",
       "    <tr>\n",
       "      <th>1728434</th>\n",
       "      <td>2024-07-31</td>\n",
       "      <td>SUSTITUTA</td>\n",
       "      <td>0</td>\n",
       "      <td>PEQUEÑO</td>\n",
       "      <td>32140000.0</td>\n",
       "      <td>31800000.0</td>\n",
       "      <td>27</td>\n",
       "      <td>CHOCÓ</td>\n",
       "      <td>27493</td>\n",
       "      <td>NUEVO BELÉN DE BAJIRÁ</td>\n",
       "      <td>NaN</td>\n",
       "      <td>5</td>\n",
       "      <td>ANTIOQUIA</td>\n",
       "      <td>5172</td>\n",
       "      <td>CHIGORODÓ</td>\n",
       "      <td>12</td>\n",
       "      <td>Capital de Trabajo</td>\n",
       "      <td>SOSTENIMIENTO (CT)</td>\n",
       "      <td>133010</td>\n",
       "      <td>133010 Plátano - Sostenimiento</td>\n",
       "      <td>H</td>\n",
       "      <td>NaN</td>\n",
       "      <td>NaN</td>\n",
       "      <td>NaN</td>\n",
       "    </tr>\n",
       "    <tr>\n",
       "      <th>1735118</th>\n",
       "      <td>2024-09-30</td>\n",
       "      <td>SUSTITUTA</td>\n",
       "      <td>1</td>\n",
       "      <td>MEDIANO</td>\n",
       "      <td>38234000.0</td>\n",
       "      <td>31800000.0</td>\n",
       "      <td>27</td>\n",
       "      <td>CHOCÓ</td>\n",
       "      <td>27493</td>\n",
       "      <td>NUEVO BELÉN DE BAJIRÁ</td>\n",
       "      <td>NaN</td>\n",
       "      <td>5</td>\n",
       "      <td>ANTIOQUIA</td>\n",
       "      <td>5045</td>\n",
       "      <td>APARTADÓ</td>\n",
       "      <td>12</td>\n",
       "      <td>Capital de Trabajo</td>\n",
       "      <td>SOSTENIMIENTO (CT)</td>\n",
       "      <td>133010</td>\n",
       "      <td>133010 Plátano - Sostenimiento</td>\n",
       "      <td>H</td>\n",
       "      <td>19080000.0</td>\n",
       "      <td>NaN</td>\n",
       "      <td>NaN</td>\n",
       "    </tr>\n",
       "  </tbody>\n",
       "</table>\n",
       "</div>"
      ],
      "text/plain": [
       "         corte_mes fuente_colocacion  id_tipo_prod tipo_productor  \\\n",
       "1728434 2024-07-31         SUSTITUTA             0        PEQUEÑO   \n",
       "1735118 2024-09-30         SUSTITUTA             1        MEDIANO   \n",
       "\n",
       "         valor_inversion  colocacion  id_depto departamento_inversion  \\\n",
       "1728434       32140000.0  31800000.0        27                  CHOCÓ   \n",
       "1735118       38234000.0  31800000.0        27                  CHOCÓ   \n",
       "\n",
       "         id_munic    municipio_inversion municipio_de_postconflicto  depcol  \\\n",
       "1728434     27493  NUEVO BELÉN DE BAJIRÁ                        NaN       5   \n",
       "1735118     27493  NUEVO BELÉN DE BAJIRÁ                        NaN       5   \n",
       "\n",
       "        departamento_de_colocacion  muncol municipio_colocacion  plazo  \\\n",
       "1728434                  ANTIOQUIA    5172            CHIGORODÓ     12   \n",
       "1735118                  ANTIOQUIA    5045             APARTADÓ     12   \n",
       "\n",
       "           linea_de_credito linea_de_produccion  id_rubro  \\\n",
       "1728434  Capital de Trabajo  SOSTENIMIENTO (CT)    133010   \n",
       "1735118  Capital de Trabajo  SOSTENIMIENTO (CT)    133010   \n",
       "\n",
       "                     destino_de_credito genero  vlr_inic_garantia  latitud  \\\n",
       "1728434  133010 Plátano - Sostenimiento      H                NaN      NaN   \n",
       "1735118  133010 Plátano - Sostenimiento      H         19080000.0      NaN   \n",
       "\n",
       "         longitud  \n",
       "1728434       NaN  \n",
       "1735118       NaN  "
      ]
     },
     "execution_count": 70,
     "metadata": {},
     "output_type": "execute_result"
    }
   ],
   "source": [
    "df[mask] # Revisamos los registros que contienen valores nulos en este campo específico"
   ]
  },
  {
   "cell_type": "code",
   "execution_count": 71,
   "id": "df3bdb51-a276-4c7b-9aa5-ca137b283d23",
   "metadata": {},
   "outputs": [
    {
     "data": {
      "text/html": [
       "<div>\n",
       "<style scoped>\n",
       "    .dataframe tbody tr th:only-of-type {\n",
       "        vertical-align: middle;\n",
       "    }\n",
       "\n",
       "    .dataframe tbody tr th {\n",
       "        vertical-align: top;\n",
       "    }\n",
       "\n",
       "    .dataframe thead th {\n",
       "        text-align: right;\n",
       "    }\n",
       "</style>\n",
       "<table border=\"1\" class=\"dataframe\">\n",
       "  <thead>\n",
       "    <tr style=\"text-align: right;\">\n",
       "      <th></th>\n",
       "      <th>corte_mes</th>\n",
       "      <th>fuente_colocacion</th>\n",
       "      <th>id_tipo_prod</th>\n",
       "      <th>tipo_productor</th>\n",
       "      <th>valor_inversion</th>\n",
       "      <th>colocacion</th>\n",
       "      <th>id_depto</th>\n",
       "      <th>departamento_inversion</th>\n",
       "      <th>id_munic</th>\n",
       "      <th>municipio_inversion</th>\n",
       "      <th>municipio_de_postconflicto</th>\n",
       "      <th>depcol</th>\n",
       "      <th>departamento_de_colocacion</th>\n",
       "      <th>muncol</th>\n",
       "      <th>municipio_colocacion</th>\n",
       "      <th>plazo</th>\n",
       "      <th>linea_de_credito</th>\n",
       "      <th>linea_de_produccion</th>\n",
       "      <th>id_rubro</th>\n",
       "      <th>destino_de_credito</th>\n",
       "      <th>genero</th>\n",
       "      <th>vlr_inic_garantia</th>\n",
       "      <th>latitud</th>\n",
       "      <th>longitud</th>\n",
       "    </tr>\n",
       "  </thead>\n",
       "  <tbody>\n",
       "    <tr>\n",
       "      <th>1728434</th>\n",
       "      <td>2024-07-31</td>\n",
       "      <td>SUSTITUTA</td>\n",
       "      <td>0</td>\n",
       "      <td>PEQUEÑO</td>\n",
       "      <td>32140000.0</td>\n",
       "      <td>31800000.0</td>\n",
       "      <td>27</td>\n",
       "      <td>CHOCÓ</td>\n",
       "      <td>27493</td>\n",
       "      <td>NUEVO BELÉN DE BAJIRÁ</td>\n",
       "      <td>NaN</td>\n",
       "      <td>5</td>\n",
       "      <td>ANTIOQUIA</td>\n",
       "      <td>5172</td>\n",
       "      <td>CHIGORODÓ</td>\n",
       "      <td>12</td>\n",
       "      <td>Capital de Trabajo</td>\n",
       "      <td>SOSTENIMIENTO (CT)</td>\n",
       "      <td>133010</td>\n",
       "      <td>133010 Plátano - Sostenimiento</td>\n",
       "      <td>H</td>\n",
       "      <td>NaN</td>\n",
       "      <td>NaN</td>\n",
       "      <td>NaN</td>\n",
       "    </tr>\n",
       "    <tr>\n",
       "      <th>1735118</th>\n",
       "      <td>2024-09-30</td>\n",
       "      <td>SUSTITUTA</td>\n",
       "      <td>1</td>\n",
       "      <td>MEDIANO</td>\n",
       "      <td>38234000.0</td>\n",
       "      <td>31800000.0</td>\n",
       "      <td>27</td>\n",
       "      <td>CHOCÓ</td>\n",
       "      <td>27493</td>\n",
       "      <td>NUEVO BELÉN DE BAJIRÁ</td>\n",
       "      <td>NaN</td>\n",
       "      <td>5</td>\n",
       "      <td>ANTIOQUIA</td>\n",
       "      <td>5045</td>\n",
       "      <td>APARTADÓ</td>\n",
       "      <td>12</td>\n",
       "      <td>Capital de Trabajo</td>\n",
       "      <td>SOSTENIMIENTO (CT)</td>\n",
       "      <td>133010</td>\n",
       "      <td>133010 Plátano - Sostenimiento</td>\n",
       "      <td>H</td>\n",
       "      <td>19080000.0</td>\n",
       "      <td>NaN</td>\n",
       "      <td>NaN</td>\n",
       "    </tr>\n",
       "  </tbody>\n",
       "</table>\n",
       "</div>"
      ],
      "text/plain": [
       "         corte_mes fuente_colocacion  id_tipo_prod tipo_productor  \\\n",
       "1728434 2024-07-31         SUSTITUTA             0        PEQUEÑO   \n",
       "1735118 2024-09-30         SUSTITUTA             1        MEDIANO   \n",
       "\n",
       "         valor_inversion  colocacion  id_depto departamento_inversion  \\\n",
       "1728434       32140000.0  31800000.0        27                  CHOCÓ   \n",
       "1735118       38234000.0  31800000.0        27                  CHOCÓ   \n",
       "\n",
       "         id_munic    municipio_inversion municipio_de_postconflicto  depcol  \\\n",
       "1728434     27493  NUEVO BELÉN DE BAJIRÁ                        NaN       5   \n",
       "1735118     27493  NUEVO BELÉN DE BAJIRÁ                        NaN       5   \n",
       "\n",
       "        departamento_de_colocacion  muncol municipio_colocacion  plazo  \\\n",
       "1728434                  ANTIOQUIA    5172            CHIGORODÓ     12   \n",
       "1735118                  ANTIOQUIA    5045             APARTADÓ     12   \n",
       "\n",
       "           linea_de_credito linea_de_produccion  id_rubro  \\\n",
       "1728434  Capital de Trabajo  SOSTENIMIENTO (CT)    133010   \n",
       "1735118  Capital de Trabajo  SOSTENIMIENTO (CT)    133010   \n",
       "\n",
       "                     destino_de_credito genero  vlr_inic_garantia  latitud  \\\n",
       "1728434  133010 Plátano - Sostenimiento      H                NaN      NaN   \n",
       "1735118  133010 Plátano - Sostenimiento      H         19080000.0      NaN   \n",
       "\n",
       "         longitud  \n",
       "1728434       NaN  \n",
       "1735118       NaN  "
      ]
     },
     "execution_count": 71,
     "metadata": {},
     "output_type": "execute_result"
    }
   ],
   "source": [
    "# Establecemos una máscara de filtrado para saber si existen otros registros cuya inversión \n",
    "# se haya realizado en el municipio compartido con los registros de valores nulos\n",
    "filtro_municipio = df['municipio_inversion'] == 'NUEVO BELÉN DE BAJIRÁ' \n",
    "df[filtro_municipio]"
   ]
  },
  {
   "cell_type": "markdown",
   "id": "0e4d72eb-3a2f-484c-bb48-b1bc70f0df87",
   "metadata": {},
   "source": [
    "**Observaciones claves:**\n",
    "- Los únicos registros cuya inversión se destinó al municipio de Nuevo Belén de Bajirá son solo los dos que comparten valores nulos.\n",
    "- Luego de una investigación, se identificó que este municpio es relativamente nuevo y se creó el día 30 de noviembre de 2022. Por tanto no se encuentra categorizado como parte del conjunto de Municipios afectados por la violencia, así que se decide que sus valores nulos sean sustituidos por 'N'."
   ]
  },
  {
   "cell_type": "code",
   "execution_count": 73,
   "id": "08ae3744-7bcd-43fa-a621-df1b9141bd70",
   "metadata": {},
   "outputs": [],
   "source": [
    "df['municipio_de_postconflicto'] = df['municipio_de_postconflicto'].fillna('N') # Se completan los valores nulos con el valor designado\n",
    "# para municipios que no hacen parte del post-conflicto."
   ]
  },
  {
   "cell_type": "code",
   "execution_count": 74,
   "id": "34442e0b-b5d0-4783-bf18-d3cf011bb61e",
   "metadata": {},
   "outputs": [
    {
     "data": {
      "text/plain": [
       "0"
      ]
     },
     "execution_count": 74,
     "metadata": {},
     "output_type": "execute_result"
    }
   ],
   "source": [
    "df['municipio_de_postconflicto'].isna().sum() # Se valida que no existan valores nulos en el campo "
   ]
  },
  {
   "cell_type": "code",
   "execution_count": 75,
   "id": "5046c590-f22a-4088-aeb7-7a57391f633d",
   "metadata": {},
   "outputs": [
    {
     "data": {
      "text/html": [
       "<div>\n",
       "<style scoped>\n",
       "    .dataframe tbody tr th:only-of-type {\n",
       "        vertical-align: middle;\n",
       "    }\n",
       "\n",
       "    .dataframe tbody tr th {\n",
       "        vertical-align: top;\n",
       "    }\n",
       "\n",
       "    .dataframe thead th {\n",
       "        text-align: right;\n",
       "    }\n",
       "</style>\n",
       "<table border=\"1\" class=\"dataframe\">\n",
       "  <thead>\n",
       "    <tr style=\"text-align: right;\">\n",
       "      <th></th>\n",
       "      <th>corte_mes</th>\n",
       "      <th>fuente_colocacion</th>\n",
       "      <th>id_tipo_prod</th>\n",
       "      <th>tipo_productor</th>\n",
       "      <th>valor_inversion</th>\n",
       "      <th>colocacion</th>\n",
       "      <th>id_depto</th>\n",
       "      <th>departamento_inversion</th>\n",
       "      <th>id_munic</th>\n",
       "      <th>municipio_inversion</th>\n",
       "      <th>municipio_de_postconflicto</th>\n",
       "      <th>depcol</th>\n",
       "      <th>departamento_de_colocacion</th>\n",
       "      <th>muncol</th>\n",
       "      <th>municipio_colocacion</th>\n",
       "      <th>plazo</th>\n",
       "      <th>linea_de_credito</th>\n",
       "      <th>linea_de_produccion</th>\n",
       "      <th>id_rubro</th>\n",
       "      <th>destino_de_credito</th>\n",
       "      <th>genero</th>\n",
       "      <th>vlr_inic_garantia</th>\n",
       "      <th>latitud</th>\n",
       "      <th>longitud</th>\n",
       "    </tr>\n",
       "  </thead>\n",
       "  <tbody>\n",
       "    <tr>\n",
       "      <th>1728434</th>\n",
       "      <td>2024-07-31</td>\n",
       "      <td>SUSTITUTA</td>\n",
       "      <td>0</td>\n",
       "      <td>PEQUEÑO</td>\n",
       "      <td>32140000.0</td>\n",
       "      <td>31800000.0</td>\n",
       "      <td>27</td>\n",
       "      <td>CHOCÓ</td>\n",
       "      <td>27493</td>\n",
       "      <td>NUEVO BELÉN DE BAJIRÁ</td>\n",
       "      <td>N</td>\n",
       "      <td>5</td>\n",
       "      <td>ANTIOQUIA</td>\n",
       "      <td>5172</td>\n",
       "      <td>CHIGORODÓ</td>\n",
       "      <td>12</td>\n",
       "      <td>Capital de Trabajo</td>\n",
       "      <td>SOSTENIMIENTO (CT)</td>\n",
       "      <td>133010</td>\n",
       "      <td>133010 Plátano - Sostenimiento</td>\n",
       "      <td>H</td>\n",
       "      <td>NaN</td>\n",
       "      <td>NaN</td>\n",
       "      <td>NaN</td>\n",
       "    </tr>\n",
       "    <tr>\n",
       "      <th>1735118</th>\n",
       "      <td>2024-09-30</td>\n",
       "      <td>SUSTITUTA</td>\n",
       "      <td>1</td>\n",
       "      <td>MEDIANO</td>\n",
       "      <td>38234000.0</td>\n",
       "      <td>31800000.0</td>\n",
       "      <td>27</td>\n",
       "      <td>CHOCÓ</td>\n",
       "      <td>27493</td>\n",
       "      <td>NUEVO BELÉN DE BAJIRÁ</td>\n",
       "      <td>N</td>\n",
       "      <td>5</td>\n",
       "      <td>ANTIOQUIA</td>\n",
       "      <td>5045</td>\n",
       "      <td>APARTADÓ</td>\n",
       "      <td>12</td>\n",
       "      <td>Capital de Trabajo</td>\n",
       "      <td>SOSTENIMIENTO (CT)</td>\n",
       "      <td>133010</td>\n",
       "      <td>133010 Plátano - Sostenimiento</td>\n",
       "      <td>H</td>\n",
       "      <td>19080000.0</td>\n",
       "      <td>NaN</td>\n",
       "      <td>NaN</td>\n",
       "    </tr>\n",
       "  </tbody>\n",
       "</table>\n",
       "</div>"
      ],
      "text/plain": [
       "         corte_mes fuente_colocacion  id_tipo_prod tipo_productor  \\\n",
       "1728434 2024-07-31         SUSTITUTA             0        PEQUEÑO   \n",
       "1735118 2024-09-30         SUSTITUTA             1        MEDIANO   \n",
       "\n",
       "         valor_inversion  colocacion  id_depto departamento_inversion  \\\n",
       "1728434       32140000.0  31800000.0        27                  CHOCÓ   \n",
       "1735118       38234000.0  31800000.0        27                  CHOCÓ   \n",
       "\n",
       "         id_munic    municipio_inversion municipio_de_postconflicto  depcol  \\\n",
       "1728434     27493  NUEVO BELÉN DE BAJIRÁ                          N       5   \n",
       "1735118     27493  NUEVO BELÉN DE BAJIRÁ                          N       5   \n",
       "\n",
       "        departamento_de_colocacion  muncol municipio_colocacion  plazo  \\\n",
       "1728434                  ANTIOQUIA    5172            CHIGORODÓ     12   \n",
       "1735118                  ANTIOQUIA    5045             APARTADÓ     12   \n",
       "\n",
       "           linea_de_credito linea_de_produccion  id_rubro  \\\n",
       "1728434  Capital de Trabajo  SOSTENIMIENTO (CT)    133010   \n",
       "1735118  Capital de Trabajo  SOSTENIMIENTO (CT)    133010   \n",
       "\n",
       "                     destino_de_credito genero  vlr_inic_garantia  latitud  \\\n",
       "1728434  133010 Plátano - Sostenimiento      H                NaN      NaN   \n",
       "1735118  133010 Plátano - Sostenimiento      H         19080000.0      NaN   \n",
       "\n",
       "         longitud  \n",
       "1728434       NaN  \n",
       "1735118       NaN  "
      ]
     },
     "execution_count": 75,
     "metadata": {},
     "output_type": "execute_result"
    }
   ],
   "source": [
    "df[df['municipio_inversion'] == 'NUEVO BELÉN DE BAJIRÁ'] # Se valida la modificación realizada en los registros específicos"
   ]
  },
  {
   "cell_type": "markdown",
   "id": "4ef26cd3-eefd-4b38-89f4-1d3311489844",
   "metadata": {},
   "source": [
    "### 6.2 Gestión de valores Nulos para 'latitud' y 'longitud'"
   ]
  },
  {
   "cell_type": "code",
   "execution_count": 77,
   "id": "a9d69d34-7eaf-48b7-8726-7f6eace9d883",
   "metadata": {},
   "outputs": [
    {
     "data": {
      "text/plain": [
       "latitud\n",
       " 5.250000    28523\n",
       " 5.750000    27264\n",
       " 1.750000    24363\n",
       " 5.416667    23925\n",
       " 5.500000    21448\n",
       "             ...  \n",
       " 1.364840        2\n",
       " 3.514250        1\n",
       "-3.770278        1\n",
       " 0.141030        1\n",
       "-1.005614        1\n",
       "Name: count, Length: 578, dtype: int64"
      ]
     },
     "execution_count": 77,
     "metadata": {},
     "output_type": "execute_result"
    }
   ],
   "source": [
    "mask_latitud = df['latitud'].isna() # Se establece la máscara de filtrado de nulos para el campo 'latitud'\n",
    "df['latitud'].value_counts() # Se revisan que valores puede tomar este campo en el conjunto de datos"
   ]
  },
  {
   "cell_type": "markdown",
   "id": "7269e291-6025-4ba2-8e5d-aa68bada5e51",
   "metadata": {},
   "source": [
    "**Observaciones claves:**\n",
    "- Se deduce que estos dos campos hacen referencia a coordenadas geográficas de ubicaciones, por tanto, es necesario gestonar correctamente los valores correctos según el municipio donde se realizó la inversión."
   ]
  },
  {
   "cell_type": "code",
   "execution_count": 79,
   "id": "b2730e29-232a-404e-9cc3-77b8c221ff2b",
   "metadata": {},
   "outputs": [
    {
     "data": {
      "text/html": [
       "<div>\n",
       "<style scoped>\n",
       "    .dataframe tbody tr th:only-of-type {\n",
       "        vertical-align: middle;\n",
       "    }\n",
       "\n",
       "    .dataframe tbody tr th {\n",
       "        vertical-align: top;\n",
       "    }\n",
       "\n",
       "    .dataframe thead th {\n",
       "        text-align: right;\n",
       "    }\n",
       "</style>\n",
       "<table border=\"1\" class=\"dataframe\">\n",
       "  <thead>\n",
       "    <tr style=\"text-align: right;\">\n",
       "      <th></th>\n",
       "      <th>corte_mes</th>\n",
       "      <th>fuente_colocacion</th>\n",
       "      <th>id_tipo_prod</th>\n",
       "      <th>tipo_productor</th>\n",
       "      <th>valor_inversion</th>\n",
       "      <th>colocacion</th>\n",
       "      <th>id_depto</th>\n",
       "      <th>departamento_inversion</th>\n",
       "      <th>id_munic</th>\n",
       "      <th>municipio_inversion</th>\n",
       "      <th>municipio_de_postconflicto</th>\n",
       "      <th>depcol</th>\n",
       "      <th>departamento_de_colocacion</th>\n",
       "      <th>muncol</th>\n",
       "      <th>municipio_colocacion</th>\n",
       "      <th>plazo</th>\n",
       "      <th>linea_de_credito</th>\n",
       "      <th>linea_de_produccion</th>\n",
       "      <th>id_rubro</th>\n",
       "      <th>destino_de_credito</th>\n",
       "      <th>genero</th>\n",
       "      <th>vlr_inic_garantia</th>\n",
       "      <th>latitud</th>\n",
       "      <th>longitud</th>\n",
       "    </tr>\n",
       "  </thead>\n",
       "  <tbody>\n",
       "    <tr>\n",
       "      <th>1728434</th>\n",
       "      <td>2024-07-31</td>\n",
       "      <td>SUSTITUTA</td>\n",
       "      <td>0</td>\n",
       "      <td>PEQUEÑO</td>\n",
       "      <td>32140000.0</td>\n",
       "      <td>31800000.0</td>\n",
       "      <td>27</td>\n",
       "      <td>CHOCÓ</td>\n",
       "      <td>27493</td>\n",
       "      <td>NUEVO BELÉN DE BAJIRÁ</td>\n",
       "      <td>N</td>\n",
       "      <td>5</td>\n",
       "      <td>ANTIOQUIA</td>\n",
       "      <td>5172</td>\n",
       "      <td>CHIGORODÓ</td>\n",
       "      <td>12</td>\n",
       "      <td>Capital de Trabajo</td>\n",
       "      <td>SOSTENIMIENTO (CT)</td>\n",
       "      <td>133010</td>\n",
       "      <td>133010 Plátano - Sostenimiento</td>\n",
       "      <td>H</td>\n",
       "      <td>NaN</td>\n",
       "      <td>NaN</td>\n",
       "      <td>NaN</td>\n",
       "    </tr>\n",
       "    <tr>\n",
       "      <th>1735118</th>\n",
       "      <td>2024-09-30</td>\n",
       "      <td>SUSTITUTA</td>\n",
       "      <td>1</td>\n",
       "      <td>MEDIANO</td>\n",
       "      <td>38234000.0</td>\n",
       "      <td>31800000.0</td>\n",
       "      <td>27</td>\n",
       "      <td>CHOCÓ</td>\n",
       "      <td>27493</td>\n",
       "      <td>NUEVO BELÉN DE BAJIRÁ</td>\n",
       "      <td>N</td>\n",
       "      <td>5</td>\n",
       "      <td>ANTIOQUIA</td>\n",
       "      <td>5045</td>\n",
       "      <td>APARTADÓ</td>\n",
       "      <td>12</td>\n",
       "      <td>Capital de Trabajo</td>\n",
       "      <td>SOSTENIMIENTO (CT)</td>\n",
       "      <td>133010</td>\n",
       "      <td>133010 Plátano - Sostenimiento</td>\n",
       "      <td>H</td>\n",
       "      <td>19080000.0</td>\n",
       "      <td>NaN</td>\n",
       "      <td>NaN</td>\n",
       "    </tr>\n",
       "  </tbody>\n",
       "</table>\n",
       "</div>"
      ],
      "text/plain": [
       "         corte_mes fuente_colocacion  id_tipo_prod tipo_productor  \\\n",
       "1728434 2024-07-31         SUSTITUTA             0        PEQUEÑO   \n",
       "1735118 2024-09-30         SUSTITUTA             1        MEDIANO   \n",
       "\n",
       "         valor_inversion  colocacion  id_depto departamento_inversion  \\\n",
       "1728434       32140000.0  31800000.0        27                  CHOCÓ   \n",
       "1735118       38234000.0  31800000.0        27                  CHOCÓ   \n",
       "\n",
       "         id_munic    municipio_inversion municipio_de_postconflicto  depcol  \\\n",
       "1728434     27493  NUEVO BELÉN DE BAJIRÁ                          N       5   \n",
       "1735118     27493  NUEVO BELÉN DE BAJIRÁ                          N       5   \n",
       "\n",
       "        departamento_de_colocacion  muncol municipio_colocacion  plazo  \\\n",
       "1728434                  ANTIOQUIA    5172            CHIGORODÓ     12   \n",
       "1735118                  ANTIOQUIA    5045             APARTADÓ     12   \n",
       "\n",
       "           linea_de_credito linea_de_produccion  id_rubro  \\\n",
       "1728434  Capital de Trabajo  SOSTENIMIENTO (CT)    133010   \n",
       "1735118  Capital de Trabajo  SOSTENIMIENTO (CT)    133010   \n",
       "\n",
       "                     destino_de_credito genero  vlr_inic_garantia  latitud  \\\n",
       "1728434  133010 Plátano - Sostenimiento      H                NaN      NaN   \n",
       "1735118  133010 Plátano - Sostenimiento      H         19080000.0      NaN   \n",
       "\n",
       "         longitud  \n",
       "1728434       NaN  \n",
       "1735118       NaN  "
      ]
     },
     "execution_count": 79,
     "metadata": {},
     "output_type": "execute_result"
    }
   ],
   "source": [
    "df[mask_latitud] # Revisamos los registros que contienen valores nulos en este campo específico"
   ]
  },
  {
   "cell_type": "markdown",
   "id": "afe91ade-00f2-4221-a75f-ed65668d8a7b",
   "metadata": {},
   "source": [
    "**Observaciones claves:**\n",
    "- Se determinó que los dos (2) mismos registros que no poseen valores en el campo 'latitud' son los mismos con valores faltantes también en el campo 'longitud'.\n",
    "- Estos registros identificados provienen de proyectos ejecutados en el municipio de 'Nuevo Belén de Bajirá', que como descubrimos en un análisis anterior de otros valores de campos nulos, es un municipio relativamente nuevo y solo existen dos únicos registros relacionados en el conjunto de datos.\n",
    "- Se determina que la mejor opción es investigar las coordenadas geográficas y asignar los valores correspondientes."
   ]
  },
  {
   "cell_type": "code",
   "execution_count": 81,
   "id": "d3084891-44e6-4d53-a308-07abf765fdbf",
   "metadata": {},
   "outputs": [],
   "source": [
    "# Se asigna la sobreescritura de los valores nulos a la coordenada latudinal del municipio de Nuevo Belén de Bajirá\n",
    "df['latitud'] = df['latitud'].fillna(value=7.371528) \n",
    "\n",
    "# Se asigna la sobreescritura de los valores nulos a la coordenada longitudinal del municipio de Nuevo Belén de Bajirá\n",
    "df['longitud'] = df['longitud'].fillna(value=-76.714472)"
   ]
  },
  {
   "cell_type": "code",
   "execution_count": 82,
   "id": "2ddb3d8f-c263-41f1-af37-4559faf2550a",
   "metadata": {},
   "outputs": [
    {
     "data": {
      "text/html": [
       "<div>\n",
       "<style scoped>\n",
       "    .dataframe tbody tr th:only-of-type {\n",
       "        vertical-align: middle;\n",
       "    }\n",
       "\n",
       "    .dataframe tbody tr th {\n",
       "        vertical-align: top;\n",
       "    }\n",
       "\n",
       "    .dataframe thead th {\n",
       "        text-align: right;\n",
       "    }\n",
       "</style>\n",
       "<table border=\"1\" class=\"dataframe\">\n",
       "  <thead>\n",
       "    <tr style=\"text-align: right;\">\n",
       "      <th></th>\n",
       "      <th>corte_mes</th>\n",
       "      <th>fuente_colocacion</th>\n",
       "      <th>id_tipo_prod</th>\n",
       "      <th>tipo_productor</th>\n",
       "      <th>valor_inversion</th>\n",
       "      <th>colocacion</th>\n",
       "      <th>id_depto</th>\n",
       "      <th>departamento_inversion</th>\n",
       "      <th>id_munic</th>\n",
       "      <th>municipio_inversion</th>\n",
       "      <th>municipio_de_postconflicto</th>\n",
       "      <th>depcol</th>\n",
       "      <th>departamento_de_colocacion</th>\n",
       "      <th>muncol</th>\n",
       "      <th>municipio_colocacion</th>\n",
       "      <th>plazo</th>\n",
       "      <th>linea_de_credito</th>\n",
       "      <th>linea_de_produccion</th>\n",
       "      <th>id_rubro</th>\n",
       "      <th>destino_de_credito</th>\n",
       "      <th>genero</th>\n",
       "      <th>vlr_inic_garantia</th>\n",
       "      <th>latitud</th>\n",
       "      <th>longitud</th>\n",
       "    </tr>\n",
       "  </thead>\n",
       "  <tbody>\n",
       "    <tr>\n",
       "      <th>1728434</th>\n",
       "      <td>2024-07-31</td>\n",
       "      <td>SUSTITUTA</td>\n",
       "      <td>0</td>\n",
       "      <td>PEQUEÑO</td>\n",
       "      <td>32140000.0</td>\n",
       "      <td>31800000.0</td>\n",
       "      <td>27</td>\n",
       "      <td>CHOCÓ</td>\n",
       "      <td>27493</td>\n",
       "      <td>NUEVO BELÉN DE BAJIRÁ</td>\n",
       "      <td>N</td>\n",
       "      <td>5</td>\n",
       "      <td>ANTIOQUIA</td>\n",
       "      <td>5172</td>\n",
       "      <td>CHIGORODÓ</td>\n",
       "      <td>12</td>\n",
       "      <td>Capital de Trabajo</td>\n",
       "      <td>SOSTENIMIENTO (CT)</td>\n",
       "      <td>133010</td>\n",
       "      <td>133010 Plátano - Sostenimiento</td>\n",
       "      <td>H</td>\n",
       "      <td>NaN</td>\n",
       "      <td>7.371528</td>\n",
       "      <td>-76.714472</td>\n",
       "    </tr>\n",
       "    <tr>\n",
       "      <th>1735118</th>\n",
       "      <td>2024-09-30</td>\n",
       "      <td>SUSTITUTA</td>\n",
       "      <td>1</td>\n",
       "      <td>MEDIANO</td>\n",
       "      <td>38234000.0</td>\n",
       "      <td>31800000.0</td>\n",
       "      <td>27</td>\n",
       "      <td>CHOCÓ</td>\n",
       "      <td>27493</td>\n",
       "      <td>NUEVO BELÉN DE BAJIRÁ</td>\n",
       "      <td>N</td>\n",
       "      <td>5</td>\n",
       "      <td>ANTIOQUIA</td>\n",
       "      <td>5045</td>\n",
       "      <td>APARTADÓ</td>\n",
       "      <td>12</td>\n",
       "      <td>Capital de Trabajo</td>\n",
       "      <td>SOSTENIMIENTO (CT)</td>\n",
       "      <td>133010</td>\n",
       "      <td>133010 Plátano - Sostenimiento</td>\n",
       "      <td>H</td>\n",
       "      <td>19080000.0</td>\n",
       "      <td>7.371528</td>\n",
       "      <td>-76.714472</td>\n",
       "    </tr>\n",
       "  </tbody>\n",
       "</table>\n",
       "</div>"
      ],
      "text/plain": [
       "         corte_mes fuente_colocacion  id_tipo_prod tipo_productor  \\\n",
       "1728434 2024-07-31         SUSTITUTA             0        PEQUEÑO   \n",
       "1735118 2024-09-30         SUSTITUTA             1        MEDIANO   \n",
       "\n",
       "         valor_inversion  colocacion  id_depto departamento_inversion  \\\n",
       "1728434       32140000.0  31800000.0        27                  CHOCÓ   \n",
       "1735118       38234000.0  31800000.0        27                  CHOCÓ   \n",
       "\n",
       "         id_munic    municipio_inversion municipio_de_postconflicto  depcol  \\\n",
       "1728434     27493  NUEVO BELÉN DE BAJIRÁ                          N       5   \n",
       "1735118     27493  NUEVO BELÉN DE BAJIRÁ                          N       5   \n",
       "\n",
       "        departamento_de_colocacion  muncol municipio_colocacion  plazo  \\\n",
       "1728434                  ANTIOQUIA    5172            CHIGORODÓ     12   \n",
       "1735118                  ANTIOQUIA    5045             APARTADÓ     12   \n",
       "\n",
       "           linea_de_credito linea_de_produccion  id_rubro  \\\n",
       "1728434  Capital de Trabajo  SOSTENIMIENTO (CT)    133010   \n",
       "1735118  Capital de Trabajo  SOSTENIMIENTO (CT)    133010   \n",
       "\n",
       "                     destino_de_credito genero  vlr_inic_garantia   latitud  \\\n",
       "1728434  133010 Plátano - Sostenimiento      H                NaN  7.371528   \n",
       "1735118  133010 Plátano - Sostenimiento      H         19080000.0  7.371528   \n",
       "\n",
       "          longitud  \n",
       "1728434 -76.714472  \n",
       "1735118 -76.714472  "
      ]
     },
     "execution_count": 82,
     "metadata": {},
     "output_type": "execute_result"
    }
   ],
   "source": [
    "# Validamos que los remplazos se hayan realizado correctamente\n",
    "df[df['municipio_inversion'] == 'NUEVO BELÉN DE BAJIRÁ']"
   ]
  },
  {
   "cell_type": "markdown",
   "id": "4779763d-e5b1-4ebf-b7c7-537e2aea9d7c",
   "metadata": {},
   "source": [
    "### 6.3 Gestión de valores Nulos para 'vlr_inic_garantia'"
   ]
  },
  {
   "cell_type": "code",
   "execution_count": 84,
   "id": "b853d584-54c2-409f-87b0-63b597e9c6ad",
   "metadata": {},
   "outputs": [],
   "source": [
    "# Se establece la máscara de filtrado de nulos para el campo 'vlr_inic_garantia'\n",
    "mask = df['vlr_inic_garantia'].isna()"
   ]
  },
  {
   "cell_type": "markdown",
   "id": "384da877-9352-4fab-bf25-0f5a7cf088c9",
   "metadata": {},
   "source": [
    "<div class=\"alert alert-block alert-info\">\n",
    "    <b>✅</b><b>A TENER EN CUENTA:</b> \n",
    "</div>\n",
    "\n",
    " > Previamente, en una exploración anterior del conjunto de datos, se había confirmado que este campo, 'vlr_inic_garantia', es resultado directo del porcentaje fijo de 80% que establece el Fondo Agropecuario de Garantías (FAG) para respaldar parte de sus operaciones de crédito pero que no siempre se encuentran respaldados por esta institución administrada por FINAGRO. Por tanto, los casos en donde no se utilizó su valor debería de ser directamento de cero (0)."
   ]
  },
  {
   "cell_type": "code",
   "execution_count": 86,
   "id": "4900fc75-e181-4fb4-94ca-6700980592a0",
   "metadata": {},
   "outputs": [],
   "source": [
    "# Se asigna la sobreescritura de los valores nulos a cero (0) puesto que las operaciones de crédito \n",
    "# relacionadas no generaron movimientos monetarios en este campo específico\n",
    "df['vlr_inic_garantia'] = df['vlr_inic_garantia'].fillna(value=0)"
   ]
  },
  {
   "cell_type": "code",
   "execution_count": 87,
   "id": "737113d9-7a7e-47c7-bc6a-73955d5125bd",
   "metadata": {},
   "outputs": [
    {
     "data": {
      "text/plain": [
       "0"
      ]
     },
     "execution_count": 87,
     "metadata": {},
     "output_type": "execute_result"
    }
   ],
   "source": [
    "# Se verifica que ya no existan datos nulos en el campo \n",
    "df['vlr_inic_garantia'].isna().sum()"
   ]
  },
  {
   "cell_type": "code",
   "execution_count": 88,
   "id": "2b3641b2-1062-44f0-9d7b-123bfe9c4ba7",
   "metadata": {},
   "outputs": [
    {
     "data": {
      "text/html": [
       "<div>\n",
       "<style scoped>\n",
       "    .dataframe tbody tr th:only-of-type {\n",
       "        vertical-align: middle;\n",
       "    }\n",
       "\n",
       "    .dataframe tbody tr th {\n",
       "        vertical-align: top;\n",
       "    }\n",
       "\n",
       "    .dataframe thead th {\n",
       "        text-align: right;\n",
       "    }\n",
       "</style>\n",
       "<table border=\"1\" class=\"dataframe\">\n",
       "  <thead>\n",
       "    <tr style=\"text-align: right;\">\n",
       "      <th></th>\n",
       "      <th>corte_mes</th>\n",
       "      <th>fuente_colocacion</th>\n",
       "      <th>id_tipo_prod</th>\n",
       "      <th>tipo_productor</th>\n",
       "      <th>valor_inversion</th>\n",
       "      <th>colocacion</th>\n",
       "      <th>id_depto</th>\n",
       "      <th>departamento_inversion</th>\n",
       "      <th>id_munic</th>\n",
       "      <th>municipio_inversion</th>\n",
       "      <th>municipio_de_postconflicto</th>\n",
       "      <th>depcol</th>\n",
       "      <th>departamento_de_colocacion</th>\n",
       "      <th>muncol</th>\n",
       "      <th>municipio_colocacion</th>\n",
       "      <th>plazo</th>\n",
       "      <th>linea_de_credito</th>\n",
       "      <th>linea_de_produccion</th>\n",
       "      <th>id_rubro</th>\n",
       "      <th>destino_de_credito</th>\n",
       "      <th>genero</th>\n",
       "      <th>vlr_inic_garantia</th>\n",
       "      <th>latitud</th>\n",
       "      <th>longitud</th>\n",
       "    </tr>\n",
       "  </thead>\n",
       "  <tbody>\n",
       "    <tr>\n",
       "      <th>0</th>\n",
       "      <td>2021-04-30</td>\n",
       "      <td>REDESCUENTO</td>\n",
       "      <td>1</td>\n",
       "      <td>MEDIANO</td>\n",
       "      <td>24000000.0</td>\n",
       "      <td>23655000.0</td>\n",
       "      <td>5</td>\n",
       "      <td>ANTIOQUIA</td>\n",
       "      <td>5237</td>\n",
       "      <td>DONMATÍAS</td>\n",
       "      <td>S</td>\n",
       "      <td>5</td>\n",
       "      <td>ANTIOQUIA</td>\n",
       "      <td>5237</td>\n",
       "      <td>DONMATÍAS</td>\n",
       "      <td>60</td>\n",
       "      <td>Inversión</td>\n",
       "      <td>COMPRA DE ANIMALES (I)</td>\n",
       "      <td>253061</td>\n",
       "      <td>253061 Retención de vientres ganado bovino</td>\n",
       "      <td>H</td>\n",
       "      <td>0.0</td>\n",
       "      <td>6.500000</td>\n",
       "      <td>-75.333333</td>\n",
       "    </tr>\n",
       "    <tr>\n",
       "      <th>15</th>\n",
       "      <td>2021-04-30</td>\n",
       "      <td>REDESCUENTO</td>\n",
       "      <td>1</td>\n",
       "      <td>MEDIANO</td>\n",
       "      <td>76345000.0</td>\n",
       "      <td>76345000.0</td>\n",
       "      <td>5</td>\n",
       "      <td>ANTIOQUIA</td>\n",
       "      <td>5237</td>\n",
       "      <td>DONMATÍAS</td>\n",
       "      <td>S</td>\n",
       "      <td>5</td>\n",
       "      <td>ANTIOQUIA</td>\n",
       "      <td>5237</td>\n",
       "      <td>DONMATÍAS</td>\n",
       "      <td>60</td>\n",
       "      <td>Inversión</td>\n",
       "      <td>COMERCIALIZACION (I)</td>\n",
       "      <td>641050</td>\n",
       "      <td>641050 Maquinaria y equipos</td>\n",
       "      <td>H</td>\n",
       "      <td>0.0</td>\n",
       "      <td>6.500000</td>\n",
       "      <td>-75.333333</td>\n",
       "    </tr>\n",
       "    <tr>\n",
       "      <th>20</th>\n",
       "      <td>2021-04-30</td>\n",
       "      <td>REDESCUENTO</td>\n",
       "      <td>1</td>\n",
       "      <td>MEDIANO</td>\n",
       "      <td>30000000.0</td>\n",
       "      <td>20000000.0</td>\n",
       "      <td>68</td>\n",
       "      <td>SANTANDER</td>\n",
       "      <td>68235</td>\n",
       "      <td>EL CARMEN DE CHUCURÍ</td>\n",
       "      <td>N</td>\n",
       "      <td>68</td>\n",
       "      <td>SANTANDER</td>\n",
       "      <td>68689</td>\n",
       "      <td>SAN VICENTE DE CHUCURÍ</td>\n",
       "      <td>60</td>\n",
       "      <td>Inversión</td>\n",
       "      <td>SIEMBRAS (I)</td>\n",
       "      <td>151050</td>\n",
       "      <td>151050 Cacao</td>\n",
       "      <td>H</td>\n",
       "      <td>0.0</td>\n",
       "      <td>6.698000</td>\n",
       "      <td>-73.511000</td>\n",
       "    </tr>\n",
       "    <tr>\n",
       "      <th>21</th>\n",
       "      <td>2021-04-30</td>\n",
       "      <td>REDESCUENTO</td>\n",
       "      <td>0</td>\n",
       "      <td>PEQUEÑO</td>\n",
       "      <td>25000000.0</td>\n",
       "      <td>20000000.0</td>\n",
       "      <td>68</td>\n",
       "      <td>SANTANDER</td>\n",
       "      <td>68669</td>\n",
       "      <td>SAN ANDRÉS</td>\n",
       "      <td>S</td>\n",
       "      <td>68</td>\n",
       "      <td>SANTANDER</td>\n",
       "      <td>68432</td>\n",
       "      <td>MÁLAGA</td>\n",
       "      <td>60</td>\n",
       "      <td>Inversión</td>\n",
       "      <td>SIEMBRAS (I)</td>\n",
       "      <td>141100</td>\n",
       "      <td>141100 Café</td>\n",
       "      <td>H</td>\n",
       "      <td>0.0</td>\n",
       "      <td>6.833333</td>\n",
       "      <td>-72.750000</td>\n",
       "    </tr>\n",
       "    <tr>\n",
       "      <th>23</th>\n",
       "      <td>2021-04-30</td>\n",
       "      <td>SUSTITUTA</td>\n",
       "      <td>0</td>\n",
       "      <td>PEQUEÑO</td>\n",
       "      <td>1073980.0</td>\n",
       "      <td>1073980.0</td>\n",
       "      <td>13</td>\n",
       "      <td>BOLÍVAR</td>\n",
       "      <td>13430</td>\n",
       "      <td>MAGANGUÉ</td>\n",
       "      <td>N</td>\n",
       "      <td>13</td>\n",
       "      <td>BOLÍVAR</td>\n",
       "      <td>13430</td>\n",
       "      <td>MAGANGUÉ</td>\n",
       "      <td>13</td>\n",
       "      <td>Capital de Trabajo</td>\n",
       "      <td>MICROCREDITO (CT)</td>\n",
       "      <td>165000</td>\n",
       "      <td>165000 CAPITAL DE TRABAJO - MICROCRÉDITO AGROP...</td>\n",
       "      <td>H</td>\n",
       "      <td>0.0</td>\n",
       "      <td>9.241389</td>\n",
       "      <td>-74.753333</td>\n",
       "    </tr>\n",
       "  </tbody>\n",
       "</table>\n",
       "</div>"
      ],
      "text/plain": [
       "    corte_mes fuente_colocacion  id_tipo_prod tipo_productor  valor_inversion  \\\n",
       "0  2021-04-30       REDESCUENTO             1        MEDIANO       24000000.0   \n",
       "15 2021-04-30       REDESCUENTO             1        MEDIANO       76345000.0   \n",
       "20 2021-04-30       REDESCUENTO             1        MEDIANO       30000000.0   \n",
       "21 2021-04-30       REDESCUENTO             0        PEQUEÑO       25000000.0   \n",
       "23 2021-04-30         SUSTITUTA             0        PEQUEÑO        1073980.0   \n",
       "\n",
       "    colocacion  id_depto departamento_inversion  id_munic  \\\n",
       "0   23655000.0         5              ANTIOQUIA      5237   \n",
       "15  76345000.0         5              ANTIOQUIA      5237   \n",
       "20  20000000.0        68              SANTANDER     68235   \n",
       "21  20000000.0        68              SANTANDER     68669   \n",
       "23   1073980.0        13                BOLÍVAR     13430   \n",
       "\n",
       "     municipio_inversion municipio_de_postconflicto  depcol  \\\n",
       "0              DONMATÍAS                          S       5   \n",
       "15             DONMATÍAS                          S       5   \n",
       "20  EL CARMEN DE CHUCURÍ                          N      68   \n",
       "21            SAN ANDRÉS                          S      68   \n",
       "23              MAGANGUÉ                          N      13   \n",
       "\n",
       "   departamento_de_colocacion  muncol    municipio_colocacion  plazo  \\\n",
       "0                   ANTIOQUIA    5237               DONMATÍAS     60   \n",
       "15                  ANTIOQUIA    5237               DONMATÍAS     60   \n",
       "20                  SANTANDER   68689  SAN VICENTE DE CHUCURÍ     60   \n",
       "21                  SANTANDER   68432                  MÁLAGA     60   \n",
       "23                    BOLÍVAR   13430                MAGANGUÉ     13   \n",
       "\n",
       "      linea_de_credito     linea_de_produccion  id_rubro  \\\n",
       "0            Inversión  COMPRA DE ANIMALES (I)    253061   \n",
       "15           Inversión    COMERCIALIZACION (I)    641050   \n",
       "20           Inversión            SIEMBRAS (I)    151050   \n",
       "21           Inversión            SIEMBRAS (I)    141100   \n",
       "23  Capital de Trabajo       MICROCREDITO (CT)    165000   \n",
       "\n",
       "                                   destino_de_credito genero  \\\n",
       "0          253061 Retención de vientres ganado bovino      H   \n",
       "15                        641050 Maquinaria y equipos      H   \n",
       "20                                       151050 Cacao      H   \n",
       "21                                        141100 Café      H   \n",
       "23  165000 CAPITAL DE TRABAJO - MICROCRÉDITO AGROP...      H   \n",
       "\n",
       "    vlr_inic_garantia   latitud   longitud  \n",
       "0                 0.0  6.500000 -75.333333  \n",
       "15                0.0  6.500000 -75.333333  \n",
       "20                0.0  6.698000 -73.511000  \n",
       "21                0.0  6.833333 -72.750000  \n",
       "23                0.0  9.241389 -74.753333  "
      ]
     },
     "execution_count": 88,
     "metadata": {},
     "output_type": "execute_result"
    }
   ],
   "source": [
    "# Se verifica que la modificación se realizó correctamente\n",
    "df[df['vlr_inic_garantia'] == 0].head()"
   ]
  },
  {
   "cell_type": "markdown",
   "id": "1ba96d3f-0603-4039-82e6-bf3b8a470b24",
   "metadata": {},
   "source": [
    "## Actividad #7. Verificar y gestionar la integridad de los campos etiquetas y categóricos"
   ]
  },
  {
   "cell_type": "markdown",
   "id": "2a6adaaa-f8fd-489b-a2db-ba4983fb7fc5",
   "metadata": {},
   "source": [
    "### 7.1 Validación del campo 'fuente_colocación'"
   ]
  },
  {
   "cell_type": "code",
   "execution_count": 91,
   "id": "f47b8e9c-d0e2-4b8d-8407-59f0cc1df9df",
   "metadata": {},
   "outputs": [
    {
     "data": {
      "text/plain": [
       "fuente_colocacion\n",
       "REDESCUENTO     1215310\n",
       "SUSTITUTA        492226\n",
       "AGROPECUARIA      10403\n",
       "Name: count, dtype: int64"
      ]
     },
     "execution_count": 91,
     "metadata": {},
     "output_type": "execute_result"
    }
   ],
   "source": [
    "# Verificamos que este campo solo tome los valores que asegura FINAGRO que debe tomar\n",
    "df['fuente_colocacion'].value_counts()"
   ]
  },
  {
   "cell_type": "markdown",
   "id": "51741697-52fd-42ed-b01b-1150a079f926",
   "metadata": {},
   "source": [
    "**Observaciones claves:**\n",
    "- El campo ****'fuente_colocacion'**** solo podrá tomar los siguientes valores, como tipo de dato objeto (texto)):\n",
    "  - REDESCUENTO\n",
    "  - SUSTITUTA\n",
    "  - AGROPECUARIA"
   ]
  },
  {
   "cell_type": "markdown",
   "id": "70f26ab3-1dfa-4d16-9466-b2ee1b69a80a",
   "metadata": {},
   "source": [
    "### 7.2 Validación de los campos 'id_tipo_prod' & 'tipo_productor'"
   ]
  },
  {
   "cell_type": "code",
   "execution_count": 94,
   "id": "74452427-5808-4b6c-ab99-e9c744262590",
   "metadata": {},
   "outputs": [
    {
     "data": {
      "text/plain": [
       "id_tipo_prod  tipo_productor\n",
       "0             PEQUEÑO           1026229\n",
       "1             MEDIANO            213227\n",
       "2             GRANDE              66239\n",
       "3             PEQUEÑO PPIB       412244\n",
       "Name: count, dtype: int64"
      ]
     },
     "execution_count": 94,
     "metadata": {},
     "output_type": "execute_result"
    }
   ],
   "source": [
    "# Verificamos que este campo solo tome los valores que asegura FINAGRO que debe tomar\n",
    "df.groupby(by=['id_tipo_prod'])[['tipo_productor']].value_counts()"
   ]
  },
  {
   "cell_type": "markdown",
   "id": "5194b092-cd6f-48a1-a4ae-a2b8aee5f8db",
   "metadata": {},
   "source": [
    "**Observaciones claves:**\n",
    "- El campo ****'tipo_productor'**** esta relacionado con un código de identidad categórica en el campo ****'id_tipo_prod'**** , y solo podrá tomar los siguientes valores, como tipo de dato objeto (texto)):\n",
    "  - PEQUEÑO con id = 0\n",
    "  - MEDIANO con id = 1\n",
    "  - GRANDE con id = 2\n",
    "  - PEQUEÑO PPIB con id = 3"
   ]
  },
  {
   "cell_type": "markdown",
   "id": "5cfd223a-35d9-47dd-b3f8-695ed487d980",
   "metadata": {},
   "source": [
    "### 7.3 Validación de los campos 'id_depto' & 'departamento_inversion'"
   ]
  },
  {
   "cell_type": "code",
   "execution_count": 97,
   "id": "ad24cdc8-07d6-4eaf-af5a-e30f9b73dc2d",
   "metadata": {},
   "outputs": [
    {
     "data": {
      "text/plain": [
       "id_depto  departamento_inversion                  \n",
       "5         ANTIOQUIA                                   177293\n",
       "8         ATLÁNTICO                                    13294\n",
       "11        BOGOTÁ, D.C.                                 19113\n",
       "13        BOLÍVAR                                      37190\n",
       "15        BOYACÁ                                      175096\n",
       "17        CALDAS                                       59190\n",
       "18        CAQUETÁ                                      26669\n",
       "19        CAUCA                                       100763\n",
       "20        CESAR                                        27902\n",
       "23        CÓRDOBA                                      57811\n",
       "25        CUNDINAMARCA                                159549\n",
       "27        CHOCÓ                                        12459\n",
       "41        HUILA                                       115046\n",
       "44        LA GUAJIRA                                   11492\n",
       "47        MAGDALENA                                    25034\n",
       "50        META                                         52290\n",
       "52        NARIÑO                                      142767\n",
       "54        NORTE DE SANTANDER                           48777\n",
       "63        QUINDÍO                                      15191\n",
       "66        RISARALDA                                    28193\n",
       "68        SANTANDER                                   113233\n",
       "70        SUCRE                                        31876\n",
       "73        TOLIMA                                      103134\n",
       "76        VALLE DEL CAUCA                              69433\n",
       "81        ARAUCA                                       20147\n",
       "85        CASANARE                                     38141\n",
       "86        PUTUMAYO                                     24943\n",
       "88        SAN ANDRÉS, PROVIDENCIA Y SANTA CATALINA       690\n",
       "91        AMAZONAS                                       444\n",
       "94        GUAINÍA                                        786\n",
       "95        GUAVIARE                                      6672\n",
       "97        VAUPÉS                                        1237\n",
       "99        VICHADA                                       2084\n",
       "Name: count, dtype: int64"
      ]
     },
     "execution_count": 97,
     "metadata": {},
     "output_type": "execute_result"
    }
   ],
   "source": [
    "# Verificamos que este campo solo tome los valores que asegura FINAGRO que debe tomar\n",
    "df.groupby(by=['id_depto'])[['departamento_inversion']].value_counts().sort_index()"
   ]
  },
  {
   "cell_type": "markdown",
   "id": "6bb28346-afe5-47c3-919a-5d9b6e8431ae",
   "metadata": {},
   "source": [
    "**Observaciones claves:**\n",
    "- El campo ****'departamento_inversion'**** esta relacionado con un código de identidad categórica en el campo ****'id_depto'**** , y solo podrá tomar los siguientes valores, como tipo de dato objeto (texto)):\n",
    "  - ANTIOQUIA  con id = 5\n",
    "  - ATLÁNTICO  con id = 8\n",
    "  - BOGOTÁ, D.C.  con id = 11\n",
    "  - BOLÍVAR  con id = 13\n",
    "  - BOYACÁ con id = 15\n",
    "  - CALDAS con id = 17\n",
    "  - CAQUETÁ con id = 18\n",
    "  - CAUCA con id = 19\n",
    "  - CESAR con id = 20\n",
    "  - CÓRDOBA con id = 23\n",
    "  - CUNDINAMARCA con id = 25\n",
    "  - CHOCÓ con id = 27\n",
    "  - HUILA con id = 41\n",
    "  - LA GUAJIRA con id = 44\n",
    "  - MAGDALENA con id = 47\n",
    "  - META con id = 50\n",
    "  - NARIÑO con id = 52\n",
    "  - NORTE DE SANTANDER con id = 54\n",
    "  - QUINDÍO con id = 63\n",
    "  - RISARALDA con id = 66\n",
    "  - SANTANDER con id = 68\n",
    "  - SUCRE con id = 70\n",
    "  - TOLIMA con id = 73\n",
    "  - VALLE DEL CAUCA con id = 76\n",
    "  - ARAUCA con id = 81\n",
    "  - CASANARE con id = 85\n",
    "  - PUTUMAYO con id = 86\n",
    "  - SAN ANDRÉS, PROVIDENCIA Y SANTA CATALINA con id = 88\n",
    "  - AMAZONAS con id = 91\n",
    "  - GUAINÍA con id = 94\n",
    "  - GUAVIARE con id = 95\n",
    "  - VAUPÉS con id = 97\n",
    "  - VICHADA con id = 99"
   ]
  },
  {
   "cell_type": "markdown",
   "id": "93ee6559-4f3e-473b-bfc8-b0e12a353baf",
   "metadata": {},
   "source": [
    "### 7.4 Validación de los campos'depcol' & 'departamento_de_colocacion'"
   ]
  },
  {
   "cell_type": "code",
   "execution_count": 100,
   "id": "640a157a-d315-41a0-bf55-2ad31b62fc30",
   "metadata": {},
   "outputs": [
    {
     "data": {
      "text/plain": [
       "depcol  departamento_de_colocacion              \n",
       "5       ANTIOQUIA                                   186617\n",
       "8       ATLÁNTICO                                    14536\n",
       "11      BOGOTÁ, D.C.                                 71923\n",
       "13      BOLÍVAR                                      31401\n",
       "15      BOYACÁ                                      171449\n",
       "17      CALDAS                                       59251\n",
       "18      CAQUETÁ                                      27544\n",
       "19      CAUCA                                        93888\n",
       "20      CESAR                                        31070\n",
       "23      CÓRDOBA                                      53342\n",
       "25      CUNDINAMARCA                                152922\n",
       "27      CHOCÓ                                         9897\n",
       "41      HUILA                                       113238\n",
       "44      LA GUAJIRA                                   10780\n",
       "47      MAGDALENA                                    23745\n",
       "50      META                                         44860\n",
       "52      NARIÑO                                      139880\n",
       "54      NORTE DE SANTANDER                           46909\n",
       "63      QUINDÍO                                      14876\n",
       "66      RISARALDA                                    26664\n",
       "68      SANTANDER                                   106158\n",
       "70      SUCRE                                        32998\n",
       "73      TOLIMA                                       98833\n",
       "76      VALLE DEL CAUCA                              65616\n",
       "81      ARAUCA                                       18990\n",
       "85      CASANARE                                     33649\n",
       "86      PUTUMAYO                                     24340\n",
       "88      SAN ANDRÉS, PROVIDENCIA Y SANTA CATALINA       687\n",
       "91      AMAZONAS                                       826\n",
       "94      GUAINÍA                                        798\n",
       "95      GUAVIARE                                      7201\n",
       "97      VAUPÉS                                        1214\n",
       "99      VICHADA                                       1837\n",
       "Name: count, dtype: int64"
      ]
     },
     "execution_count": 100,
     "metadata": {},
     "output_type": "execute_result"
    }
   ],
   "source": [
    "# Verificamos que este campo solo tome los valores que asegura FINAGRO que debe tomar\n",
    "df.groupby(by=['depcol'])[['departamento_de_colocacion']].value_counts().sort_index()"
   ]
  },
  {
   "cell_type": "markdown",
   "id": "8670820c-d49d-494b-a973-b97685eca959",
   "metadata": {},
   "source": [
    "**Observaciones claves:**\n",
    "- El campo ****'departamento_de_colocacion'**** esta relacionado con un código de identidad categórica en el campo ****'depcol'**** , y solo podrá tomar los mismos valores identificados para el campo ****'departamento_inversion'**** y ****'id_munic'****."
   ]
  },
  {
   "cell_type": "markdown",
   "id": "2d950c5d-343a-4585-84ff-4cfa65717224",
   "metadata": {},
   "source": [
    "### 7.5 Validación de los campos 'id_munic' & 'municipio_inversion'"
   ]
  },
  {
   "cell_type": "code",
   "execution_count": 103,
   "id": "49b0d0df-7691-420e-8b9e-cc79aceb2ee0",
   "metadata": {},
   "outputs": [
    {
     "data": {
      "text/plain": [
       "id_munic  municipio_inversion  \n",
       "13244     EL CARMEN DE BOLÍVAR     3679\n",
       "          EL CARMEN DE BOLÍVA       248\n",
       "15693     SANTA ROSA DE VITERBO    1341\n",
       "          SANTA ROSA DE VITER        96\n",
       "19548     PIENDAMÓ - TUNÍA         5642\n",
       "          PIENDAMÓ  TUNÍA           197\n",
       "70742     SAN LUIS DE SINCÉ        1289\n",
       "          SAN JUAN DE SINCÉ          56\n",
       "76001     CALI                     2836\n",
       "          SANTIAGO DE CALI         2204\n",
       "95001     SAN JOSÉ DEL GUAVIARE    4193\n",
       "          SAN JOSÉ DEL GUAVIA       266\n",
       "Name: count, dtype: int64"
      ]
     },
     "execution_count": 103,
     "metadata": {},
     "output_type": "execute_result"
    }
   ],
   "source": [
    "# Verificación del número de municipios de inversión únicos por ID\n",
    "mask_unicos = df.groupby(by='id_munic')['municipio_inversion'].nunique()\n",
    "\n",
    "# Identificación de IDs que hacen referencia a más de un municipio\n",
    "ids_invalidos = mask_unicos[mask_unicos > 1].index\n",
    "\n",
    "# Filtramos el DataFrame con los IDs problemáticos\n",
    "result = df[df['id_munic'].isin(ids_invalidos)]\n",
    "\n",
    "# Mostramos cuales son esos IDs problemáticos y que valores toma\n",
    "result.groupby(by='id_munic')['municipio_inversion'].value_counts()"
   ]
  },
  {
   "cell_type": "markdown",
   "id": "acb2c5c6-3409-4c52-999b-8b35ab4bbde0",
   "metadata": {},
   "source": [
    "**Observaciones claves:**\n",
    "- los valores de ****'id_munic'**** que hacen referencia a más de un valor en ****'municipio_inversion'**** son:\n",
    "  - ID 13244 con dos valores en municipio_inversion:\n",
    "    - EL CARMEN DE BOLÍVAR\n",
    "    - EL CARMEN DE BOLÍVA\n",
    "  - ID 15693 con dos valores en municipio_inversion:\n",
    "    - SANTA ROSA DE VITERBO\n",
    "    - SANTA ROSA DE VITER\n",
    "  - ID 19548 con dos valores en municipio_inversion:\n",
    "    - PIENDAMÓ - TUNÍA\n",
    "    - PIENDAMÓ  TUNÍA\n",
    "  - ID 70742 con dos valores en municipio_inversion:\n",
    "    - SAN LUIS DE SINCÉ\n",
    "    - SAN JUAN DE SINCÉ\n",
    "  - ID 76001 con dos valores en municipio_inversion:\n",
    "    - CALI\n",
    "    - SANTIAGO DE CALI\n",
    "  - ID 95001 con dos valores en municipio_inversion:\n",
    "    - SAN JOSÉ DEL GUAVIARE\n",
    "    - SAN JOSÉ DEL GUAVIA"
   ]
  },
  {
   "cell_type": "code",
   "execution_count": 105,
   "id": "1bc68c16-21db-4111-9468-b855c9ab653d",
   "metadata": {},
   "outputs": [
    {
     "name": "stdout",
     "output_type": "stream",
     "text": [
      "Para el ID: 13244 en la columna id_munic se asignó el valor: EL CARMEN DE BOLÍVAR al campo municipio_inversion\n",
      "Para el ID: 15693 en la columna id_munic se asignó el valor: SANTA ROSA DE VITERBO al campo municipio_inversion\n",
      "Para el ID: 19548 en la columna id_munic se asignó el valor: PIENDAMÓ al campo municipio_inversion\n",
      "Para el ID: 70742 en la columna id_munic se asignó el valor: SINCÉ al campo municipio_inversion\n",
      "Para el ID: 76001 en la columna id_munic se asignó el valor: CALI al campo municipio_inversion\n",
      "Para el ID: 95001 en la columna id_munic se asignó el valor: SAN JOSÉ DEL GUAVIARE al campo municipio_inversion\n"
     ]
    }
   ],
   "source": [
    "# Realizamos la corrección según el número ID del municipio, asignando el nombre correcto que registra según el DANE\n",
    "\n",
    "# Definimos una función para el proceso de corrección ya que el proceso se realizará multiples veces\n",
    "def corregir_id_num(df_name, columna_id_name, columna_municipio_name, columna_id_valor, columna_municipio_valor):\n",
    "    # Usamos df.loc para modificar el valor en el DataFrame basado en la condición\n",
    "    df_name.loc[df_name[columna_id_name] == columna_id_valor, columna_municipio_name] = columna_municipio_valor\n",
    "    print(f'Para el ID: {columna_id_valor} en la columna {columna_id_name} se asignó el valor: {columna_municipio_valor} al campo {columna_municipio_name}')\n",
    "\n",
    "# Diccionario con las correcciones a realizar\n",
    "diccionario_correccion = {\n",
    "    13244: 'EL CARMEN DE BOLÍVAR',\n",
    "    15693: 'SANTA ROSA DE VITERBO',\n",
    "    19548: 'PIENDAMÓ',\n",
    "    70742: 'SINCÉ',\n",
    "    76001: 'CALI',\n",
    "    95001: 'SAN JOSÉ DEL GUAVIARE'\n",
    "}\n",
    "\n",
    "# Iteramos sobre el diccionario y corregimos los valores en el DataFrame\n",
    "for index, valor in diccionario_correccion.items():\n",
    "    corregir_id_num(df, 'id_munic', 'municipio_inversion', index, valor)"
   ]
  },
  {
   "cell_type": "code",
   "execution_count": 106,
   "id": "e46b4578-bdb1-4667-bb97-95a976e1aa59",
   "metadata": {},
   "outputs": [
    {
     "data": {
      "text/plain": [
       "Series([], Name: count, dtype: int64)"
      ]
     },
     "execution_count": 106,
     "metadata": {},
     "output_type": "execute_result"
    }
   ],
   "source": [
    "# Verificamos que ya no existan IDs asignados a más de un único valor de campo en 'municipio_inversion'\n",
    "\n",
    "mask_unicos = df.groupby(by='id_munic')['municipio_inversion'].nunique()\n",
    "ids_invalidos = mask_unicos[mask_unicos > 1].index\n",
    "ids_invalidos.value_counts() # Devuelve una lista vacía lo que indica que se eliminó la inconformidad hallada anteriormente"
   ]
  },
  {
   "cell_type": "markdown",
   "id": "b393e695-4a8e-4c71-af3f-8483358f0443",
   "metadata": {},
   "source": [
    "<div class=\"alert alert-block alert-info\">\n",
    "    <b>✅</b><b>A TENER EN CUENTA:</b> \n",
    "</div>\n",
    "\n",
    " > Se corrigieron todas las inconformidades halladas entre el campo ***'id_munic'*** y ***'municipio_inversion'***"
   ]
  },
  {
   "cell_type": "markdown",
   "id": "66512014-6003-476c-a190-a27b31271443",
   "metadata": {},
   "source": [
    "### 7.6 Validación de los campos 'id_rubro' & 'destino_de_credito'"
   ]
  },
  {
   "cell_type": "code",
   "execution_count": 109,
   "id": "40f9ae58-8b0a-4e67-8e57-ba009c060cb3",
   "metadata": {},
   "outputs": [
    {
     "data": {
      "text/plain": [
       "id_rubro  destino_de_credito                                  \n",
       "102001    102001 Agricultura orgánica, ecológica y/o biológica      8\n",
       "          102001 AGRICULTURA ORGÁNICA ECOLÓGICA Y BIOLÓGICA         2\n",
       "102002    102002 Agroforestería                                     2\n",
       "          102002 AGROFORESTERÍA                                     1\n",
       "104003    104003 Apicultura                                       118\n",
       "                                                                 ... \n",
       "920004    920004 Reproducción y sostenimiento Tilapia              34\n",
       "920005    920005 REPRODUCCIÓN Y SOSTENIMIENTO TRUCHA LEC           13\n",
       "          920005 Reproducción y sostenimiento Trucha               13\n",
       "920006    920006 REPRODUCCIÓN Y SOSTENIMIENTO CACHAMA LEC          14\n",
       "          920006 Reproducción y sostenimiento Cachama               8\n",
       "Name: count, Length: 431, dtype: int64"
      ]
     },
     "execution_count": 109,
     "metadata": {},
     "output_type": "execute_result"
    }
   ],
   "source": [
    "# Verificación del número de destinos únicos por ID\n",
    "mask_unicos = df.groupby(by='id_rubro')['destino_de_credito'].nunique()\n",
    "\n",
    "# Identificación de IDs que hacen referencia a más de un destino\n",
    "ids_invalidos = mask_unicos[mask_unicos > 1].index\n",
    "\n",
    "# Filtramos el DataFrame con los IDs problemáticos\n",
    "result = df[df['id_rubro'].isin(ids_invalidos)]\n",
    "\n",
    "# Mostramos cuales son esos IDs problemáticos y que valores toma\n",
    "result.groupby(by='id_rubro')['destino_de_credito'].value_counts()"
   ]
  },
  {
   "cell_type": "code",
   "execution_count": 110,
   "id": "8f490e47-2174-4512-9497-ae8f5e26dd25",
   "metadata": {},
   "outputs": [
    {
     "data": {
      "text/plain": [
       "431"
      ]
     },
     "execution_count": 110,
     "metadata": {},
     "output_type": "execute_result"
    }
   ],
   "source": [
    "# Identificamos cuantos registros en el dataset estan asociados a la inconformidad \n",
    "mask_unicos[mask_unicos > 1].sum()"
   ]
  },
  {
   "cell_type": "code",
   "execution_count": 111,
   "id": "c3f2cb3e-fd85-4f53-b1dc-482a8ac8eb0c",
   "metadata": {},
   "outputs": [
    {
     "data": {
      "text/plain": [
       "212"
      ]
     },
     "execution_count": 111,
     "metadata": {},
     "output_type": "execute_result"
    }
   ],
   "source": [
    "# Identificamos cuantos IDs en el dataset estan asociados a la inconformidad \n",
    "mask_unicos[mask_unicos > 1].count()"
   ]
  },
  {
   "cell_type": "markdown",
   "id": "70b2dde9-562b-44cb-8dc1-daeeda2899d7",
   "metadata": {},
   "source": [
    "**Observaciones claves:**\n",
    "- Como los IDs con inconformidades son demasiados se creará un diccionario para resolver conflictos tomando el valor más frecuente."
   ]
  },
  {
   "cell_type": "code",
   "execution_count": 113,
   "id": "f0d1eafd-2c9e-4311-bf8f-eeeb3d3034c9",
   "metadata": {},
   "outputs": [],
   "source": [
    "# Creación de un diccionario para resolver conflictos tomando el valor más frecuente.\n",
    "resoluciones = (\n",
    "    df[df['id_rubro'].isin(ids_invalidos)]\n",
    "    .groupby('id_rubro')['destino_de_credito']\n",
    "    .agg(lambda x: x.mode().iloc[0] if not x.mode().empty else x.iloc[0])\n",
    "    .to_dict()\n",
    ")"
   ]
  },
  {
   "cell_type": "code",
   "execution_count": 114,
   "id": "f6296067-9d9c-4016-9a42-a2cdc33b2251",
   "metadata": {},
   "outputs": [
    {
     "data": {
      "text/plain": [
       "{102001: '102001 AGRICULTURA ORGÁNICA,\\xa0ECOLÓGICA\\xa0Y/O BIOLÓGICA',\n",
       " 102002: '102002 AGROFORESTERÍA',\n",
       " 104003: '104003 APICULTURA',\n",
       " 105003: '105003 EQUIPOS PARA EL MANEJO SOSTENIBLE DEL AGUA',\n",
       " 108002: '108002 CAPITALIZACIÓN ADQUISICIÓN Y CREACIÓN DE EMPRESAS DE BIOECONOMÍA',\n",
       " 109001: '109001 TURISMO ECOLÓGICO',\n",
       " 109002: '109002 INFRAESTRUCTURA MAQUINARIA Y EQUIPOS PARA TURSIMO ECOLÓGICO',\n",
       " 111100: '111100 ALGODÓN',\n",
       " 111150: '111150 ARROZ RIEGO',\n",
       " 111200: '111200 ARROZ SECANO',\n",
       " 111350: '111350 FRIJOL',\n",
       " 111450: '111450 MANÍ',\n",
       " 111500: '111500 PAPA',\n",
       " 121030: '121030 AJÍ',\n",
       " 121090: '121090 ARVEJA',\n",
       " 121150: '121150 CEBOLLA CABEZONA',\n",
       " 121180: '121180 CEBOLLA DE HOJA',\n",
       " 121300: '121300 HABICHUELA',\n",
       " 121330: '121330 LECHUGA',\n",
       " 121450: '121450 TOMATE',\n",
       " 121480: '121480 ZANAHORIA',\n",
       " 121510: '121510 FRESAS',\n",
       " 121570: '121570 MELÓN',\n",
       " 121580: '121580 SANDÍA',\n",
       " 121600: '121600 PEPINO',\n",
       " 121620: '121620 ESTROPAJO',\n",
       " 121630: '121630 OTROS CULTIVOS',\n",
       " 121690: '121690 TABACO RUBIO',\n",
       " 121880: '121880 PLANTAS MEDICINALES Y ORNAMENTALES',\n",
       " 124000: '124000 AJÍ TABASCO',\n",
       " 129978: '129978 CAPITAL DE TRABAJO AGROPECUARIO Y RURAL',\n",
       " 130001: '130001 BREVO - SIEMBRA',\n",
       " 130003: '130003 GUAYABA',\n",
       " 131050: '131050 ARRACACHA',\n",
       " 131100: '131100 ÑAME',\n",
       " 131150: '131150 MALANGA O YAUTÍA',\n",
       " 131200: '131200 YUCA',\n",
       " 131250: '131250 ACHIRA',\n",
       " 131400: '131400 OTROS CULTIVOS PERENNES - SOSTENIMIENTO',\n",
       " 132040: '132040 SOSTENIMIENTO DE BANANO',\n",
       " 132050: '132050 SOSTENIMIENTO DE CACAO',\n",
       " 132060: '132060 SOSTENIMIENTO CAUCHO',\n",
       " 132150: '132150 SOSTENIMIENTO PALMA DE ACEITE',\n",
       " 132200: '132200 SOSTENIMIENTO CAÑA PANELERA',\n",
       " 132220: '132220 SOSTENIMIENTO CAÑA DE AZÚCAR',\n",
       " 132270: '132270 VIVEROS',\n",
       " 132310: '132310 SOSTENIMIENTO CAFÉ',\n",
       " 132420: '132420 FRUTALES PERENNES – SOSTENIMIENTO',\n",
       " 133010: '133010 PLÁTANO - SOSTENIMIENTO',\n",
       " 133060: '133060 AHUYAMA',\n",
       " 134010: '134010 PIMENTÓN',\n",
       " 134020: '134020 QUINUA',\n",
       " 141060: '141060 CAÑA PANELERA',\n",
       " 141090: '141090 CAÑA DE AZÚCAR',\n",
       " 141100: '141100 CAFÉ',\n",
       " 141101: '141101 RENOVACIÓN CAFÉ POR SIEMBRA',\n",
       " 141150: '141150 RENOVACIÓN CAFETALES ENVEJECIDOS',\n",
       " 141280: '141280 PIÑA',\n",
       " 141300: '141300 VID',\n",
       " 141420: '141420 BANANO',\n",
       " 141421: '141421 RENOVACIÓN DE BANANO',\n",
       " 141430: '141430 PLÁTANO',\n",
       " 141450: '141450 FIQUE',\n",
       " 141525: '141525 RENOVACIÓN CAFÉ POR ZOCA',\n",
       " 141550: '141550 TOMATE DE ÁRBOL',\n",
       " 141600: '141600 FLORES',\n",
       " 141700: '141700 CULTIVOS, MANTENIMIENTO ETAPA IMPRODUCTIVA (PERENNES)',\n",
       " 144000: '144000 OTROS CULTIVOS MEDIANO RENDIMIENTO',\n",
       " 151050: '151050 CACAO',\n",
       " 151051: '151051 RENOVACIÓN CACAO',\n",
       " 151052: '151052 RENOVACIÓN CULTIVOS ENVEJECIDOS DE CACAO',\n",
       " 151100: '151100 CIRUELO',\n",
       " 151120: '151120 DURAZNO',\n",
       " 151130: '151130 PERO - PERENNES - SIEMBRA',\n",
       " 151150: '151150 BOSQUES',\n",
       " 151160: '151160 CULTIVOS DE SILVOPASTOREO',\n",
       " 151200: '151200 PALMA DE COCO',\n",
       " 151250: '151250 PALMA DE ACEITE',\n",
       " 151251: '151251 RENOVACIÓN PALMA DE ACEITE',\n",
       " 151300: '151300 CAUCHO - SIEMBRA',\n",
       " 151310: '151310 AGUACATE',\n",
       " 151330: '151330 OTROS FRUTALES PERENNES',\n",
       " 151340: '151340 CÍTRICOS',\n",
       " 151350: '151350 CURUBA',\n",
       " 151360: '151360 LULO',\n",
       " 151370: '151370 MARACUYÁ',\n",
       " 151380: '151380 MORA',\n",
       " 151390: '151390 PAPAYA',\n",
       " 151400: '151400 ESPÁRRAGOS',\n",
       " 151403: '151403 RENOVACIÓN CULTIVOS PERENNES POR AFECTACIÓN FITOSANITARIA',\n",
       " 151410: '151410 PALMA - DE CHONTADURO - SIEMBRA - SIEMBRA',\n",
       " 151550: '151550 FEIJOA',\n",
       " 151600: '151600 MACADAMIA',\n",
       " 151610: '151610 LIMA TAHITÍ',\n",
       " 151620: '151620 UCHUVA',\n",
       " 151630: '151630 GULUPA',\n",
       " 151640: '151640 GRANADILLA',\n",
       " 151650: '151650 GUANÁBANA - SIEMBRA',\n",
       " 151700: '151700 MANGO',\n",
       " 151750: '151750 MANZANO',\n",
       " 151800: '151800 OTROS CULTIVOS TARDÍO RENDIMIENTO',\n",
       " 151910: '151910 CHOLUPA',\n",
       " 151920: '151920 GUATILA',\n",
       " 151930: '151930 PAPAYUELA',\n",
       " 151950: '151950 ARÁNDANO',\n",
       " 152000: '152000 AGUACATE HASS',\n",
       " 160000: '160000 CAPITAL DE TRABAJO - UNIDAD PRODUCTIVA CAMPESINA',\n",
       " 165000: '165000 CAPITAL DE TRABAJO - MICROCRÉDITO AGROPECUARIO Y RURAL',\n",
       " 182000: '182000 MAÍZ AMARILLO',\n",
       " 185000: '185000 MAÍZ BLANCO',\n",
       " 188000: '188000 COMPRA DE CARTERA',\n",
       " 190000: '190000 GASTOS PARA FORMALIZACION DE TIERRAS',\n",
       " 191000: '191000 PRIMA SEGURO AGROPECUARIO',\n",
       " 234050: '234050 AVICULTURA ENGORDE',\n",
       " 234100: '234100 AVICULTURA HUEVOS',\n",
       " 234220: '234220 CODORNICES HUEVOS',\n",
       " 235050: '235050 PORCINOS CEBA',\n",
       " 235100: '235100 COMPRA CONEJOS Y CURÍES',\n",
       " 237050: '237050 SOSTENIMIENTO DE BOVINOS CRÍA Y DOBLE PROPÓSITO',\n",
       " 237060: '237060 SOSTENIMIENTO BOVINOS LECHE Y BUFALINOS',\n",
       " 237280: '237280 SOSTENIMIENTO CEBA BOVINA',\n",
       " 237300: '237300 SOSTENIMIENTO DE PORCINOS',\n",
       " 237350: '237350 SOSTENIMIENTO ACUICULTURA ENGORDE',\n",
       " 241150: '241150 PASTOS  Y FORRAJES',\n",
       " 241290: '241290 PITAHAYA - SIEMBRA',\n",
       " 244100: '244100 AVICULTURA',\n",
       " 245050: '245050 APICULTURA, ESPECIES MENORES Y ZOOCRÍA',\n",
       " 245100: '245100 CRÍA DE PORCINOS',\n",
       " 245150: '245150 COMPRA OVINOS Y CAPRINOS',\n",
       " 245200: '245200 COMPRA ANIMALES DE LABOR',\n",
       " 245280: '245280 REPRODUCCIÓN PARA ACUICULTURA Y CAMARONICULTURA',\n",
       " 253000: '253000 RETENCIÓN VIENTRES BOVINOS CRÍA Y D.P',\n",
       " 253050: '253050 RETENCIÓN VIENTRES BOVINOS LECHE Y BÚFALOS',\n",
       " 253061: '253061 RETENCIÓN DE VIENTRES GANADO BOVINO',\n",
       " 253062: '253062 RETENCIÓN DE VIENTRES GANADO BUFALINO',\n",
       " 253100: '253100 VIENTRES BOVINOS COMERCIALES LECHE',\n",
       " 253105: '253105 VIENTRES BOVINOS PUROS LECHE',\n",
       " 253400: '253400 VIENTRES BOVINOS Y BUFALINOS COMERCIALES CRÍA Y D.P',\n",
       " 253405: '253405 VIENTRES BOVINOS PUROS CRÍA Y D. P.',\n",
       " 253450: '253450 BOVINOS Y BUFALINOS MACHOS',\n",
       " 253700: '253700 EQUINOS, ASNALES Y MULARES REPRODUCTORES MACHOS Y HEMBRAS.',\n",
       " 260000: '260000 BIOTECNOLOGÍA',\n",
       " 320000: '320000 ADQUISICIÓN DE INSUMOS',\n",
       " 347050: '347050 CONSTRUCCIÓN BENEFICIADEROS DE CAFÉ',\n",
       " 347080: '347080 CONSTRUCCIÓN TRAPICHES PANELEROS',\n",
       " 347100: '347100 CONSTRUCCIÓN CAMPAMENTOS',\n",
       " 347200: '347200 CONSTRUCCIÓN INFRAESTRUCTURA PESQUERA Y ACUÍCOLA PARA LA PRODUCCIÓN PECUARIA',\n",
       " 347210: '347210 REPARACIÓN INFRAESTRUCTURA PESQUERA Y ACUÍCOLA',\n",
       " 347300: '347300 ELECTRIFICACIÓN',\n",
       " 347350: '347350 CONSTRUCCIÓN CARRETEABLES Y PUENTES',\n",
       " 347400: '347400 BODEGAS',\n",
       " 347480: '347480 CONSTRUCCIÓN INFRAESTRUCTURA AGRÍCOLA',\n",
       " 347485: '347485 REPARACIÓN INFRAESTRUCTURA AGRÍCOLA',\n",
       " 347490: '347490 CONSTRUCCIÓN INFRAESTRUCTURA PARA LA PRODUCCIÓN PECUARIA',\n",
       " 347495: '347495 REPARACIÓN INFRAESTRUCTURA PECUARIA',\n",
       " 408011: '408011 COMPRA DE PRODUCTOS, INSUMOS Y SERVICIOS PARA PROYECTOS PARA LA PRESTACIÓN DIRECTA DE LABORES Y SERVICIOS DE APOYO PARA LA PRODUCCIÓN AGROPECUA',\n",
       " 408012: '408012 COMPRA DE PRODUCTOS INSUMOS Y SERVICIOS PARA PROYECTOS PARA LA PRESTACIÓN DIRECTA DE LABORES Y SERVICIOS DE APOYO A LA TRANSFORMACIÓN AGROP',\n",
       " 408013: '408013 COMPRA DE PRODUCTOS INSUMOS Y SERVICIOS PARA PROYECTOS PARA LA PRESTACIÓN DIRECTA DE LABORES Y SERVICIOS DE APOYO A LA COMERCIALIZACIÓN AGROP',\n",
       " 447050: '447050 TRACTORES NUEVOS',\n",
       " 447100: '447100 COMBINADAS NUEVAS',\n",
       " 447150: '447150 MAQUINARIA PESADA NUEVA PARA USO AGROPECUARIO.',\n",
       " 447200: '447200 IMPLEMENTOS Y EQUIPOS NUEVOS PARA LA PRODUCCIÓN AGRÍCOLA',\n",
       " 447250: '447250 EQUIPOS NUEVOS PARA PRODUCCIÓN PECUARIA',\n",
       " 447350: '447350 EQUIPOS NUEVOS PARA ACUICULTURA Y PESCA',\n",
       " 447500: '447500 REPARACIÓN DE MAQUINARIA Y EMBARCACIONES',\n",
       " 447510: '447510 OTROS EQUIPOS DE APOYO NUEVOS PARA LA ACTIVIDAD AGROPECUARIA',\n",
       " 447600: '447600 EQUIPO Y MAQUINARIA USADA',\n",
       " 547020: '547020 ADECUACIÓN DE TIERRAS PARA CULTIVOS - ALTILLANURA DE LA ORINOQUIA',\n",
       " 547030: '547030 ADECUACIÓN DE TIERRAS PARA CULTIVOS - OTRAS REGIONES',\n",
       " 547050: '547050 EQUIPOS Y SISTEMAS DE RIEGO - NUEVO',\n",
       " 547060: '547060 EQUIPOS E IMPLEMENTOS NUEVOS MANEJO RECURSO HÍDRICO EN PROYECTOS PECUARIOS, ACUÍCOLAS Y PESCA',\n",
       " 547070: '547070 EQUIPOS USADOS O REPARACIÓN DE EQUIPOS MANEJO RECURSO HÍDRICO EN PROYECTOS PECUARIOS, ACUÍCOLAS Y DE PESCA',\n",
       " 547080: '547080 EQUIPOS Y SISTEMAS USADOS PARA RIEGO Y DRENAJE',\n",
       " 547400: '547400 CONSTRUCCIÓN OBRAS CIVILES PARA RIEGO',\n",
       " 547410: '547410 CONSTRUCCIÓN OBRAS CIVILES PARA SUMINISTRO DE AGUA -           PRODUCCIÓN PECUARIA O ACUICOLA',\n",
       " 547420: '547420 REPARACIÓN OBRAS CIVILES MANEJO RECURSO HÍDRICO EN PROYECTOS PECUARIOS, ACUÍCOLAS Y PESCA',\n",
       " 547430: '547430 REPARACIÓN OBRAS CIVILES PARA RIEGO, DRENAJE Y CONTROL DE INUNDACIONES',\n",
       " 547450: '547450 CONSTRUCCIÓN OBRAS CIVILES PARA DRENAJE',\n",
       " 547500: '547500 CONSTRUCCIÓN OBRAS CIVILES CONTROL DE INUNDACIONES',\n",
       " 611150: '611150 CAPITALIZACIÓN Y CREACIÓN DE EMPRESAS',\n",
       " 632250: '632250 COSTO PROMEDIO ADQUISICIONES, CARTERA, INVENTARIOS Y COSTOS DIRECTOS PARA LA TRASFORMACIÓN PRIMARIA O COMERCIALIZACIÓN',\n",
       " 632300: '632300 ANTICIPO A PRODUCTORES PARA LA TRANSFORMACIÓN PRIMARIA O COMERCIALIZACIÓN',\n",
       " 632310: '632310 COMERCIALIZACIÓN DE GANADO PARA LA TRANSFORMACIÓN PRIMARIA O COMERCIALIZACIÓN',\n",
       " 641050: '641050 MAQUINARIA Y EQUIPOS',\n",
       " 641100: '641100 UNIDADES Y REDES DE FRÍO',\n",
       " 641150: '641150 COMPRA DE TRANSPORTE ESPECIALIZADO',\n",
       " 641160: '641160 COMPRA DE TRANSPORTE NO ESPECIALIZADO NUEVO',\n",
       " 641200: '641200 REPARACIÓN DE MAQUINARIA Y EQUIPOS',\n",
       " 641250: '641250 INFRAESTRUCTURA - CONSTRUCCIÓN, ADQUISICIÓN - TRANSFORMACIÓN PRIMARIA O COMERCIALIZACIÓN',\n",
       " 641260: '641260 INFRAESTRUCTURA - REPARACIÓN - TRANSFORMACIÓN PRIMARIA O COMERCIALIZACIÓN',\n",
       " 650000: '650000 MAQUINARIA Y EQUIPOS USADOS',\n",
       " 651000: '651000 COMPRA DE EQUIPOS Y PROGRAMAS INFORMÁTICOS',\n",
       " 732250: '732250 COSTOS OPERATIVOS Y DE FUNCIONAMIENTO PROYECTADOS.',\n",
       " 741050: '741050 MAQUINARIA Y EQUIPOS PRODUCCIÓN INSUMOS',\n",
       " 741060: '741060 COMPRA DE MAQUINARIA Y EQUIPOS NUEVOS O USADOS PARA SERVICIOS DE APOYO',\n",
       " 741160: '741160 TRANSPORTE NO ESPECIALIZADO - NUEVO - SERVICIOS DE APOYO A LA PRODUCCIÓN',\n",
       " 741250: '741250 INFRAESTRUCTURA DE PRODUCCIÓN E INSUMOS',\n",
       " 741260: '741260 REPARACIÓN DE INFRAESTRUCTURAS PARA SERVICIOS DE APOYO',\n",
       " 841050: '841050 CONSTRUCCIÓN VIVIENDA CAMPESINA',\n",
       " 841100: '841100 REPARACIÓN DE VIVIENDA CAMPESINA',\n",
       " 841170: '841170 COMPRA DE TIERRA PARA USO AGROPECUARIO',\n",
       " 841200: '841200 INVESTIGACIÓN TECNOLÓGICA',\n",
       " 841300: '841300 CERTIFICACIONES DE BUENAS PRACTICAS, DE ORIGEN, ISO, NORMAS NACIONALES O INTERNACIONALES',\n",
       " 900001: '900001 PRODUCCIÓN Y COMERCIALIZACIÓN DE ARTESANÍAS',\n",
       " 900005: '900005 TURISMO RURAL CAPITAL DE TRABAJO',\n",
       " 900006: '900006 EXTRACCIÓN Y COMERCIALIZACIÓN MINERA CAPITAL DE TRABAJO',\n",
       " 910001: '910001 INFRAESTRUCTURA, MAQUINARIA Y EQUIPOS PARA LA PRODUCCIÓN DE ARTESANÍAS',\n",
       " 910009: '910009 INFRAESTRUCTURA, MAQUINARIA Y EQUIPOS PARA TURISMO RURAL',\n",
       " 910012: '910012 INFRAESTRUCTURA, MAQUINARIA Y EQUIPOS PARA MINERÍA',\n",
       " 920004: '920004 REPRODUCCIÓN Y SOSTENIMIENTO TILAPIA LEC',\n",
       " 920005: '920005 REPRODUCCIÓN Y SOSTENIMIENTO TRUCHA LEC',\n",
       " 920006: '920006 REPRODUCCIÓN Y SOSTENIMIENTO CACHAMA LEC'}"
      ]
     },
     "execution_count": 114,
     "metadata": {},
     "output_type": "execute_result"
    }
   ],
   "source": [
    "#Convertimos los valores a Mayusculas para mantener el estándar de 'upper case' con el que trabajan las categorías, FINAGRO.\n",
    "resoluciones_mayusculas = {clave: valor.upper() for clave, valor in resoluciones.items()}\n",
    "resoluciones_mayusculas"
   ]
  },
  {
   "cell_type": "code",
   "execution_count": 115,
   "id": "053271b4-52c8-4441-a7f1-ebb9ddd48726",
   "metadata": {},
   "outputs": [],
   "source": [
    "# Se reemplazan los valores conflictivos en el DataFrame original\n",
    "df['destino_de_credito'] = df['id_rubro'].map(resoluciones_mayusculas).fillna(df['destino_de_credito'])"
   ]
  },
  {
   "cell_type": "code",
   "execution_count": 116,
   "id": "ff12e157-b108-4359-aa82-719e6a338521",
   "metadata": {},
   "outputs": [],
   "source": [
    "# Pasamos todos los valores de campos de la columna a mayuscula, ya que siguen existiendo algunos valores que no siguen el estandar de upper case\n",
    "df['destino_de_credito'] = df['destino_de_credito'].str.upper()"
   ]
  },
  {
   "cell_type": "code",
   "execution_count": 117,
   "id": "2ec858d2-e3ca-4307-aebd-e69a9cd84876",
   "metadata": {},
   "outputs": [],
   "source": [
    "# Para evitar información redundante, eliminamos la secuencia de números del campo 'destino_de_credito'\n",
    "# que hace referencia al id_rubro\n",
    "df['destino_de_credito'] = df['destino_de_credito'].replace(r'^\\d+', '', regex=True).str.strip()"
   ]
  },
  {
   "cell_type": "code",
   "execution_count": 118,
   "id": "909dd6a9-cb71-46f6-a134-873b39f96880",
   "metadata": {},
   "outputs": [
    {
     "name": "stdout",
     "output_type": "stream",
     "text": [
      "Series([], Name: destino_de_credito, dtype: int64)\n"
     ]
    }
   ],
   "source": [
    "# Verificamos si todos los IDs tienen un único valor asignado\n",
    "mask_unicos = df.groupby('id_rubro')['destino_de_credito'].nunique()\n",
    "print(mask_unicos[mask_unicos > 1])  # Nos devuelve una lista vacia, lo que indica que las correcciones se realizaron correctamente"
   ]
  },
  {
   "cell_type": "markdown",
   "id": "77c294c7-6577-4440-8e44-bd48e3d06eb6",
   "metadata": {},
   "source": [
    "<div class=\"alert alert-block alert-info\">\n",
    "    <b>✅</b><b>A TENER EN CUENTA:</b> \n",
    "</div>\n",
    "\n",
    " > - Se corrigieron todas las inconformidades halladas entre el campo ***'id_rubro'*** y ***'destino_de_credito'***\n",
    ">  - Se eliminó la secuencia numérica que integraba el valor en 'id_rubro' de la operación al campo 'destino_de_credito'"
   ]
  },
  {
   "cell_type": "markdown",
   "id": "25953110-d3b9-4393-a807-cdef121da3df",
   "metadata": {},
   "source": [
    "### 7.7 Validación de los campos 'muncol' & 'municipio_colocacion'"
   ]
  },
  {
   "cell_type": "code",
   "execution_count": 126,
   "id": "b763125a-9b90-4ace-8847-351300dd8803",
   "metadata": {},
   "outputs": [
    {
     "data": {
      "text/plain": [
       "muncol  municipio_colocacion \n",
       "13244   EL CARMEN DE BOLÍVAR     1773\n",
       "        EL CARMEN DE BOLÍVA       147\n",
       "15693   SANTA ROSA DE VITERBO    2723\n",
       "        SANTA ROSA DE VITER       199\n",
       "19548   PIENDAMÓ - TUNÍA         4071\n",
       "        PIENDAMÓ  TUNÍA           177\n",
       "70742   SAN LUIS DE SINCÉ        1213\n",
       "        SAN JUAN DE SINCÉ          56\n",
       "76001   CALI                     6743\n",
       "        SANTIAGO DE CALI         4281\n",
       "95001   SAN JOSÉ DEL GUAVIARE    6186\n",
       "        SAN JOSÉ DEL GUAVIA       392\n",
       "Name: count, dtype: int64"
      ]
     },
     "execution_count": 126,
     "metadata": {},
     "output_type": "execute_result"
    }
   ],
   "source": [
    "# Verificación del número de municipios únicos por ID\n",
    "mask_unicos = df.groupby(by='muncol')['municipio_colocacion'].nunique()\n",
    "\n",
    "# Identificación de IDs que hacen referencia a más de un municipio de colocación\n",
    "ids_invalidos = mask_unicos[mask_unicos > 1].index\n",
    "\n",
    "# Filtramos el DataFrame con los IDs problemáticos\n",
    "result = df[df['muncol'].isin(ids_invalidos)]\n",
    "\n",
    "# Mostramos cuales son esos IDs problemáticos y que valores toma\n",
    "result.groupby(by='muncol')['municipio_colocacion'].value_counts()"
   ]
  },
  {
   "cell_type": "markdown",
   "id": "4e55e49b-9eea-4978-9ebe-139c2236f3e3",
   "metadata": {},
   "source": [
    "**Observaciones claves:**\n",
    "- los valores de ****'muncol'**** que hacen referencia a más de un valor en ****'municipio_colocacion'**** son:\n",
    "  - ID 13244 con dos valores en municipio_inversion:\n",
    "    - EL CARMEN DE BOLÍVAR\n",
    "    - EL CARMEN DE BOLÍVA\n",
    "  - ID 15693 con dos valores en municipio_inversion:\n",
    "    - SANTA ROSA DE VITERBO\n",
    "    - SANTA ROSA DE VITER\n",
    "  - ID 19548 con dos valores en municipio_inversion:\n",
    "    - PIENDAMÓ - TUNÍA\n",
    "    - PIENDAMÓ  TUNÍA\n",
    "  - ID 70742 con dos valores en municipio_inversion:\n",
    "    - SAN LUIS DE SINCÉ\n",
    "    - SAN JUAN DE SINCÉ\n",
    "  - ID 76001 con dos valores en municipio_inversion:\n",
    "    - CALI\n",
    "    - SANTIAGO DE CALI\n",
    "  - ID 95001 con dos valores en municipio_inversion:\n",
    "    - SAN JOSÉ DEL GUAVIARE\n",
    "    - SAN JOSÉ DEL GUAVIA\n",
    "- Indentificamos que son exactamente los mismos valores encontrados en el análsis:\n",
    "\n",
    "[Ir a la sección 7.5](#75-validación-del-campo-id-munic--municipio-inversion)\n"
   ]
  },
  {
   "cell_type": "markdown",
   "id": "a8ccb240-455b-40e8-be27-e3bfea510bdb",
   "metadata": {},
   "source": [
    "##### Para realizar las correciones usaremos la función definida previamente en la [sección 7.5](#75-validación-del-campo-id-munic--municipio-inversion) ya que son los mismos pasos para este caso"
   ]
  },
  {
   "cell_type": "code",
   "execution_count": 131,
   "id": "3b31d863-cd80-4886-ab8e-dfc5ef2a31a5",
   "metadata": {},
   "outputs": [
    {
     "name": "stdout",
     "output_type": "stream",
     "text": [
      "Para el ID: 13244 en la columna muncol se asignó el valor: EL CARMEN DE BOLÍVAR al campo municipio_colocacion\n",
      "Para el ID: 15693 en la columna muncol se asignó el valor: SANTA ROSA DE VITERBO al campo municipio_colocacion\n",
      "Para el ID: 19548 en la columna muncol se asignó el valor: PIENDAMÓ al campo municipio_colocacion\n",
      "Para el ID: 70742 en la columna muncol se asignó el valor: SINCÉ al campo municipio_colocacion\n",
      "Para el ID: 76001 en la columna muncol se asignó el valor: CALI al campo municipio_colocacion\n",
      "Para el ID: 95001 en la columna muncol se asignó el valor: SAN JOSÉ DEL GUAVIARE al campo municipio_colocacion\n"
     ]
    }
   ],
   "source": [
    "# Realizamos la corrección según el número ID del municipio, asignando el nombre correcto que registra según el DANE\n",
    "# Diccionario con las correcciones a realizar\n",
    "diccionario_correccion = {\n",
    "    13244: 'EL CARMEN DE BOLÍVAR',\n",
    "    15693: 'SANTA ROSA DE VITERBO',\n",
    "    19548: 'PIENDAMÓ',\n",
    "    70742: 'SINCÉ',\n",
    "    76001: 'CALI',\n",
    "    95001: 'SAN JOSÉ DEL GUAVIARE'\n",
    "}\n",
    "\n",
    "# Iteramos sobre el diccionario y corregimos los valores en el DataFrame\n",
    "for index, valor in diccionario_correccion.items():\n",
    "    corregir_id_num(df, 'muncol', 'municipio_colocacion', index, valor)"
   ]
  },
  {
   "cell_type": "code",
   "execution_count": 132,
   "id": "cea73150-f1b0-470a-b07f-dd37988d5dab",
   "metadata": {},
   "outputs": [
    {
     "data": {
      "text/plain": [
       "Series([], Name: count, dtype: int64)"
      ]
     },
     "execution_count": 132,
     "metadata": {},
     "output_type": "execute_result"
    }
   ],
   "source": [
    "# Verificamos que ya no existan IDs asignados a más de un único valor de campo en 'municipio_colocacion'\n",
    "\n",
    "mask_unicos = df.groupby(by='muncol')['municipio_colocacion'].nunique()\n",
    "ids_invalidos = mask_unicos[mask_unicos > 1].index\n",
    "ids_invalidos.value_counts() # Devuelve una lista vacía lo que indica que se eliminó la inconformidad hallada anteriormente"
   ]
  },
  {
   "cell_type": "markdown",
   "id": "2a7a2cde-4874-4aad-ab85-6fe2316aa8b8",
   "metadata": {},
   "source": [
    "### 7.8 Validación del campo 'linea_de_credito'"
   ]
  },
  {
   "cell_type": "code",
   "execution_count": 134,
   "id": "e8cdfbd0-80a7-4370-86af-306cb8e990a0",
   "metadata": {},
   "outputs": [
    {
     "name": "stdout",
     "output_type": "stream",
     "text": [
      "Existen 3 valores únicos en el campo\n"
     ]
    }
   ],
   "source": [
    "# Revisamos cuantos valores únicos puede tomar el campo 'linea_de_credito'\n",
    "print(f'Existen {df['linea_de_credito'].nunique()} valores únicos en el campo')\n"
   ]
  },
  {
   "cell_type": "code",
   "execution_count": 135,
   "id": "0bb4229d-e319-49ca-b115-a60f2d483616",
   "metadata": {},
   "outputs": [
    {
     "name": "stdout",
     "output_type": "stream",
     "text": [
      "El valor 1 es Inversión\n",
      "El valor 2 es Capital de Trabajo\n",
      "El valor 3 es Normalización de Cartera\n"
     ]
    }
   ],
   "source": [
    "# Identificamos cuales son los posibles valores\n",
    "\n",
    "# Como vamos a hacer esto mismo para otros campos más adelantes, definimos de una vez la función para automatizar el proceso\n",
    "def items_unicos_en_campo(df_nombre, nombre_campo):\n",
    "    lista_valores= df_nombre[nombre_campo].unique()\n",
    "    contador = 0\n",
    "    for linea in lista_valores:\n",
    "        contador += 1\n",
    "        print(f'El valor {contador} es {linea}')\n",
    "\n",
    "# Usamos la función para deterinar los posibles valores únicos del campo\n",
    "items_unicos_en_campo(df,'linea_de_credito')"
   ]
  },
  {
   "cell_type": "markdown",
   "id": "a653bc2a-5c33-489d-8d03-a57d863c8b9b",
   "metadata": {},
   "source": [
    "<div class=\"alert alert-block alert-info\">\n",
    "    <b>✅</b><b>A TENER EN CUENTA:</b> \n",
    "</div>\n",
    "\n",
    " > El campo **linea_de_credito** no presentó inconformidades, por tanto, solo se validó."
   ]
  },
  {
   "cell_type": "markdown",
   "id": "e90f5a76-86d5-4637-83ac-33b79519e16d",
   "metadata": {},
   "source": [
    "### 7.9 Validación del campo 'linea_de_produccion'"
   ]
  },
  {
   "cell_type": "code",
   "execution_count": 140,
   "id": "d0421df6-069e-4bc0-a717-647e1b910c54",
   "metadata": {},
   "outputs": [
    {
     "name": "stdout",
     "output_type": "stream",
     "text": [
      "Existen 17 valores únicos en el campo\n"
     ]
    }
   ],
   "source": [
    "# Revisamos cuantos valores únicos puede tomar el campo 'linea_de_produccion'\n",
    "print(f'Existen {df['linea_de_produccion'].nunique()} valores únicos en el campo')"
   ]
  },
  {
   "cell_type": "code",
   "execution_count": 141,
   "id": "d28acb8a-27f3-4937-9f87-a87cd4ac30a5",
   "metadata": {},
   "outputs": [
    {
     "name": "stdout",
     "output_type": "stream",
     "text": [
      "El valor 1 es COMPRA DE ANIMALES (I)\n",
      "El valor 2 es SIEMBRAS (I)\n",
      "El valor 3 es INFRAEST Y ADECU DE TIERRAS (I)\n",
      "El valor 4 es PRODUCCIÓN (CT)\n",
      "El valor 5 es COMERCIALIZACION (I)\n",
      "El valor 6 es SOSTENIMIENTO (CT)\n",
      "El valor 7 es MICROCREDITO (CT)\n",
      "El valor 8 es COMERCIALIZACION (CT)\n",
      "El valor 9 es SERVICIOS DE APOYO (CT)\n",
      "El valor 10 es MAQUINARIA Y EQUIPO (I)\n",
      "El valor 11 es OTRAS ACTIVIDADES (I)\n",
      "El valor 12 es SERVICIOS DE APOYO (I)\n",
      "El valor 13 es ACTIVIDADES RURALES (CT)\n",
      "El valor 14 es CONSOLIDACION DE PASIVOS (N)\n",
      "El valor 15 es ACTIVIDADES RURALES (I)\n",
      "El valor 16 es TARJETA DE CREDITO (CT)\n",
      "El valor 17 es TRANSFORMACIÓN (CT)\n"
     ]
    }
   ],
   "source": [
    "# Identificamos cuales son los posibles valores usando la función 'items_unicos_en_campo' definida anteriormente\n",
    "items_unicos_en_campo(df,'linea_de_produccion')"
   ]
  },
  {
   "cell_type": "markdown",
   "id": "58381dbd-8fa4-49df-87a3-2b9783415a61",
   "metadata": {},
   "source": [
    "<div class=\"alert alert-block alert-info\">\n",
    "    <b>✅</b><b>A TENER EN CUENTA:</b> \n",
    "</div>\n",
    "\n",
    " > - El campo **linea_de_produccion** no presentó inconformidades, por tanto, solo se validó.\n",
    " > - Existen categorias con nombres parecidos pero pertenecen a destinos diferentes, por ejemplo: ACTIVIDADES RURALES (CT) y ACTIVIDADES RURALES (I) comparten nombres similares pero la primera tiene destino Capital de trabajo y la segunda tiene destino Inversion.\n",
    " > - Recordar que los tres (3) posibles destinos son: Capital de trabajo (CT), Inversion (I) y Normalización de cartera (N)"
   ]
  },
  {
   "cell_type": "markdown",
   "id": "9b6d3bce-54c6-4cc7-b617-bfaba1d76440",
   "metadata": {},
   "source": [
    "### 7.10 Validación del campo 'genero'"
   ]
  },
  {
   "cell_type": "code",
   "execution_count": 145,
   "id": "962086aa-8e9a-4ab4-8319-bfd6a312f630",
   "metadata": {},
   "outputs": [
    {
     "name": "stdout",
     "output_type": "stream",
     "text": [
      "Existen 3 valores únicos en el campo\n"
     ]
    }
   ],
   "source": [
    "# Revisamos cuantos valores únicos puede tomar el campo 'genero'\n",
    "print(f'Existen {df['genero'].nunique()} valores únicos en el campo')"
   ]
  },
  {
   "cell_type": "code",
   "execution_count": 146,
   "id": "c713732d-eaea-4bab-bf90-9e343bf70cf5",
   "metadata": {},
   "outputs": [
    {
     "name": "stdout",
     "output_type": "stream",
     "text": [
      "El valor 1 es H\n",
      "El valor 2 es M\n",
      "El valor 3 es S\n"
     ]
    }
   ],
   "source": [
    "# Identificamos cuales son los posibles valores usando la función 'items_unicos_en_campo' definida anteriormente\n",
    "items_unicos_en_campo(df,'genero')"
   ]
  },
  {
   "cell_type": "markdown",
   "id": "ac9d541d-4f36-4c82-93d5-25f19e033cfe",
   "metadata": {},
   "source": [
    "<div class=\"alert alert-block alert-info\">\n",
    "    <b>✅</b><b>A TENER EN CUENTA:</b> \n",
    "</div>\n",
    "\n",
    " > - El campo **genero** no presentó inconformidades, por tanto, solo se validó.\n",
    " > - Recordar que los tres (3) posibles valores que puede tomar este campo, según FINAGRO son: (H) para hombres, (M) para mujeres y (S) para personas jurídicas."
   ]
  },
  {
   "cell_type": "markdown",
   "id": "4f298052-8b21-479e-8ba5-a5bf331a1335",
   "metadata": {},
   "source": [
    "### 7.11 Validación del campo 'municipio_de_postconflicto'"
   ]
  },
  {
   "cell_type": "code",
   "execution_count": 149,
   "id": "feedb7c2-7d07-488b-a4cd-3057b99e15d3",
   "metadata": {},
   "outputs": [
    {
     "name": "stdout",
     "output_type": "stream",
     "text": [
      "Existen 2 valores únicos en el campo\n"
     ]
    }
   ],
   "source": [
    "# Revisamos cuantos valores únicos puede tomar el campo 'genero'\n",
    "print(f'Existen {df['municipio_de_postconflicto'].nunique()} valores únicos en el campo')"
   ]
  },
  {
   "cell_type": "code",
   "execution_count": 150,
   "id": "3f1b66eb-af5f-48e0-9b98-be049eedd616",
   "metadata": {},
   "outputs": [
    {
     "name": "stdout",
     "output_type": "stream",
     "text": [
      "El valor 1 es S\n",
      "El valor 2 es N\n"
     ]
    }
   ],
   "source": [
    "# Identificamos cuales son los posibles valores usando la función 'items_unicos_en_campo' definida anteriormente\n",
    "items_unicos_en_campo(df,'municipio_de_postconflicto')"
   ]
  },
  {
   "cell_type": "markdown",
   "id": "fb0ab1f8-dd19-498a-b63c-ce3433dbffbe",
   "metadata": {},
   "source": [
    "<div class=\"alert alert-block alert-info\">\n",
    "    <b>✅</b><b>A TENER EN CUENTA:</b> \n",
    "</div>\n",
    "\n",
    " > - El campo **municipio_de_postconflicto** no presentó inconformidades, por tanto, solo se validó.\n",
    " > - Recordar que los dos (2) posibles valores que puede tomar este campo, según FINAGRO son: (S) para SI y (N) para NO."
   ]
  },
  {
   "cell_type": "markdown",
   "id": "f0fb5d8d-6a61-4401-99e9-fe4e6af9e196",
   "metadata": {},
   "source": [
    "## Actividad #8: - Transformar la morfología del conjunto de datos (agregar campos nuevos)"
   ]
  },
  {
   "cell_type": "markdown",
   "id": "bbd11afa-ead1-45e7-a53b-2fc786e0bbcf",
   "metadata": {},
   "source": [
    "#### Para posteriores análisis necesitaremos tener los datos por año y mes, así que procederemos a agregar esos dos campos al dataframe"
   ]
  },
  {
   "cell_type": "code",
   "execution_count": 154,
   "id": "9c758061-7fa6-47cd-b68f-a55ba297a690",
   "metadata": {},
   "outputs": [],
   "source": [
    "# Usamos la función del módulo 'calendar' para extraer el año del dato de fecha que ya posee el dataframe\n",
    "df['anho'] = df['corte_mes'].dt.year"
   ]
  },
  {
   "cell_type": "code",
   "execution_count": 156,
   "id": "a389fb23-5e06-4581-bc18-bfef4511cf49",
   "metadata": {},
   "outputs": [],
   "source": [
    "# Extraemos el número del mes y asignamos el nombre del mes equivalente con un diccionario de datos\n",
    "\n",
    "# Diccionario del nombre del més y su equivalencia numérica ordenada \n",
    "meses_es = {\n",
    "    1: 'Enero', 2: 'Febrero', 3: 'Marzo', 4: 'Abril',\n",
    "    5: 'Mayo', 6: 'Junio', 7: 'Julio', 8: 'Agosto',\n",
    "    9: 'Septiembre', 10: 'Octubre', 11: 'Noviembre', 12: 'Diciembre'\n",
    "}\n",
    "\n",
    "# Extraemos el mes numérico y lo convertimos al nombre en español\n",
    "df['nombre_mes'] = df['corte_mes'].dt.month.map(meses_es)"
   ]
  },
  {
   "cell_type": "code",
   "execution_count": 157,
   "id": "0ba2a433-2873-4927-9d50-eee4c6940e61",
   "metadata": {},
   "outputs": [
    {
     "name": "stdout",
     "output_type": "stream",
     "text": [
      "El año 1 extraido es: 2021\n",
      "El año 2 extraido es: 2022\n",
      "El año 3 extraido es: 2023\n",
      "El año 4 extraido es: 2024\n"
     ]
    }
   ],
   "source": [
    "# Verificamos que el dato de años se hayan extraido correctamente\n",
    "counter = 0\n",
    "for i in df['anho'].unique():\n",
    "    counter += 1\n",
    "    print(f'El año {counter} extraido es: {i}')"
   ]
  },
  {
   "cell_type": "code",
   "execution_count": 158,
   "id": "d0776695-fb31-4f5e-95fc-95a15110dd6b",
   "metadata": {},
   "outputs": [
    {
     "name": "stdout",
     "output_type": "stream",
     "text": [
      "Abril\n",
      "Septiembre\n",
      "Junio\n",
      "Mayo\n",
      "Julio\n",
      "Agosto\n",
      "Febrero\n",
      "Enero\n",
      "Marzo\n",
      "Noviembre\n",
      "Diciembre\n",
      "Octubre\n"
     ]
    }
   ],
   "source": [
    "# Verificamos que el dato de nombre-mes se haya extraido correctamente\n",
    "# Unique no necesariamente nos entregará los meses ordenados sino como aparecen en el datafram según registros\n",
    "for i in df['nombre_mes'].unique():\n",
    "    print(f'{i}')"
   ]
  },
  {
   "cell_type": "code",
   "execution_count": 159,
   "id": "62de9c53-85c3-424e-b2ba-b4fd26c41bef",
   "metadata": {},
   "outputs": [],
   "source": [
    "# Eliminamos la columa 'corte_mes' del dataframe\n",
    "df = df.drop(columns=['corte_mes'])"
   ]
  },
  {
   "cell_type": "markdown",
   "id": "f42472dd-77e4-4866-8980-f8ecd897118d",
   "metadata": {},
   "source": [
    "<div class=\"alert alert-block alert-info\">\n",
    "    <b>✅</b><b>A TENER EN CUENTA:</b> \n",
    "</div>\n",
    "\n",
    " > - Solo extraimos el año y el mes del campo 'corte_mes' del dataframe, ya que la información del día es irrelevante para el análisis que realizaremos. Adicionalmente, todas las operaciones crediticias en un mes se llevan al último día del mes, lo que no nos proporciona comportamientos detallados diarios; por tal motivo se decide no tener en cuenta esta variable.\n",
    ">  - Se eliminó el campo ****corte_mes**** del dataframe puesto que se extrajeron los datos de tiempo que utilizaremos en el análisis y no queremos tener datos redundantes."
   ]
  },
  {
   "cell_type": "code",
   "execution_count": 161,
   "id": "a7fddb9b-3d12-446d-a1ba-c4e67e8afb89",
   "metadata": {},
   "outputs": [],
   "source": [
    "from decimal import Decimal\n",
    "\n",
    "# Convertir a Decimal\n",
    "df['latitud'] = df['latitud'].apply(lambda x: Decimal(f\"{x:.6f}\"))\n",
    "df['longitud'] = df['longitud'].apply(lambda x: Decimal(f\"{x:.6f}\"))"
   ]
  },
  {
   "cell_type": "code",
   "execution_count": 162,
   "id": "c9fb9767-cde6-40ca-adf3-3f206d137480",
   "metadata": {},
   "outputs": [
    {
     "data": {
      "text/html": [
       "<div>\n",
       "<style scoped>\n",
       "    .dataframe tbody tr th:only-of-type {\n",
       "        vertical-align: middle;\n",
       "    }\n",
       "\n",
       "    .dataframe tbody tr th {\n",
       "        vertical-align: top;\n",
       "    }\n",
       "\n",
       "    .dataframe thead th {\n",
       "        text-align: right;\n",
       "    }\n",
       "</style>\n",
       "<table border=\"1\" class=\"dataframe\">\n",
       "  <thead>\n",
       "    <tr style=\"text-align: right;\">\n",
       "      <th></th>\n",
       "      <th>fuente_colocacion</th>\n",
       "      <th>id_tipo_prod</th>\n",
       "      <th>tipo_productor</th>\n",
       "      <th>valor_inversion</th>\n",
       "      <th>colocacion</th>\n",
       "      <th>id_depto</th>\n",
       "      <th>departamento_inversion</th>\n",
       "      <th>id_munic</th>\n",
       "      <th>municipio_inversion</th>\n",
       "      <th>municipio_de_postconflicto</th>\n",
       "      <th>depcol</th>\n",
       "      <th>departamento_de_colocacion</th>\n",
       "      <th>muncol</th>\n",
       "      <th>municipio_colocacion</th>\n",
       "      <th>plazo</th>\n",
       "      <th>linea_de_credito</th>\n",
       "      <th>linea_de_produccion</th>\n",
       "      <th>id_rubro</th>\n",
       "      <th>destino_de_credito</th>\n",
       "      <th>genero</th>\n",
       "      <th>vlr_inic_garantia</th>\n",
       "      <th>latitud</th>\n",
       "      <th>longitud</th>\n",
       "      <th>anho</th>\n",
       "      <th>nombre_mes</th>\n",
       "    </tr>\n",
       "  </thead>\n",
       "  <tbody>\n",
       "    <tr>\n",
       "      <th>0</th>\n",
       "      <td>REDESCUENTO</td>\n",
       "      <td>1</td>\n",
       "      <td>MEDIANO</td>\n",
       "      <td>24000000.0</td>\n",
       "      <td>23655000.0</td>\n",
       "      <td>5</td>\n",
       "      <td>ANTIOQUIA</td>\n",
       "      <td>5237</td>\n",
       "      <td>DONMATÍAS</td>\n",
       "      <td>S</td>\n",
       "      <td>5</td>\n",
       "      <td>ANTIOQUIA</td>\n",
       "      <td>5237</td>\n",
       "      <td>DONMATÍAS</td>\n",
       "      <td>60</td>\n",
       "      <td>Inversión</td>\n",
       "      <td>COMPRA DE ANIMALES (I)</td>\n",
       "      <td>253061</td>\n",
       "      <td>RETENCIÓN DE VIENTRES GANADO BOVINO</td>\n",
       "      <td>H</td>\n",
       "      <td>0.0</td>\n",
       "      <td>6.500000</td>\n",
       "      <td>-75.333333</td>\n",
       "      <td>2021</td>\n",
       "      <td>Abril</td>\n",
       "    </tr>\n",
       "    <tr>\n",
       "      <th>1</th>\n",
       "      <td>REDESCUENTO</td>\n",
       "      <td>0</td>\n",
       "      <td>PEQUEÑO</td>\n",
       "      <td>6000000.0</td>\n",
       "      <td>5000000.0</td>\n",
       "      <td>68</td>\n",
       "      <td>SANTANDER</td>\n",
       "      <td>68169</td>\n",
       "      <td>CHARTA</td>\n",
       "      <td>N</td>\n",
       "      <td>68</td>\n",
       "      <td>SANTANDER</td>\n",
       "      <td>68001</td>\n",
       "      <td>BUCARAMANGA</td>\n",
       "      <td>36</td>\n",
       "      <td>Inversión</td>\n",
       "      <td>SIEMBRAS (I)</td>\n",
       "      <td>151310</td>\n",
       "      <td>AGUACATE</td>\n",
       "      <td>H</td>\n",
       "      <td>4000000.0</td>\n",
       "      <td>7.300000</td>\n",
       "      <td>-72.966667</td>\n",
       "      <td>2021</td>\n",
       "      <td>Abril</td>\n",
       "    </tr>\n",
       "    <tr>\n",
       "      <th>2</th>\n",
       "      <td>REDESCUENTO</td>\n",
       "      <td>0</td>\n",
       "      <td>PEQUEÑO</td>\n",
       "      <td>8200000.0</td>\n",
       "      <td>8200000.0</td>\n",
       "      <td>41</td>\n",
       "      <td>HUILA</td>\n",
       "      <td>41807</td>\n",
       "      <td>TIMANÁ</td>\n",
       "      <td>N</td>\n",
       "      <td>41</td>\n",
       "      <td>HUILA</td>\n",
       "      <td>41807</td>\n",
       "      <td>TIMANÁ</td>\n",
       "      <td>62</td>\n",
       "      <td>Inversión</td>\n",
       "      <td>INFRAEST Y ADECU DE TIERRAS (I)</td>\n",
       "      <td>347050</td>\n",
       "      <td>CONSTRUCCIÓN BENEFICIADEROS DE CAFÉ</td>\n",
       "      <td>H</td>\n",
       "      <td>6560000.0</td>\n",
       "      <td>2.000000</td>\n",
       "      <td>-75.916667</td>\n",
       "      <td>2021</td>\n",
       "      <td>Abril</td>\n",
       "    </tr>\n",
       "    <tr>\n",
       "      <th>3</th>\n",
       "      <td>REDESCUENTO</td>\n",
       "      <td>0</td>\n",
       "      <td>PEQUEÑO</td>\n",
       "      <td>15000000.0</td>\n",
       "      <td>15000000.0</td>\n",
       "      <td>85</td>\n",
       "      <td>CASANARE</td>\n",
       "      <td>85139</td>\n",
       "      <td>MANÍ</td>\n",
       "      <td>S</td>\n",
       "      <td>85</td>\n",
       "      <td>CASANARE</td>\n",
       "      <td>85139</td>\n",
       "      <td>MANÍ</td>\n",
       "      <td>144</td>\n",
       "      <td>Inversión</td>\n",
       "      <td>SIEMBRAS (I)</td>\n",
       "      <td>151050</td>\n",
       "      <td>CACAO</td>\n",
       "      <td>H</td>\n",
       "      <td>12000000.0</td>\n",
       "      <td>4.833333</td>\n",
       "      <td>-72.333333</td>\n",
       "      <td>2021</td>\n",
       "      <td>Abril</td>\n",
       "    </tr>\n",
       "    <tr>\n",
       "      <th>4</th>\n",
       "      <td>REDESCUENTO</td>\n",
       "      <td>0</td>\n",
       "      <td>PEQUEÑO</td>\n",
       "      <td>10000000.0</td>\n",
       "      <td>10000000.0</td>\n",
       "      <td>85</td>\n",
       "      <td>CASANARE</td>\n",
       "      <td>85300</td>\n",
       "      <td>SABANALARGA</td>\n",
       "      <td>N</td>\n",
       "      <td>15</td>\n",
       "      <td>BOYACÁ</td>\n",
       "      <td>15425</td>\n",
       "      <td>MACANAL</td>\n",
       "      <td>72</td>\n",
       "      <td>Inversión</td>\n",
       "      <td>SIEMBRAS (I)</td>\n",
       "      <td>141060</td>\n",
       "      <td>CAÑA PANELERA</td>\n",
       "      <td>M</td>\n",
       "      <td>8000000.0</td>\n",
       "      <td>4.853611</td>\n",
       "      <td>-73.043056</td>\n",
       "      <td>2021</td>\n",
       "      <td>Abril</td>\n",
       "    </tr>\n",
       "  </tbody>\n",
       "</table>\n",
       "</div>"
      ],
      "text/plain": [
       "  fuente_colocacion  id_tipo_prod tipo_productor  valor_inversion  colocacion  \\\n",
       "0       REDESCUENTO             1        MEDIANO       24000000.0  23655000.0   \n",
       "1       REDESCUENTO             0        PEQUEÑO        6000000.0   5000000.0   \n",
       "2       REDESCUENTO             0        PEQUEÑO        8200000.0   8200000.0   \n",
       "3       REDESCUENTO             0        PEQUEÑO       15000000.0  15000000.0   \n",
       "4       REDESCUENTO             0        PEQUEÑO       10000000.0  10000000.0   \n",
       "\n",
       "   id_depto departamento_inversion  id_munic municipio_inversion  \\\n",
       "0         5              ANTIOQUIA      5237           DONMATÍAS   \n",
       "1        68              SANTANDER     68169              CHARTA   \n",
       "2        41                  HUILA     41807              TIMANÁ   \n",
       "3        85               CASANARE     85139                MANÍ   \n",
       "4        85               CASANARE     85300         SABANALARGA   \n",
       "\n",
       "  municipio_de_postconflicto  depcol departamento_de_colocacion  muncol  \\\n",
       "0                          S       5                  ANTIOQUIA    5237   \n",
       "1                          N      68                  SANTANDER   68001   \n",
       "2                          N      41                      HUILA   41807   \n",
       "3                          S      85                   CASANARE   85139   \n",
       "4                          N      15                     BOYACÁ   15425   \n",
       "\n",
       "  municipio_colocacion  plazo linea_de_credito  \\\n",
       "0            DONMATÍAS     60        Inversión   \n",
       "1          BUCARAMANGA     36        Inversión   \n",
       "2               TIMANÁ     62        Inversión   \n",
       "3                 MANÍ    144        Inversión   \n",
       "4              MACANAL     72        Inversión   \n",
       "\n",
       "               linea_de_produccion  id_rubro  \\\n",
       "0           COMPRA DE ANIMALES (I)    253061   \n",
       "1                     SIEMBRAS (I)    151310   \n",
       "2  INFRAEST Y ADECU DE TIERRAS (I)    347050   \n",
       "3                     SIEMBRAS (I)    151050   \n",
       "4                     SIEMBRAS (I)    141060   \n",
       "\n",
       "                    destino_de_credito genero  vlr_inic_garantia   latitud  \\\n",
       "0  RETENCIÓN DE VIENTRES GANADO BOVINO      H                0.0  6.500000   \n",
       "1                             AGUACATE      H          4000000.0  7.300000   \n",
       "2  CONSTRUCCIÓN BENEFICIADEROS DE CAFÉ      H          6560000.0  2.000000   \n",
       "3                                CACAO      H         12000000.0  4.833333   \n",
       "4                        CAÑA PANELERA      M          8000000.0  4.853611   \n",
       "\n",
       "     longitud  anho nombre_mes  \n",
       "0  -75.333333  2021      Abril  \n",
       "1  -72.966667  2021      Abril  \n",
       "2  -75.916667  2021      Abril  \n",
       "3  -72.333333  2021      Abril  \n",
       "4  -73.043056  2021      Abril  "
      ]
     },
     "execution_count": 162,
     "metadata": {},
     "output_type": "execute_result"
    }
   ],
   "source": [
    "df.head()"
   ]
  },
  {
   "cell_type": "code",
   "execution_count": 163,
   "id": "0ca7043d-c9fa-405a-94d8-8ef07086dd6a",
   "metadata": {},
   "outputs": [],
   "source": [
    "# Reseteamos la numeración del index del dataframe\n",
    "df = df.reset_index(drop=True)"
   ]
  },
  {
   "cell_type": "code",
   "execution_count": 164,
   "id": "6449ffcc-702b-494d-958a-46de52a26108",
   "metadata": {},
   "outputs": [],
   "source": [
    "df['latitud'] = df['latitud'].astype(str)\n",
    "df['longitud'] = df['longitud'].astype(str)"
   ]
  },
  {
   "cell_type": "code",
   "execution_count": 165,
   "id": "efe7f4b8-98f3-4732-b6d3-1ba4e91012aa",
   "metadata": {},
   "outputs": [
    {
     "name": "stdout",
     "output_type": "stream",
     "text": [
      "<class 'pandas.core.frame.DataFrame'>\n",
      "RangeIndex: 1717939 entries, 0 to 1717938\n",
      "Data columns (total 25 columns):\n",
      " #   Column                      Dtype  \n",
      "---  ------                      -----  \n",
      " 0   fuente_colocacion           object \n",
      " 1   id_tipo_prod                int64  \n",
      " 2   tipo_productor              object \n",
      " 3   valor_inversion             float64\n",
      " 4   colocacion                  float64\n",
      " 5   id_depto                    int64  \n",
      " 6   departamento_inversion      object \n",
      " 7   id_munic                    int64  \n",
      " 8   municipio_inversion         object \n",
      " 9   municipio_de_postconflicto  object \n",
      " 10  depcol                      int64  \n",
      " 11  departamento_de_colocacion  object \n",
      " 12  muncol                      int64  \n",
      " 13  municipio_colocacion        object \n",
      " 14  plazo                       int64  \n",
      " 15  linea_de_credito            object \n",
      " 16  linea_de_produccion         object \n",
      " 17  id_rubro                    int64  \n",
      " 18  destino_de_credito          object \n",
      " 19  genero                      object \n",
      " 20  vlr_inic_garantia           float64\n",
      " 21  latitud                     object \n",
      " 22  longitud                    object \n",
      " 23  anho                        int32  \n",
      " 24  nombre_mes                  object \n",
      "dtypes: float64(3), int32(1), int64(7), object(14)\n",
      "memory usage: 321.1+ MB\n"
     ]
    }
   ],
   "source": [
    "df.info()"
   ]
  },
  {
   "cell_type": "code",
   "execution_count": 166,
   "id": "7d0f8285-2675-41f3-9ecb-b146a14b4698",
   "metadata": {},
   "outputs": [],
   "source": [
    "# Se guarda de manera local el dataset depurado para trabajar con el, en el modelo dimensional con otras herramientras de BI\n",
    "# df.to_csv('py_dataset_agrocreditos_depurado.csv')"
   ]
  },
  {
   "cell_type": "code",
   "execution_count": 240,
   "id": "6ba7e359-567c-4486-9370-55a5673d437f",
   "metadata": {},
   "outputs": [
    {
     "data": {
      "text/plain": [
       "365"
      ]
     },
     "execution_count": 240,
     "metadata": {},
     "output_type": "execute_result"
    }
   ],
   "source": [
    "df['destino_de_credito'].nunique()"
   ]
  },
  {
   "cell_type": "markdown",
   "id": "429ec756-905e-4d95-9715-7f634d0d6895",
   "metadata": {},
   "source": [
    "# <b><div style='padding:13px;background-color:#592321;color:white;border-radius:3px;font-size:110%;text-align: left'>3. EDA mediante estadística descriptiva - variables numéricas</div></b>"
   ]
  },
  {
   "cell_type": "markdown",
   "id": "d2d7619a-ef53-4fd1-951d-bbd81d4bbb87",
   "metadata": {},
   "source": [
    "## Objetivo: Entender los datos a través del análisis estadístico descriptivo\n",
    "\n",
    "## Actividades:\n",
    "- Visualizar la distribución estadística de las variables cláves:\n",
    "    - 'Valor Inversion'\n",
    "    - 'Colocacion'\n",
    "    - 'Plazo'\n",
    "    - 'Valor Inicial de la Garantia'\n",
    "- Generar la medidas de tendencia de las variables cláves, usando estadística descriptiva:\n",
    "    - media\n",
    "    - mediana\n",
    "    - desviación estándar\n",
    "- Comparar la distribución de datos con los rangos máximos y mínimo modelados por seaborn"
   ]
  },
  {
   "cell_type": "markdown",
   "id": "5c20f163-53b7-4576-a310-f6903cbf8440",
   "metadata": {},
   "source": [
    "## Actividad #1: Visualizar la distribución estadística de las variables cláve\n",
    "## Actividad #2: Generar estadisticas descriptivas de los datos\n",
    "## Actividad #3: Comparar la distribución de los datos con los rangos máximos y minimos modelados por seaborn"
   ]
  },
  {
   "cell_type": "markdown",
   "id": "67e0ca8c-256c-4379-bc50-14cefa0d2efc",
   "metadata": {},
   "source": [
    "Medidas estadísticas descriptivas:\n",
    "\n",
    "- Medidas de tendencia central\n",
    "- Medida de dispersión\n",
    "- Medida de posición"
   ]
  },
  {
   "cell_type": "code",
   "execution_count": 194,
   "id": "73237abe-efca-4162-8473-4675d55211ba",
   "metadata": {},
   "outputs": [
    {
     "data": {
      "text/html": [
       "<div>\n",
       "<style scoped>\n",
       "    .dataframe tbody tr th:only-of-type {\n",
       "        vertical-align: middle;\n",
       "    }\n",
       "\n",
       "    .dataframe tbody tr th {\n",
       "        vertical-align: top;\n",
       "    }\n",
       "\n",
       "    .dataframe thead th {\n",
       "        text-align: right;\n",
       "    }\n",
       "</style>\n",
       "<table border=\"1\" class=\"dataframe\">\n",
       "  <thead>\n",
       "    <tr style=\"text-align: right;\">\n",
       "      <th></th>\n",
       "      <th>valor_inversion</th>\n",
       "      <th>colocacion</th>\n",
       "      <th>plazo</th>\n",
       "      <th>vlr_inic_garantia</th>\n",
       "    </tr>\n",
       "  </thead>\n",
       "  <tbody>\n",
       "    <tr>\n",
       "      <th>count</th>\n",
       "      <td>1717939.00</td>\n",
       "      <td>1717939.00</td>\n",
       "      <td>1717939.00</td>\n",
       "      <td>1717939.00</td>\n",
       "    </tr>\n",
       "    <tr>\n",
       "      <th>mean</th>\n",
       "      <td>83624916.50</td>\n",
       "      <td>62693073.57</td>\n",
       "      <td>43.27</td>\n",
       "      <td>7664484.88</td>\n",
       "    </tr>\n",
       "    <tr>\n",
       "      <th>std</th>\n",
       "      <td>2542951001.69</td>\n",
       "      <td>1149261394.63</td>\n",
       "      <td>31.23</td>\n",
       "      <td>19763463.37</td>\n",
       "    </tr>\n",
       "    <tr>\n",
       "      <th>min</th>\n",
       "      <td>1.00</td>\n",
       "      <td>1.00</td>\n",
       "      <td>1.00</td>\n",
       "      <td>0.00</td>\n",
       "    </tr>\n",
       "    <tr>\n",
       "      <th>25%</th>\n",
       "      <td>4000000.00</td>\n",
       "      <td>3600000.00</td>\n",
       "      <td>14.00</td>\n",
       "      <td>0.00</td>\n",
       "    </tr>\n",
       "    <tr>\n",
       "      <th>50%</th>\n",
       "      <td>10000000.00</td>\n",
       "      <td>9800000.00</td>\n",
       "      <td>36.00</td>\n",
       "      <td>3600000.00</td>\n",
       "    </tr>\n",
       "    <tr>\n",
       "      <th>75%</th>\n",
       "      <td>20000000.00</td>\n",
       "      <td>18000000.00</td>\n",
       "      <td>69.00</td>\n",
       "      <td>10136000.00</td>\n",
       "    </tr>\n",
       "    <tr>\n",
       "      <th>max</th>\n",
       "      <td>1499500000000.00</td>\n",
       "      <td>300000000000.00</td>\n",
       "      <td>245.00</td>\n",
       "      <td>3969476148.00</td>\n",
       "    </tr>\n",
       "  </tbody>\n",
       "</table>\n",
       "</div>"
      ],
      "text/plain": [
       "        valor_inversion       colocacion       plazo vlr_inic_garantia\n",
       "count        1717939.00       1717939.00  1717939.00        1717939.00\n",
       "mean        83624916.50      62693073.57       43.27        7664484.88\n",
       "std       2542951001.69    1149261394.63       31.23       19763463.37\n",
       "min                1.00             1.00        1.00              0.00\n",
       "25%          4000000.00       3600000.00       14.00              0.00\n",
       "50%         10000000.00       9800000.00       36.00        3600000.00\n",
       "75%         20000000.00      18000000.00       69.00       10136000.00\n",
       "max    1499500000000.00  300000000000.00      245.00     3969476148.00"
      ]
     },
     "execution_count": 194,
     "metadata": {},
     "output_type": "execute_result"
    }
   ],
   "source": [
    "# Se generan las estadísticas descriptivas para variables de medida\n",
    "df[['valor_inversion','colocacion','plazo','vlr_inic_garantia']].describe().map(\"{:.2f}\".format)"
   ]
  },
  {
   "cell_type": "markdown",
   "id": "abe8f0de-96a1-4260-9396-90e64f9dbdec",
   "metadata": {},
   "source": [
    "**Observaciones claves de las estadísticas descriptivas para las variables de interés(de medida):**\n",
    "- Para la variable, **'valor_inversion'**, cuenta con un total de 1,717,939 registros. El promedio de la valuación de los proyectos agropecuarios es de 83,624,916.5 COP, donde el mínimo valor manifestado es de 1 COP y el máximo es de 1,499,500,000,000 COP. Así mismo la mediana para este variable es de 10,000,000 COP y se calcula una desviación estándar de los datos equivalente a 2,542,951,001.69 COP.\n",
    "- Para la variable, **'colocacion'**, cuenta con un total de 1,717,939 registros. El promedio de la colocación de créditos en los proyectos agropecuarios es de 62,693,073.57 COP, donde el mínimo valor manifestado es de 1 COP y el máximo es de 300,000,000,000 COP. Así mismo la mediana para este variable es de 9,800,000 COP y se calcula una desviación estándar de los datos equivalente a 1,149,261,394.63 COP.\n",
    "- Para la variable, **'plazo'**, cuenta con un total de 1,717,939 registros. El promedio de plazos para la amortización de los créditos colocados en proyectos agropecuarios es de 43.27 meses, donde el mínimo plazo es de 1 mes y el máximo es de 245 meses. Así mismo la mediana para este variable es de 36 meses y se calcula una desviación estándar de los datos equivalente a 31,23 meses.\n",
    "- Para la variable, **'vlr_inic_garantia'**, cuenta con un total de 1,717,939 registros. El promedio del valor de la garantía respaldada por FAG en los proyectos agropecuarios es de 7,664,484.88 COP, donde el mínimo valor manifestado es de 0 COP y el máximo es de 3,969,476,148 COP. Así mismo la mediana para este variable es de 3.600.000 COP y se calcula una desviación estándar de los datos equivalente a 19,763,463.37 COP."
   ]
  },
  {
   "cell_type": "markdown",
   "id": "414e023f-00b6-497b-97d0-5a1493515359",
   "metadata": {},
   "source": [
    "**Conclusiones**\n",
    "\n",
    "- **Para 'valor_inversion', 'colocacion' y 'vlr_inic_garantia' :** La variables cuentan con mínimos y máximos muy alejados de la media, e incluso de la mediana, por lo que  se puede afirmar que existen valores atípicos (outliers) demasiados extremos que hay que gestionar más adelante. Esto ocasiona que la desviación estándar de los datos sea demasiado grande y refleje la dispersión pronunciada de los datos.\n",
    "\n",
    "- **Para 'plazo' :** Esta variable cuenta con un mínimo esperado en operaciones de créditos regulares. No se observan anomalías en la estadísticas descriptivas más allá del hecho que existe, valores muy por encima de la media y la mediana, pero que NO va en contra de la política de plazos crediticios de la institución."
   ]
  },
  {
   "cell_type": "markdown",
   "id": "a5d0ab25-b4fd-4821-ad2d-5e593d56afb9",
   "metadata": {},
   "source": [
    "### 1. 'valor_inversion': comparar la distribución de datos con los rangos máximos y mínimos modelados por seaborn"
   ]
  },
  {
   "cell_type": "markdown",
   "id": "80a1bfd1-f23d-4236-a552-37fee1f4b9d1",
   "metadata": {},
   "source": [
    "##### Como se va a utilizar el mismo gráfico de cajas con y sin datos atípicos para tener una visión del comportamiento de las variables numéricas, se creará una función que permita automatizar el proceso de ploteo."
   ]
  },
  {
   "cell_type": "code",
   "execution_count": 208,
   "id": "7eccdb57-03c8-47ec-9108-86011604614e",
   "metadata": {},
   "outputs": [],
   "source": [
    " # La función recibe 4 argumentos obligatorios: nombre del dataframe, campo o variable a graficar,\n",
    "# etique en el eje x y etiqueta en el eje y\n",
    "\n",
    "def boxplot_automatico_1x2(df_name,column_name, x_label, y_label,**kwargs):\n",
    "    fig, axes = plt.subplots(1, 2, figsize=(10, 5))  # (filas, columnas) en el layout\n",
    "    sns.boxplot(data=df_name[column_name],ax=axes[0], fliersize=1, showfliers=True, **kwargs)\n",
    "    axes[0].set_title(\"Boxplot con valores atípicos\")\n",
    "    axes[0].set_xlabel(x_label)\n",
    "    axes[0].set_ylabel(y_label)\n",
    "    sns.boxplot(data=df_name[column_name],ax=axes[1], fliersize=1, showfliers=False, **kwargs)\n",
    "    axes[1].set_xlabel(x_label)\n",
    "    axes[1].set_ylabel(y_label)\n",
    "    axes[1].set_title(\"Boxplot sin valores atípicos\")\n",
    "    plt.tight_layout()\n",
    "    plt.show()\n",
    "    "
   ]
  },
  {
   "cell_type": "code",
   "execution_count": 210,
   "id": "c716c205-51cf-4911-8ef7-4b4ecbe835c8",
   "metadata": {},
   "outputs": [
    {
     "data": {
      "image/png": "[encoded data removed]",
      "text/plain": [
       "<Figure size 1000x500 with 2 Axes>"
      ]
     },
     "metadata": {},
     "output_type": "display_data"
    }
   ],
   "source": [
    "# Utilizamos la función creada anteriormente para crear un gráfico de caja para la variable 'valor_inversion'\n",
    "\n",
    "boxplot_automatico_1x2(df,'valor_inversion','Inversión','Valor en pesos ($ COP)')"
   ]
  },
  {
   "cell_type": "markdown",
   "id": "a2d90419-fc6b-4c6d-bf38-e85d9677fcd7",
   "metadata": {},
   "source": [
    "#### Identificando los valores atípicos utilizando la regla de límites (1.5*IQR) para 'valor_inversion'"
   ]
  },
  {
   "cell_type": "markdown",
   "id": "5c37e5d9-b22e-45c6-8c9a-b6fbbfd44669",
   "metadata": {},
   "source": [
    "##### Como se va a ejecutar el mismo proceso para varios campos, se definirá una función que permita automatizarlo"
   ]
  },
  {
   "cell_type": "code",
   "execution_count": 215,
   "id": "a4e688b2-94b7-45af-9c74-d073c75c1c1e",
   "metadata": {},
   "outputs": [],
   "source": [
    "def limits_iqr(df_name,column_name):\n",
    "# Determinamos los cuartiles 1, 2 y 3 equivalente a los percentiles 25%, 50% y 75$ respectivamente, teniendo en cuenta\n",
    "# que el cuartil 50% es la misma mediana\n",
    "    cuartil1 = df_name[column_name].quantile(0.25)\n",
    "    median = df_name[column_name].median()\n",
    "    cuartil3 = df_name[column_name].quantile(0.75)\n",
    "\n",
    "# Calculamos el rango intercuartil (interquantile range)\n",
    "    iqr = cuartil3 - cuartil1\n",
    "\n",
    "# Calculamos los límites (bigotes) o umbral de los datos\n",
    "    limite_inferior = cuartil1 - (1.5*iqr)\n",
    "    limite_superior = cuartil3 + (1.5*iqr)\n",
    "\n",
    "# Si el limite inferior es negativo, sabemos que en este contexto no pueden existir operaciones con\n",
    "# transacciones de tipo negativa, ni para montos, ni para tiempo, así que establecemos que en estos casos\n",
    "# el valor para el límite inferior será igual a cero (0)\n",
    "    if (limite_inferior < 0):\n",
    "        limite_inferior = 0\n",
    "    else:\n",
    "        pass\n",
    "        \n",
    "    print('El limite inferior es: ', limite_inferior)\n",
    "    print('Valores atípicos por debajo del limite inferior: ', df_name[df_name[column_name] < limite_inferior].shape[0])\n",
    "    print()\n",
    "    print(f'La mediana es: {median}')\n",
    "    print()\n",
    "    print('El limite superior es', limite_superior)\n",
    "    print('Valores atípicos por encima del limite superior: ', df_name[df_name[column_name] > limite_superior].shape[0])\n",
    "    return limite_inferior, limite_superior"
   ]
  },
  {
   "cell_type": "code",
   "execution_count": 216,
   "id": "c5bf3cde-20dd-4251-bd3e-3f1f8604238b",
   "metadata": {},
   "outputs": [
    {
     "name": "stdout",
     "output_type": "stream",
     "text": [
      "El limite inferior es:  0\n",
      "Valores atípicos por debajo del limite inferior:  0\n",
      "\n",
      "La mediana es: 10000000.0\n",
      "\n",
      "El limite superior es 44000000.0\n",
      "Valores atípicos por encima del limite superior:  173008\n"
     ]
    }
   ],
   "source": [
    "# Utilizamos la función creada anteriormente para determinar los límites máximos y mínimos para 'valor_inversion'\n",
    "# Adicionalmente, guardamos el valor de los límites calculados para usarlos más adelante\n",
    "limite_inferior_valor_inversion, limite_superior_valor_inversion = limits_iqr(df,'valor_inversion')"
   ]
  },
  {
   "cell_type": "markdown",
   "id": "55889db9-4df1-406c-a1c2-45d197c990b9",
   "metadata": {},
   "source": [
    "<div class=\"alert alert-block alert-info\">\n",
    "    <b>✅</b><b>HALLAZGOS IMPORTANTES:</b> \n",
    "</div>\n",
    "\n",
    " > Para la variable, **valor de inversión**, existen ***173,008*** datos atípicos en el dataset, todos por encima del límite superior que se establece en $ 44,000,000 COP"
   ]
  },
  {
   "cell_type": "markdown",
   "id": "ef08c067-1134-4259-80b5-5dc52ab18bca",
   "metadata": {},
   "source": [
    "### 2. 'colocacion': comparar la distribución de datos con los rangos máximos y mínimos modelados por seaborn"
   ]
  },
  {
   "cell_type": "code",
   "execution_count": 221,
   "id": "b0f2d903-6168-4fd3-bdcc-ebf7b06db57f",
   "metadata": {},
   "outputs": [
    {
     "data": {
      "image/png": "[encoded data removed]",
      "text/plain": [
       "<Figure size 1000x500 with 2 Axes>"
      ]
     },
     "metadata": {},
     "output_type": "display_data"
    }
   ],
   "source": [
    "# Utilizamos la función creada anteriormente para crear un gráfico de caja para la variable 'colocacion'\n",
    "\n",
    "boxplot_automatico_1x2(df,'colocacion','Colocación del Crédito','Valor en pesos ($ COP)')"
   ]
  },
  {
   "cell_type": "markdown",
   "id": "4f556ea7-fa2c-4b5d-930c-abc093eb170b",
   "metadata": {},
   "source": [
    "#### Identificando los valores atípicos utilizando la regla de límites (1.5*IQR) para 'colocacion'"
   ]
  },
  {
   "cell_type": "code",
   "execution_count": 225,
   "id": "8aeecd3d-f082-4886-a5d4-b3006bb6aba6",
   "metadata": {},
   "outputs": [
    {
     "name": "stdout",
     "output_type": "stream",
     "text": [
      "El limite inferior es:  0\n",
      "Valores atípicos por debajo del limite inferior:  0\n",
      "\n",
      "La mediana es: 9800000.0\n",
      "\n",
      "El limite superior es 39600000.0\n",
      "Valores atípicos por encima del limite superior:  179315\n"
     ]
    }
   ],
   "source": [
    "# Utilizamos la función creada anteriormente para determinar los límites máximos y mínimos para 'colocacion'\n",
    "# Adicionalmente, guardamos el valor de los límites calculados para usarlos más adelante\n",
    "limite_inferior_colocacion, limite_superior_colocacion = limits_iqr(df,'colocacion')"
   ]
  },
  {
   "cell_type": "markdown",
   "id": "3817ee60-048c-4375-8950-d34f6df2c362",
   "metadata": {},
   "source": [
    "<div class=\"alert alert-block alert-info\">\n",
    "    <b>✅</b><b>HALLAZGOS IMPORTANTES:</b> \n",
    "</div>\n",
    "\n",
    " > Para la variable, **valor de colocación**, existen ***179,315*** datos atípicos en el dataset, todos por encima del límite superior que se establece en $ 39,600,000 COP"
   ]
  },
  {
   "cell_type": "markdown",
   "id": "83be4b0a-d68b-40fc-978c-3317a13f9458",
   "metadata": {},
   "source": [
    "### 3. 'plazo': comparar la distribución de datos con los rangos máximos y mínimos modelados por seaborn"
   ]
  },
  {
   "cell_type": "code",
   "execution_count": 228,
   "id": "2d080469-03b5-44d5-98de-025ec23241d5",
   "metadata": {},
   "outputs": [
    {
     "data": {
      "image/png": "[encoded data removed]",
      "text/plain": [
       "<Figure size 1000x500 with 2 Axes>"
      ]
     },
     "metadata": {},
     "output_type": "display_data"
    }
   ],
   "source": [
    "# Utilizamos la función creada anteriormente para crear un gráfico de caja para la variable 'plazo'\n",
    "\n",
    "boxplot_automatico_1x2(df,'plazo','Plazo de pagos','Tiempo en meses')"
   ]
  },
  {
   "cell_type": "markdown",
   "id": "fb99913a-329c-4968-bd0c-abff9d0f5dd9",
   "metadata": {},
   "source": [
    "#### Identificando los valores atípicos utilizando la regla de límites (1.5*IQR) para 'plazo'"
   ]
  },
  {
   "cell_type": "code",
   "execution_count": 230,
   "id": "5416f145-b59b-4bd5-9992-4c5db0a553fb",
   "metadata": {},
   "outputs": [
    {
     "name": "stdout",
     "output_type": "stream",
     "text": [
      "El limite inferior es:  0\n",
      "Valores atípicos por debajo del limite inferior:  0\n",
      "\n",
      "La mediana es: 36.0\n",
      "\n",
      "El limite superior es 151.5\n",
      "Valores atípicos por encima del limite superior:  1279\n"
     ]
    }
   ],
   "source": [
    "# Utilizamos la función creada anteriormente para determinar los límites máximos y mínimos para 'plazo'\n",
    "# Adicionalmente, guardamos el valor de los límites calculados para usarlos más adelante\n",
    "limite_inferior_plazo, limite_superior_plazo = limits_iqr(df,'plazo')"
   ]
  },
  {
   "cell_type": "markdown",
   "id": "253d6c8e-1ee1-44b4-a346-f462fcf6b386",
   "metadata": {},
   "source": [
    "<div class=\"alert alert-block alert-info\">\n",
    "    <b>✅</b><b>HALLAZGOS IMPORTANTES:</b> \n",
    "</div>\n",
    "\n",
    " > Para la variable, **plazo de amortización**, existen ***1,279*** datos atípicos en el dataset, todos por encima del límite superior que se establece en 151.5 meses"
   ]
  },
  {
   "cell_type": "markdown",
   "id": "bbbedc94-8c19-4516-8863-26a030b9b183",
   "metadata": {},
   "source": [
    "### 4. 'vlr_inic_garantia': comparar la distribución de datos con los rangos máximos y mínimos modelados por seaborn"
   ]
  },
  {
   "cell_type": "code",
   "execution_count": 236,
   "id": "25893440-d146-4dcc-96ba-5a944dee8693",
   "metadata": {},
   "outputs": [
    {
     "data": {
      "image/png": "[encoded data removed]",
      "text/plain": [
       "<Figure size 1000x500 with 2 Axes>"
      ]
     },
     "metadata": {},
     "output_type": "display_data"
    }
   ],
   "source": [
    "# Utilizamos la función creada anteriormente para crear un gráfico de caja para la variable 'vlr_inic_garantia'\n",
    "\n",
    "boxplot_automatico_1x2(df,'vlr_inic_garantia','Garantía respaldada por FAG','Valor en pesos ($ COP)')"
   ]
  },
  {
   "cell_type": "markdown",
   "id": "b595dc74-f070-4885-8680-f00dfd317745",
   "metadata": {},
   "source": [
    "#### Identificando los valores atípicos utilizando la regla de límites (1.5*IQR)) para 'vlr_inic_garantia'"
   ]
  },
  {
   "cell_type": "code",
   "execution_count": 241,
   "id": "ea29a6c2-cd90-458a-8b84-4c2b24416d98",
   "metadata": {},
   "outputs": [
    {
     "name": "stdout",
     "output_type": "stream",
     "text": [
      "El limite inferior es:  0\n",
      "Valores atípicos por debajo del limite inferior:  0\n",
      "\n",
      "La mediana es: 3600000.0\n",
      "\n",
      "El limite superior es 25340000.0\n",
      "Valores atípicos por encima del limite superior:  67877\n"
     ]
    }
   ],
   "source": [
    "# Utilizamos la función creada anteriormente para determinar los límites máximos y mínimos para 'vlr_inic_garantia'\n",
    "# Adicionalmente, guardamos el valor de los límites calculados para usarlos más adelante\n",
    "limite_inferior_vlr_inic_garantia, limite_superior_vlr_inic_garantia = limits_iqr(df,'vlr_inic_garantia')"
   ]
  },
  {
   "cell_type": "markdown",
   "id": "58fc91fe-862c-47d0-8c11-f3abea7b4dea",
   "metadata": {},
   "source": [
    "<div class=\"alert alert-block alert-info\">\n",
    "    <b>✅</b><b>HALLAZGOS IMPORTANTES:</b> \n",
    "</div>\n",
    "\n",
    " > Para la variable, **valor de la garantía respaldada por FAG**, existen ***67,877*** datos atípicos en el dataset, todos por encima del límite superior que se establece en $ 25,340,000 COP"
   ]
  },
  {
   "cell_type": "markdown",
   "id": "5a3aad80-dc5c-4004-ae9f-c278b1595dfe",
   "metadata": {},
   "source": [
    "# <b><div style='padding:13px;background-color:#592321;color:white;border-radius:3px;font-size:110%;text-align: left'>4. EDA mediante estadística descriptiva - variables categóricas</div></b>"
   ]
  },
  {
   "cell_type": "markdown",
   "id": "12b0ae8a-0366-40d0-a949-3cbd1313d5d8",
   "metadata": {},
   "source": [
    "## Objetivo: Entender los datos a través del análisis estadístico descriptivo\n",
    "\n",
    "## Actividades:\n",
    "- Generar la medidas de tendencia de las variables cláves, usando estadística descriptiva:\n",
    "    - número de observaciones válidas\n",
    "    - número de categorías únicas\n",
    "    - moda\n",
    "    - frecuencia absoluta de la moda\n",
    "- Visualizar la distribución estadística de las variables cláves:\n",
    "    - 'fuente_colocacion'\n",
    "    - 'tipo_productor'\n",
    "    - 'departamento_inversion'\n",
    "    - 'departamento_de_colocacion'\n",
    "    - 'linea_de_credito'\n",
    "    - 'linea_de_produccion'\n",
    "    - 'genero'\n",
    "- Analizar la distribución de los datos por variables"
   ]
  },
  {
   "cell_type": "markdown",
   "id": "b8184dd9-961c-4e3f-a221-b0ef0255974e",
   "metadata": {},
   "source": [
    "## Actividad #1: Generar estadisticas descriptivas de los datos\n",
    "## Actividad #2: Visualizar la distribución estadística de las variables cláves\n",
    "## Actividad #3: Analizar la distribución de los datos por variables"
   ]
  },
  {
   "cell_type": "markdown",
   "id": "b81634cc-0cca-4763-822d-9240daf5326f",
   "metadata": {},
   "source": [
    "Medidas estadísticas descriptivas:\n",
    "\n",
    "- número de observaciones válidas\n",
    "- número de categorías únicas\n",
    "- moda\n",
    "- frecuencia absoluta de la moda"
   ]
  },
  {
   "cell_type": "code",
   "execution_count": 248,
   "id": "e6e4ad04-9400-48a9-bb34-2bea8a252c12",
   "metadata": {},
   "outputs": [
    {
     "data": {
      "text/html": [
       "<div>\n",
       "<style scoped>\n",
       "    .dataframe tbody tr th:only-of-type {\n",
       "        vertical-align: middle;\n",
       "    }\n",
       "\n",
       "    .dataframe tbody tr th {\n",
       "        vertical-align: top;\n",
       "    }\n",
       "\n",
       "    .dataframe thead th {\n",
       "        text-align: right;\n",
       "    }\n",
       "</style>\n",
       "<table border=\"1\" class=\"dataframe\">\n",
       "  <thead>\n",
       "    <tr style=\"text-align: right;\">\n",
       "      <th></th>\n",
       "      <th>fuente_colocacion</th>\n",
       "      <th>tipo_productor</th>\n",
       "      <th>departamento_inversion</th>\n",
       "      <th>departamento_de_colocacion</th>\n",
       "      <th>linea_de_credito</th>\n",
       "      <th>linea_de_produccion</th>\n",
       "      <th>genero</th>\n",
       "    </tr>\n",
       "  </thead>\n",
       "  <tbody>\n",
       "    <tr>\n",
       "      <th>count</th>\n",
       "      <td>1717939</td>\n",
       "      <td>1717939</td>\n",
       "      <td>1717939</td>\n",
       "      <td>1717939</td>\n",
       "      <td>1717939</td>\n",
       "      <td>1717939</td>\n",
       "      <td>1717939</td>\n",
       "    </tr>\n",
       "    <tr>\n",
       "      <th>unique</th>\n",
       "      <td>3</td>\n",
       "      <td>4</td>\n",
       "      <td>33</td>\n",
       "      <td>33</td>\n",
       "      <td>3</td>\n",
       "      <td>17</td>\n",
       "      <td>3</td>\n",
       "    </tr>\n",
       "    <tr>\n",
       "      <th>top</th>\n",
       "      <td>REDESCUENTO</td>\n",
       "      <td>PEQUEÑO</td>\n",
       "      <td>ANTIOQUIA</td>\n",
       "      <td>ANTIOQUIA</td>\n",
       "      <td>Capital de Trabajo</td>\n",
       "      <td>SOSTENIMIENTO (CT)</td>\n",
       "      <td>H</td>\n",
       "    </tr>\n",
       "    <tr>\n",
       "      <th>freq</th>\n",
       "      <td>1215310</td>\n",
       "      <td>1026229</td>\n",
       "      <td>177293</td>\n",
       "      <td>186617</td>\n",
       "      <td>900863</td>\n",
       "      <td>407041</td>\n",
       "      <td>1009940</td>\n",
       "    </tr>\n",
       "  </tbody>\n",
       "</table>\n",
       "</div>"
      ],
      "text/plain": [
       "       fuente_colocacion tipo_productor departamento_inversion  \\\n",
       "count            1717939        1717939                1717939   \n",
       "unique                 3              4                     33   \n",
       "top          REDESCUENTO        PEQUEÑO              ANTIOQUIA   \n",
       "freq             1215310        1026229                 177293   \n",
       "\n",
       "       departamento_de_colocacion    linea_de_credito linea_de_produccion  \\\n",
       "count                     1717939             1717939             1717939   \n",
       "unique                         33                   3                  17   \n",
       "top                     ANTIOQUIA  Capital de Trabajo  SOSTENIMIENTO (CT)   \n",
       "freq                       186617              900863              407041   \n",
       "\n",
       "         genero  \n",
       "count   1717939  \n",
       "unique        3  \n",
       "top           H  \n",
       "freq    1009940  "
      ]
     },
     "execution_count": 248,
     "metadata": {},
     "output_type": "execute_result"
    }
   ],
   "source": [
    "# Se generan las estadísticas descriptivas para variables dimensionales\n",
    "df[['fuente_colocacion','tipo_productor','departamento_inversion','departamento_de_colocacion','linea_de_credito',\n",
    "    'linea_de_produccion', 'genero']].describe()"
   ]
  },
  {
   "cell_type": "markdown",
   "id": "ec5f8510-e46d-42f0-a4d6-f94a5a77105f",
   "metadata": {},
   "source": [
    "**Observaciones claves de las estadísticas descriptivas para las variables de interés(de categoría):**\n",
    "- La variable, **'fuente_colocacion'**, cuenta con un total de 1,717,939 registros. Solo existen 3 valores únicos posibles que puede tomar la variable. Así mismo, la categoría que más se repite (moda) es la de 'REDESCUENTO', la cual tiene una frecuencia de 1,215,310 veces, que corresponde a casi el 71% del total de operaciones de crédito registrados.\n",
    "- La variable, **'tipo_productor'**, cuenta con un total de 1,717,939 registros. Solo existen 4 valores únicos posibles que puede tomar la variable. Así mismo, la categoría que más se repite (moda) es la de 'PEQUEÑO', la cual tiene una frecuencia de 1,026,229 veces, que corresponde a casi el 60% del total de operaciones de crédito registrados.\n",
    "- La variable, **'departamento_inversion'**, cuenta con un total de 1,717,939 registros. Solo existen 33 valores únicos posibles que puede tomar la variable. Así mismo, la categoría que más se repite (moda) es la de 'ANTIOQUIA', la cual tiene una frecuencia de 177,293 veces, que corresponde al 10% aproximadamente del total de operaciones de crédito registrados.\n",
    "- La variable, **'departamento_de_colocacion'**, cuenta con un total de 1,717,939 registros. Solo existen 33 valores únicos posibles que puede tomar la variable. Así mismo, la categoría que más se repite (moda) es la de 'ANTIOQUIA', la cual tiene una frecuencia de 186,617 veces, que corresponde al 11% aproximadamente del total de operaciones de crédito registrados.\n",
    "- La variable, **'linea_de_credito'**, cuenta con un total de 1,717,939 registros. Solo existen 3 valores únicos posibles que puede tomar la variable. Así mismo, la categoría que más se repite (moda) es la de 'Capital de Trabajo', la cual tiene una frecuencia de 900,863 veces, que corresponde al 53% aproximadamente del total de operaciones de crédito registrados.\n",
    "- La variable, **'linea_de_produccion'**, cuenta con un total de 1,717,939 registros. Solo existen 17 valores únicos posibles que puede tomar la variable. Así mismo, la categoría que más se repite (moda) es la de 'SOSTENIMIENTO(CT)', la cual tiene una frecuencia de 407,041 veces, que corresponde al 24% aproximadamente del total de operaciones de crédito registrados.\n",
    "- Para la variable, **'genero'**, cuenta con un total de 1,717,939 registros. Solo existen 3 valores únicos posibles que puede tomar la variable. Así mismo, la categoría que más se repite (moda) es la de 'H', la cual tiene una frecuencia de 1,009,940 veces, que corresponde al 59% aproximadamente del total de operaciones de crédito registrados."
   ]
  },
  {
   "cell_type": "markdown",
   "id": "1a462ce4-abee-407e-84f3-343f02be314b",
   "metadata": {},
   "source": [
    "**Conclusiones**\n",
    "\n",
    "- **Para 'fuente_colocacion':** la alta proporción del 71% aproximado, sugiere que 'REDESCUENTO' es el principal mecanismo o fuente de colocación de créditos en el sistema crediticio de FGA. El hecho de que existan solo 3 valores únicos posibles indica que la variable es muy específica y categorizada (Redescuento, Agropecuaria, Sustituta). Es importante evaluar si esta concentración representa un riesgo o una oportunidad, dependiendo de las características de la organización o del sistema de créditos (por ejemplo, la dependencia excesiva de una única fuente de colocación podría limitar la flexibilidad o diversificación).\n",
    " ***Pregunta de indagación:*** ¿Hay alguna tendencia temporal asociada con el uso de estas fuentes de colocación?\n",
    "\n",
    "- **Para 'tipo_productor' :** la alta concentración, 60% aproximado, sugiere que el tipo de productor 'PEQUEÑO' es una parte fundamental de las operaciones de crédito, posiblemente porque este tipo de productores agro tienen mayores necesidades de financiamiento. Es claro que las otras tres categorías tienen una participación significativamente menor (PEQUEÑO PPIB, MEDIANO, GRANDE), lo cual podría reflejar un enfoque especializado o una menor diversidad en las operaciones. Es importante evaluar si el resto de las categorías son áreas con potencial de crecimiento o si su baja proporción refleja limitaciones o menor interés estratégico.\n",
    "    ***Pregunta de indagación:*** ¿La participación de productores 'PEQUEÑO' ha cambiado con el tiempo? Un crecimiento constante podría reflejar un enfoque intencional, mientras que una caída relativa podría implicar un cambio de prioridades.\n",
    "\n",
    "- **Para 'departamento_inversion' :** La variable presenta 33 valores únicos, lo que refleja una cobertura nacional amplia en los departamentos de Colombia. Esto sugiere que las operaciones de crédito están distribuidas en todo el territorio, aunque no de manera uniforme. la proporción de 10% de representatividad de 'ANTIOQUIA' podría reflejar que este departamento tiene condiciones favorables para proyectos sujetos a crédito, como una alta demanda de productos y servicios financieros, una economía regional activa, o políticas específicas que favorecen el acceso al crédito en esa zona. Dado que la categoría más frecuente representa solo el 10%, se puede inferir que los demás departamentos tienen una participación considerablemente más equilibrada, sin que una sola región concentre una mayoría abrumadora de las operaciones.\n",
    "    ***Pregunta de indagación:*** ¿Hay más regiones con participaciones similares a Antioquia o existen departamentos significativamente subrepresentadas? Evaluar si Antioquia ha sido históricamente un líder en operaciones de crédito o si su participación ha crecido recientemente.\n",
    "\n",
    "- **Para 'departamento_de_colocacion' :** La variable presenta 33 valores únicos, lo que indica una cobertura nacional amplia de los créditos agropecuarios en los diferentes departamentos de Colombia. Sin embargo, la participación de 'ANTIOQUIA', que concentra el 11% del total, destaca como el departamento con mayor frecuencia de créditos agropecuarios otorgados. Aunque Antioquia lidera con un 11%, el 89% restante está distribuido entre los otros 32 departamentos. Esto sugiere que los créditos agropecuarios no están excesivamente concentrados y se distribuyen de forma relativamente equitativa en el territorio colombiano. Sería útil analizar las frecuencias de los demás departamentos para identificar posibles regiones con participaciones cercanas a Antioquia (como Santander, Tolima o Valle del Cauca, que también son regiones agrícolas importantes).\n",
    " Los departamentos con menor frecuencia de créditos pueden representar regiones donde los proyectos agropecuarios están menos desarrollados o enfrentan barreras para acceder al crédito. Esto podría ser una oportunidad para promover políticas de inclusión financiera.\n",
    "    ***Pregunta de indagación:*** Estudiar la evolución temporal de los créditos agropecuarios por departamento, para entender si ¿La participación de Antioquia ha crecido recientemente o se mantiene constante?\n",
    "\n",
    "- **Para 'linea_de_credito' :** La variable muestra que 'Capital de Trabajo' es la actividad financiable predominante, representando el 53% de las operaciones de crédito. Esto refleja una fuerte orientación hacia el apoyo de necesidades operativas y de corto plazo, mientras que Inversión y Normalización de Cartera tienen una proporción relevante pero menor. Esta distribución sugiere que FINAGRO prioriza garantizar la continuidad operativa de sus clientes, lo que puede ser crucial para sectores dependientes de financiamiento recurrente o en contextos económicos desafiantes.\n",
    "    ***Pregunta de indagación:*** Analizar si la proporción de créditos para 'Capital de Trabajo' ha crecido o disminuido con el tiempo para identificar tendencias o cambios en las prioridades de financiamiento.\n",
    "\n",
    "- **Para 'linea_de_produccion' :** La variable refleja una clasificación diversa de actividades financiables (17 categorías) con un predominio moderado de 'SOSTENIMIENTO(CT)', que representa el 24% de las operaciones de crédito. Esto sugiere un enfoque significativo en ayudar a mantener la operatividad diaria de los tipos de proyectos beneficiados, sin embargo es necesario indagar sobre la proporción representativa de las demás categorías para saber si FINAGRO realiza esfuerzos por diversificar el financiamiento según las necesidades específicas de las líneas de crédito. Este posible equilibrio permitirá concluir si la institución financiera puede atender tanto necesidades inmediatas como objetivos a largo plazo.\n",
    "    ***Pregunta de indagación:*** Identificar cuáles de las otras 16 actividades financiables tienen participaciones relevantes o representan nichos estratégicos para el desarrollo.\n",
    "\n",
    "- **Para 'genero' :** La variable muestra un predominio de créditos otorgados a hombres (59% del total), lo que es consistente con patrones tradicionales del sector agropecuario. Sin embargo, es necesario consultar la participación del 41% restante, distribuida entre mujeres y personas jurídicas, si llega a ser significativa y refleja avances hacia una mayor diversificación en los beneficiarios de créditos. Es importante seguir promoviendo la inclusión financiera de mujeres y el fortalecimiento de entidades jurídicas, especialmente en el contexto de proyectos agropecuarios más estructurados o de mayor impacto.\n",
    "    ***Pregunta de indagación:*** Evaluar si ha habido cambios en la proporción de créditos otorgados a mujeres y personas jurídicas en los últimos años, lo que podría indicar avances en inclusión y equidad."
   ]
  },
  {
   "cell_type": "markdown",
   "id": "041a3913-dbeb-46e8-86b3-8f3f8f02598b",
   "metadata": {},
   "source": [
    "### 1. 'fuente_colocacion': Visualizar la distribución estadística de los datos"
   ]
  },
  {
   "cell_type": "markdown",
   "id": "72b152df-9fc9-47de-8364-2d986f01d8e8",
   "metadata": {},
   "source": [
    "##### Como se va a utilizar el mismo gráfico de torta para analizar diferentes variables, se creará una función que permita automatizar el proceso de ploteo."
   ]
  },
  {
   "cell_type": "code",
   "execution_count": 253,
   "id": "162a725b-80aa-48f2-92e4-d2842f2e608e",
   "metadata": {},
   "outputs": [],
   "source": [
    "def pieplot_automatico(df_name,column_name,labels_list,title,**kwargs):\n",
    "    \n",
    "# Configuracion del tamaño de la figura para el gráfico de pastel\n",
    "    plt.figure(figsize=(4, 4))  \n",
    "\n",
    "# Obtener el conteo de valores en la columna 'fuente_colocacion' y restablecer el índice\n",
    "    column_name_count = df_name[column_name].value_counts().reset_index()\n",
    "\n",
    "# Crear el gráfico de pastel\n",
    "    plt.pie(\n",
    "        data=column_name_count,  # Datos para el gráfico\n",
    "        x='count',                     # Columna que contiene los valores para calcular las proporciones\n",
    "        labels=labels_list,  # Etiquetas de las secciones\n",
    "        autopct='%1.2f%%',             # Formato para mostrar porcentajes con 2 decimales\n",
    "        wedgeprops={'edgecolor': 'black', 'linewidth': 0.5},  # Propiedades de las cuñas (bordes)\n",
    "        textprops={'fontsize': 10, 'color': 'black'},  # Propiedades del texto (tamaño y color)\n",
    "        **kwargs \n",
    "    )\n",
    "\n",
    "# Agregar el título del gráfico\n",
    "    plt.title(title)\n",
    "\n",
    "# Mostrar el gráfico\n",
    "    plt.show()"
   ]
  },
  {
   "cell_type": "code",
   "execution_count": 254,
   "id": "8d8da3c7-033b-4b91-9e96-3a9d49761f1d",
   "metadata": {},
   "outputs": [
    {
     "data": {
      "image/png": "[encoded data removed]",
      "text/plain": [
       "<Figure size 400x400 with 1 Axes>"
      ]
     },
     "metadata": {},
     "output_type": "display_data"
    }
   ],
   "source": [
    "# Utilizamos la función creada anteriormente para crear un gráfico de torta para la variable 'fuente_colocacion'\n",
    "\n",
    "labels = ['Redescuento', 'Sustituta', 'Agropecuaria'] # Definimos las etiquetas a utilizar\n",
    "\n",
    "pieplot_automatico(df,'fuente_colocacion',labels,'Proporción de colocación de créditos según la fuente de fondeo')"
   ]
  },
  {
   "cell_type": "markdown",
   "id": "af004475-d18b-43fc-b71f-b4aff4912c8e",
   "metadata": {},
   "source": [
    "<div class=\"alert alert-block alert-info\">\n",
    "    <b>✅</b><b>HALLAZGOS IMPORTANTES:</b> \n",
    "</div>\n",
    "\n",
    " > Las colocaciones de créditos realizadas a partir del fondeo por ***redescuento*** es el tipo de operación crediticia más representativa, estando muy por encima de las otras fuentes de fondeo como el ***sustituto***, el cual solo se utilizó solo el 28.65% de las veces; seguido del fondo netamento ***agropecuario*** que muestra una muy baja representatividad entre los datos, habiendo fondeado solo el 0,61% de las operaciones de crédito en el periodo analizado."
   ]
  },
  {
   "cell_type": "markdown",
   "id": "7e5abff6-a246-4f3d-a713-5058fb1cdab6",
   "metadata": {},
   "source": [
    "### 2. 'tipo_productor': Visualizar la distribución estadística de los datos"
   ]
  },
  {
   "cell_type": "code",
   "execution_count": 260,
   "id": "1766de18-8c0a-4062-9487-4a3f62d478a2",
   "metadata": {},
   "outputs": [
    {
     "data": {
      "image/png": "[encoded data removed]",
      "text/plain": [
       "<Figure size 400x400 with 1 Axes>"
      ]
     },
     "metadata": {},
     "output_type": "display_data"
    }
   ],
   "source": [
    "# Utilizamos la función creada anteriormente para crear un gráfico de torta para la variable 'tipo_productor'\n",
    "\n",
    "labels = ['PEQUEÑO', 'PEQUEÑO PPIB', 'MEDIANO', 'GRANDE'] # Definimos las etiquetas a utilizar\n",
    "\n",
    "pieplot_automatico(df,'tipo_productor',labels,'Distribución de colocación de créditos según el tamaño del productor')"
   ]
  },
  {
   "cell_type": "markdown",
   "id": "87fdfaf2-9bf5-4493-84bd-9c0427a12ce6",
   "metadata": {},
   "source": [
    "<div class=\"alert alert-block alert-info\">\n",
    "    <b>✅</b><b>HALLAZGOS IMPORTANTES:</b> \n",
    "</div>\n",
    "\n",
    " > La mayoría de los sujetos de créditos son pequeños productores del sector agropecuario, los que representan el 59.74% de la población que adquirió un crédito con FINAGRO; seguido de los pequeños productores con ingresos demasiados bajos o microproductores, que conforman el 24% de la población. Por otro lado, los productores de tamaño Mediano solo adquirieron el 12,41% del total de créditos otorgados. Mientras tanto, los Grandes productores solo representan el 3,86% de la población. Esto indica que los programas de desarrollo rural y agropecuario beneficiaron mayoritariamente a las MiPymes en el pais, lo que es esperable teniendo en cuenta la distribución de empresas con actividades económicas en el sector agropecuario, según su tamaño."
   ]
  },
  {
   "cell_type": "markdown",
   "id": "118d20d9-819a-4d3e-9297-fc39c710c90f",
   "metadata": {},
   "source": [
    "### 3. 'departamento_inversion': Visualizar la distribución estadística de los datos"
   ]
  },
  {
   "cell_type": "code",
   "execution_count": 268,
   "id": "d476864a-5aee-443c-aa70-1fb2ec3890ca",
   "metadata": {},
   "outputs": [
    {
     "data": {
      "image/png": "[encoded data removed]",
      "text/plain": [
       "<Figure size 1500x500 with 1 Axes>"
      ]
     },
     "metadata": {},
     "output_type": "display_data"
    }
   ],
   "source": [
    "# creación de un dataframe con los porcentajes de contribución por inversión en departamentos\n",
    "departamento_inversion_count = df['departamento_inversion'].value_counts()\n",
    "departamento_inversion_porcentaje = (departamento_inversion_count / departamento_inversion_count.sum())*100\n",
    "departamentos = departamento_inversion_porcentaje.index\n",
    "porcentajes = departamento_inversion_porcentaje.values\n",
    "# Se crea la gráfica con pyplot\n",
    "plt.figure(figsize=(15, 5))\n",
    "bars = plt.bar(x=departamentos, height=porcentajes, \n",
    "        color='skyblue', edgecolor='black', width=0.6)\n",
    "\n",
    "# Etiquetas y título\n",
    "plt.xticks(rotation=90, fontsize=10)\n",
    "plt.yticks(fontsize=10)\n",
    "plt.ylabel('Valores en porcentaje (%)')\n",
    "plt.xlabel ('Departamentos')\n",
    "plt.title('Proporción de valoracion de proyectos por departamento')\n",
    "\n",
    "# Mostrar valores en cada barra\n",
    "for bar, porcentaje in zip(bars, porcentajes):\n",
    "    altura = bar.get_height()  # Obtener la altura de la barra\n",
    "    plt.text(bar.get_x() + bar.get_width() / 2, altura + 0.2 ,  # Posición (centrada en la barra)\n",
    "             f'{porcentaje:.2f}%', ha='center', va='center', color='black', fontsize=6)\n",
    "\n",
    "# Mostrar la gráfica\n",
    "plt.show()"
   ]
  },
  {
   "cell_type": "markdown",
   "id": "16b3c582-8fec-472c-a716-b94dc8d012e2",
   "metadata": {},
   "source": [
    "<div class=\"alert alert-block alert-info\">\n",
    "    <b>✅</b><b>HALLAZGOS IMPORTANTES:</b> \n",
    "</div>\n",
    "\n",
    " > - El departamento de Antioquia, Boyacá, Cundinamarca y Nariño conforman el top 4 de ubicaciones donde más se presentaron proyectos de inversión en el sector agropecuario, con una proporción de 10.32, 10.19, 9.29 y 8.31 puntos porcentuales respectivamente. Seguido de otros cuatro departamentos que conforman el segundo grupo con contribuciones parecidas, que son: Huila, Santander, Tolíma y Cauca que representan el 6.70, 6.59, 6,0 y 5.87 puntos porcentuales respectivamente.\n",
    "> - Los demás departamento contribuyeron en menor medida por debajo del 4% con la presentación de proyectos. Resaltando el hecho de que Vichada, Vaupés, Guainía, San Andrés y Amazonas tienen menor participación de este tipo de proyectos con solo el 0.12, 0.07, 0.05, 0.04 y 0.03 puntos porcentuales respectivos."
   ]
  },
  {
   "cell_type": "markdown",
   "id": "c5834f85-a95b-4e86-bdc1-2e2eac4122bb",
   "metadata": {},
   "source": [
    "### 4. 'departamento_de_colocacion': Visualizar la distribución estadística de los datos"
   ]
  },
  {
   "cell_type": "code",
   "execution_count": 276,
   "id": "25383b5f-3d7a-4b8f-970d-0fc343471d2c",
   "metadata": {},
   "outputs": [
    {
     "data": {
      "image/png": "[encoded data removed]",
      "text/plain": [
       "<Figure size 1500x500 with 1 Axes>"
      ]
     },
     "metadata": {},
     "output_type": "display_data"
    }
   ],
   "source": [
    "# Creación de un dataframe con los porcentajes de contribución por inversión en departamentos\n",
    "departamento_colocacion_count = df['departamento_de_colocacion'].value_counts()\n",
    "departamento_colocacion_porcentaje = (departamento_colocacion_count / departamento_colocacion_count.sum())*100\n",
    "departamentos = departamento_colocacion_porcentaje.index\n",
    "porcentajes = departamento_colocacion_porcentaje.values\n",
    "# Se crea la gráfica con pyplot\n",
    "plt.figure(figsize=(15, 5))\n",
    "bars = plt.bar(x=departamentos, height=porcentajes, \n",
    "        color='skyblue', edgecolor='black', width=0.6)\n",
    "\n",
    "# Etiquetas y título\n",
    "plt.xticks(rotation=90, fontsize=10)\n",
    "plt.yticks(fontsize=10)\n",
    "plt.ylabel('Valores en porcentaje (%)')\n",
    "plt.xlabel ('Departamentos')\n",
    "plt.title('Proporción de colocación de créditos por departamentos')\n",
    "\n",
    "# Mostrar valores en cada barra\n",
    "for bar, porcentaje in zip(bars, porcentajes):\n",
    "    altura = bar.get_height()  # Obtener la altura de la barra\n",
    "    plt.text(bar.get_x() + bar.get_width() / 2, altura + 0.2 ,  # Posición (centrada en la barra)\n",
    "             f'{porcentaje:.2f}%', ha='center', va='center', color='black', fontsize=6)\n",
    "\n",
    "# Mostrar la gráfica\n",
    "plt.show()"
   ]
  },
  {
   "cell_type": "markdown",
   "id": "ef1c26fc-9d70-4191-970c-bec35f8e5107",
   "metadata": {},
   "source": [
    "<div class=\"alert alert-block alert-info\">\n",
    "    <b>✅</b><b>HALLAZGOS IMPORTANTES:</b> \n",
    "</div>\n",
    "\n",
    " > - El departamento de Antioquia, Boyacá, Cundinamarca y Nariño conforman el top 4 de ubicaciones donde más se realizaron colocaciones de crédito en el sector agropecuario, con una proporción de 10.86, 9,98, 8.90 y 8.14 puntos porcentuales respectivamente. Seguido de otros cuatro departamentos que conforman el segundo grupo con contribuciones parecidas, que son: Huila, Santander, Tolíma y Cauca que representan el 6.59, 6.18, 5.75 y 5.47 puntos porcentuales respectivamente. Esta representatividad es muy similar a la encontrada anteriormente en la presentación de proyectos de inversión, lo cual tiene sentido al intuirce que puede ser variables correlacionadas.\n",
    "> - Los demás departamento tienen representatividad inferior al 5% cada uno. Resaltando el hecho de que nuevamente, similar a lo hallado en el análisis de presentación de proyectos de inversión, Vichada, Vaupés, Amazona, Guainía y San Andrés conforman el grupo de ubicaciones donde menos se realizaron colocaciones de crédito, con contribuciones porcentuales por debajo del 0.2%."
   ]
  },
  {
   "cell_type": "markdown",
   "id": "d63b699a-2120-4595-a4c2-8bfb81a9952e",
   "metadata": {},
   "source": [
    "### 5. 'linea_de_credito': Visualizar la distribución estadística de los datos"
   ]
  },
  {
   "cell_type": "code",
   "execution_count": 284,
   "id": "52a8ee68-7f8d-4f1e-9745-865b42266260",
   "metadata": {},
   "outputs": [
    {
     "data": {
      "image/png": "[encoded data removed]",
      "text/plain": [
       "<Figure size 400x400 with 1 Axes>"
      ]
     },
     "metadata": {},
     "output_type": "display_data"
    }
   ],
   "source": [
    "# Utilizamos la función creada anteriormente para crear un gráfico de torta para la variable 'linea_de_credito'\n",
    "\n",
    "labels = ['Capital de Trabajo', 'Inversión', 'Normalización de Cartera'] # Definimos las etiquetas a utilizar\n",
    "\n",
    "pieplot_automatico(df,'linea_de_credito',labels,'Distribución de los créditos otorgados según destino')"
   ]
  },
  {
   "cell_type": "markdown",
   "id": "f35b4f9b-7647-409e-9476-644d15c2c9b8",
   "metadata": {},
   "source": [
    "<div class=\"alert alert-block alert-info\">\n",
    "    <b>✅</b><b>HALLAZGOS IMPORTANTES:</b> \n",
    "</div>\n",
    "\n",
    " > El 52.44% de los créditos otorgados fueron destinados para capital de trabajo, es decir que más de la mitad de productores en el sector agropecuario requerian financiamiento de sus activos y/o pasivos a corto plazo. Por otro lado, el destino a Inversión en activos fijos representa el segundo destino de los créditos otogrados, con un 37.70% de representatividad. Por último, el 9.86% de las operaciones de créditos registrados hacen referencia a necesidades de normalización de cartera, es decir, requerimientos de reestructuración y consolidación del pago de pasivos financieros contraidos con la institución financiera, anteriormente."
   ]
  },
  {
   "cell_type": "markdown",
   "id": "64ce5440-dd0e-4bb4-b178-a9bcfea25e4c",
   "metadata": {},
   "source": [
    "### 6. 'linea_de_produccion': Visualizar la distribución estadística de los datos"
   ]
  },
  {
   "cell_type": "code",
   "execution_count": 318,
   "id": "4e14053c-1662-4f8e-8a4c-a91fd4c471f0",
   "metadata": {},
   "outputs": [
    {
     "data": {
      "image/png": "[encoded data removed]",
      "text/plain": [
       "<Figure size 1500x500 with 1 Axes>"
      ]
     },
     "metadata": {},
     "output_type": "display_data"
    }
   ],
   "source": [
    "# Creación de un dataframe con el conteo de valores en la columna 'linea_de_produccion' para obtener la frecuencia de cada línea\n",
    "linea_de_produccion_count = df['linea_de_produccion'].value_counts()  # Conteo de cada línea de producción\n",
    "lineas = linea_de_produccion_count.index  # Obtención de las categorías (tipos de línea de producción)\n",
    "recuentos = linea_de_produccion_count.values  # Valores de frecuencia para cada línea de producción\n",
    "\n",
    "# Configuración de la figura para el gráfico de barras\n",
    "plt.figure(figsize=(15, 5))  # Ajuste del tamaño de la figura\n",
    "bars = plt.bar(x=lineas, height=recuentos,  # Crear el gráfico de barras\n",
    "               color='skyblue', edgecolor='black', width=0.6)  # Estilo de las barras\n",
    "\n",
    "# Ajustar las etiquetas de los ejes y el título\n",
    "plt.xticks(rotation=90, fontsize=10)  # Rotar las etiquetas del eje x y ajustar el tamaño de la fuente\n",
    "plt.yticks(fontsize=10)  # Ajustar el tamaño de la fuente en el eje y\n",
    "plt.ylabel('Número de veces que se otorgó')  # Etiqueta del eje y\n",
    "plt.xlabel('Línea de producción')  # Etiqueta del eje x\n",
    "plt.title('Frecuencia de créditos otorgados por línea de producción')  # Título del gráfico\n",
    "\n",
    "# Mostramos los valores de cada linea sobre la barra respectiva\n",
    "for bar, recuento in zip(bars, recuentos):\n",
    "    altura = bar.get_height()  # Obtenemos la altura de la barra\n",
    "    # Colocamos el texto (valor) encima de la barra, centrado en el eje x y ligeramente por encima de la barra\n",
    "    plt.text(bar.get_x() + bar.get_width() / 2, altura + 10000,  # Posición de los valores (centrado sobre la barra)\n",
    "             f'{recuento}', ha='center', va='center', color='black', fontsize=8)  # Estilo del texto\n",
    "\n",
    "# Mostramos correctamente el gráfico\n",
    "plt.show()"
   ]
  },
  {
   "cell_type": "markdown",
   "id": "5cacdb72-1bc9-47e3-b872-7746e6ae1705",
   "metadata": {},
   "source": [
    "<div class=\"alert alert-block alert-info\">\n",
    "    <b>✅</b><b>HALLAZGOS IMPORTANTES:</b> \n",
    "</div>\n",
    "\n",
    " > - Entre los créditos destinados a capital de trabajo, la línea de crédito que más se utilizó fue la de sostenimiento con una frecuencia de uso de 407,041 veces, seguido de la línea de microcrédito simple con una frecuencia de 280,445 veces y la línea de producción con una frecuencia de 145,230 veces.\n",
    " > - Entre los créditos destinados a inversión, la línea de crédito que más se utilizó fue la de siembras, con una frecuencia de uso de 346,439 veces, seguido de la línea para compra de aniamles con una frecuencia de 258,990 veces y la línea para financiamiento de infraestructura & adecuación de tierras que se utilizó 74,665 veces.\n",
    ">  - Entre los créditos destinados a normalización de cartera solo se utilizó una única línea de crédito, denominada 'Consolidación de pasivos', la cual se utilizó solo en 773 ocasiones dentro de las operaciones de crédito registradas. Teniendo esto en cuenta, es posible deducir que la línea de reestructuración de créditos no genera representatividad categórica ya que no generan nuevos créditos."
   ]
  },
  {
   "cell_type": "markdown",
   "id": "b44f1884-bbcf-43ee-898f-5bfa56edfdb0",
   "metadata": {},
   "source": [
    "### 7. 'genero': Visualizar la distribución estadística de los datos"
   ]
  },
  {
   "cell_type": "code",
   "execution_count": 290,
   "id": "00eaa8c9-514b-4859-8274-010f7e7dba32",
   "metadata": {},
   "outputs": [
    {
     "data": {
      "image/png": "[encoded data removed]",
      "text/plain": [
       "<Figure size 400x400 with 1 Axes>"
      ]
     },
     "metadata": {},
     "output_type": "display_data"
    }
   ],
   "source": [
    "# Utilizamos la función creada anteriormente para crear un gráfico de torta para la variable 'genero'\n",
    "\n",
    "labels = ['Hombres','Mujeres','Personas Jurídicas'] # Definimos las etiquetas a utilizar\n",
    "\n",
    "pieplot_automatico(df,'genero',labels,'Proporción de créditos entregados según el género o cualidad legal del sujeto de crédito')"
   ]
  },
  {
   "cell_type": "markdown",
   "id": "1ad11b99-590f-4ab6-a068-2cd2f4351de7",
   "metadata": {},
   "source": [
    "<div class=\"alert alert-block alert-info\">\n",
    "    <b>✅</b><b>HALLAZGOS IMPORTANTES:</b> \n",
    "</div>\n",
    "\n",
    " > El 58.79% de los créditos otorgados fueron a sujetos identificados biológicamente como masculinos. La proporción de mujeres entre la población que recibieron créditos de FINAGRO es solo de del 36.04%, lo que puede indicar una tendencia del género masculino a desarrollar más proyectos en el sector agropecuario pero que debería analizar más detalladamente para corroborar y descartar factores de orígen.\n",
    " > Las personas jurídicas o empresas formalizadas representan solo el 5.17% del total de sujetos beneficiarios de crédito en el periodo de análisis (2023-2024)."
   ]
  },
  {
   "cell_type": "markdown",
   "id": "04f3a0a0-d897-4a64-9548-dc9a04bb26ec",
   "metadata": {},
   "source": [
    "# <b><div style='padding:13px;background-color:#592321;color:white;border-radius:3px;font-size:110%;text-align: left'>5. Gestión de datos atípicos</div></b>"
   ]
  },
  {
   "cell_type": "markdown",
   "id": "fc7adceb-8a3b-4408-b3e1-3f3f8f79be5a",
   "metadata": {},
   "source": [
    "## Objetivo: Realizar la gestión de datos atípicos para futuros modelos predictivos evitando el \"overfitting\".\n",
    "## Actividades:\n",
    "- Crear un dataframe que contenga el dataset oríginal depurado pero libre de \"outliers\" para :\n",
    "    - las variables numéricas"
   ]
  },
  {
   "cell_type": "markdown",
   "id": "c9f71b2d-f3ed-48fa-8a9c-9437b728ff0b",
   "metadata": {},
   "source": [
    "#### <b><div style='padding:13px;background-color:#f3e3e7;color:black;border-radius:3px;font-size:80%;text-align: left'>Los datos atípicos se deben mantener por la naturaleza del análisis. Adicionalmente, no se construirá un modelo predictivo por lo que la preparación del dataset sin estos datos excepcionales se realizará únicamente para comparaciones de \"insights\" </div></b>"
   ]
  },
  {
   "cell_type": "code",
   "execution_count": 2404,
   "id": "2dec54e1-94f8-4219-ba58-1f3663d6a17f",
   "metadata": {},
   "outputs": [],
   "source": [
    "limite_inferior_valor_inversion = 100 # 100 COP es el valor mínimo que se toma como referencia para detectar operaciones crediticias válidas por ajuste \n",
    "mask_valor_inversion = ((df['valor_inversion']>= limite_inferior_valor_inversion) & (df['valor_inversion'] <= limite_superior_valor_inversion))\n",
    "valor_inversion_no_outliers = df[mask_valor_inversion]"
   ]
  },
  {
   "cell_type": "code",
   "execution_count": 2405,
   "id": "4084cc24-24b9-4a88-a81f-fd5e39c94d10",
   "metadata": {},
   "outputs": [],
   "source": [
    "limite_inferior_colocacion = 100 # 100 COP es el valor mínimo que se toma como referencia para detectar operaciones crediticias válidas por ajuste \n",
    "mask_colocacion = ((df['colocacion']>= limite_inferior_colocacion) & (df['colocacion'] <= limite_superior_colocacion))\n",
    "colocacion_no_outliers = df[mask_colocacion]"
   ]
  },
  {
   "cell_type": "code",
   "execution_count": 2408,
   "id": "ab3dd5cc-7bce-4889-a37c-8d630b3e1c0f",
   "metadata": {},
   "outputs": [],
   "source": [
    "limite_inferior_plazo = 1 # 1 mes es el plazo mínimo para cualquier operación de crédito\n",
    "mask_plazo = ((df['plazo']>= limite_inferior_plazo) & (df['plazo'] <= limite_superior_plazo))\n",
    "plazo_no_outliers = df[mask_plazo]"
   ]
  },
  {
   "cell_type": "code",
   "execution_count": 2410,
   "id": "3a957fe2-ce2f-4a30-8927-953df4571e66",
   "metadata": {},
   "outputs": [],
   "source": [
    "limite_inferior_vlr_inic_garantia = 100 # 100 COP es el valor mínimo que se toma como referencia para detectar operaciones crediticias válidas por ajuste \n",
    "mask_vlr_inic_garantia = ((df['vlr_inic_garantia']>= limite_inferior_vlr_inic_garantia) & (df['vlr_inic_garantia'] <= limite_superior_vlr_inic_garantia))\n",
    "vlr_inic_garantia_no_outliers = df[mask_vlr_inic_garantia]"
   ]
  },
  {
   "cell_type": "code",
   "execution_count": 2412,
   "id": "87736d0a-5af5-4335-8080-892408fffd8b",
   "metadata": {},
   "outputs": [],
   "source": [
    "df_no_outliers = df[(mask_valor_inversion & mask_colocacion & mask_plazo & mask_vlr_inic_garantia)]"
   ]
  },
  {
   "cell_type": "code",
   "execution_count": 2428,
   "id": "ac794892-93df-4edd-8166-bf86b2b94232",
   "metadata": {},
   "outputs": [
    {
     "data": {
      "text/html": [
       "<div>\n",
       "<style scoped>\n",
       "    .dataframe tbody tr th:only-of-type {\n",
       "        vertical-align: middle;\n",
       "    }\n",
       "\n",
       "    .dataframe tbody tr th {\n",
       "        vertical-align: top;\n",
       "    }\n",
       "\n",
       "    .dataframe thead th {\n",
       "        text-align: right;\n",
       "    }\n",
       "</style>\n",
       "<table border=\"1\" class=\"dataframe\">\n",
       "  <thead>\n",
       "    <tr style=\"text-align: right;\">\n",
       "      <th></th>\n",
       "      <th>valor_inversion</th>\n",
       "      <th>colocacion</th>\n",
       "      <th>plazo</th>\n",
       "      <th>vlr_inic_garantia</th>\n",
       "    </tr>\n",
       "  </thead>\n",
       "  <tbody>\n",
       "    <tr>\n",
       "      <th>count</th>\n",
       "      <td>1020635.00</td>\n",
       "      <td>1020635.00</td>\n",
       "      <td>1020635.00</td>\n",
       "      <td>1020635.00</td>\n",
       "    </tr>\n",
       "    <tr>\n",
       "      <th>mean</th>\n",
       "      <td>11113422.63</td>\n",
       "      <td>10744481.93</td>\n",
       "      <td>53.52</td>\n",
       "      <td>8758335.74</td>\n",
       "    </tr>\n",
       "    <tr>\n",
       "      <th>std</th>\n",
       "      <td>7273707.27</td>\n",
       "      <td>7039523.62</td>\n",
       "      <td>30.53</td>\n",
       "      <td>5794420.77</td>\n",
       "    </tr>\n",
       "    <tr>\n",
       "      <th>min</th>\n",
       "      <td>104000.00</td>\n",
       "      <td>104000.00</td>\n",
       "      <td>1.00</td>\n",
       "      <td>83200.00</td>\n",
       "    </tr>\n",
       "    <tr>\n",
       "      <th>25%</th>\n",
       "      <td>5000000.00</td>\n",
       "      <td>5000000.00</td>\n",
       "      <td>36.00</td>\n",
       "      <td>4000000.00</td>\n",
       "    </tr>\n",
       "    <tr>\n",
       "      <th>50%</th>\n",
       "      <td>10000000.00</td>\n",
       "      <td>10000000.00</td>\n",
       "      <td>60.00</td>\n",
       "      <td>8000000.00</td>\n",
       "    </tr>\n",
       "    <tr>\n",
       "      <th>75%</th>\n",
       "      <td>15000000.00</td>\n",
       "      <td>15000000.00</td>\n",
       "      <td>72.00</td>\n",
       "      <td>12000000.00</td>\n",
       "    </tr>\n",
       "    <tr>\n",
       "      <th>max</th>\n",
       "      <td>44000000.00</td>\n",
       "      <td>39600000.00</td>\n",
       "      <td>151.00</td>\n",
       "      <td>25334400.00</td>\n",
       "    </tr>\n",
       "  </tbody>\n",
       "</table>\n",
       "</div>"
      ],
      "text/plain": [
       "      valor_inversion   colocacion       plazo vlr_inic_garantia\n",
       "count      1020635.00   1020635.00  1020635.00        1020635.00\n",
       "mean      11113422.63  10744481.93       53.52        8758335.74\n",
       "std        7273707.27   7039523.62       30.53        5794420.77\n",
       "min         104000.00    104000.00        1.00          83200.00\n",
       "25%        5000000.00   5000000.00       36.00        4000000.00\n",
       "50%       10000000.00  10000000.00       60.00        8000000.00\n",
       "75%       15000000.00  15000000.00       72.00       12000000.00\n",
       "max       44000000.00  39600000.00      151.00       25334400.00"
      ]
     },
     "execution_count": 2428,
     "metadata": {},
     "output_type": "execute_result"
    }
   ],
   "source": [
    "df_no_outliers[['valor_inversion','colocacion','plazo','vlr_inic_garantia']].describe().map(\"{:.2f}\".format)"
   ]
  },
  {
   "cell_type": "code",
   "execution_count": null,
   "id": "46d44ee3-913f-4740-a679-8dfa7e3391f8",
   "metadata": {},
   "outputs": [],
   "source": [
    "pd.to_csv('dataset_depurado_sin_outliers.csv')"
   ]
  }
 ],
 "metadata": {
  "kernelspec": {
   "display_name": "Python 3 (ipykernel)",
   "language": "python",
   "name": "python3"
  },
  "language_info": {
   "codemirror_mode": {
    "name": "ipython",
    "version": 3
   },
   "file_extension": ".py",
   "mimetype": "text/x-python",
   "name": "python",
   "nbconvert_exporter": "python",
   "pygments_lexer": "ipython3",
   "version": "3.12.7"
  }
 },
 "nbformat": 4,
 "nbformat_minor": 5
}
